{
 "cells": [
  {
   "cell_type": "markdown",
   "metadata": {},
   "source": [
    "## COVID ANALYSIS PLAN\n",
    "This is a rough document which will hold the entire planning of how the covid-19 analysis project will be executed.\n"
   ]
  },
  {
   "cell_type": "markdown",
   "metadata": {},
   "source": [
    "### ROUGH PLAN\n",
    "\n",
    "#### Extract data\n",
    "* The [CSSEGISandData](https://github.com/CSSEGISandData/COVID-19) datasets will be used.\n",
    "* The git repo has mulitple datasets:-\n",
    "    * The [CSSE COVID-19 DATA](https://github.com/CSSEGISandData/COVID-19/tree/master/csse_covid_19_data)\n",
    "        * Daily reports.\n",
    "        * Time Series data.\n",
    "    * The [WHO COVID-19 SITUATION REPORTS](https://github.com/CSSEGISandData/COVID-19/tree/master/who_covid_19_situation_reports)\n",
    "* The Daily Reports data form CSSE will be used for giving reports of the covid on the gui based on dates and number of dates.\n",
    "* The Time Series data will be used for time series forecasting and Ebola, Sars comparison.\n",
    "* The later consists of all types of cases i.e. Confirmed, Death, Active cases.\n",
    "* The WHO SITUATION REPORTS consists of time series data which I don't know where I'll use."
   ]
  },
  {
   "cell_type": "markdown",
   "metadata": {},
   "source": [
    "#### Building a analysis model\n",
    "* In this step I will perform all the analysis possible, all that I can think of and try to answer the questions which I can come across on the internet.\n",
    "* This will include plotting graphs and scatter plots (especially on the geopandas maps / folium maps)\n",
    "* This part will also include the Ebola, Sars, Covid and Mers comparison.\n",
    "    * Which one has greater influence on which regions.\n",
    "    * The growth reate of each of them based on number of days after the first case i.e. the first date in the dataset.\n",
    "    * Probably their protein comparison in Biopython.\n",
    "*  Which regions were most affected on which dates, in which months.\n",
    "* Finding more questions and insigths to figure out. "
   ]
  },
  {
   "cell_type": "markdown",
   "metadata": {},
   "source": [
    "#### Desigining and Interactive Interface to Visualize the Data.\n",
    "* Will have to learn number of plotting modules and graph formats.\n",
    "* All of this data will be availble on Plottly, Dash and [Flourish Studio](https://app.flourish.studio/login), \n",
    "* Also in Tkinter GUI if possible."
   ]
  },
  {
   "cell_type": "markdown",
   "metadata": {},
   "source": [
    "The entire journey will be noted down here.\n",
    "\n",
    "Today is 25/06/2020.\n",
    "\n",
    "From tomorrow onwards the project will begin.<br>\n",
    "My first project."
   ]
  },
  {
   "cell_type": "markdown",
   "metadata": {},
   "source": [
    "# FORMAT OF THE JOURNAL:-\n",
    "### DATE\n",
    "\n",
    "#### TASK 1\n",
    "Explanation of Task 1\n",
    "\n",
    "#### TASK 2\n",
    "Explanation of Task 2\n",
    "\n",
    "#### TASK 3\n",
    "Explanation of Task 3\n",
    "\n",
    "...\n",
    "\n",
    "#### TASK N\n",
    "Explanation of Task N"
   ]
  },
  {
   "cell_type": "markdown",
   "metadata": {},
   "source": [
    "### 02/07/2020\n",
    "\n",
    "#### TASK 1 - EXTRACTING RAW DATA FROM THE CSSEGISandData.\n",
    "* Accessed the raw format data of confirmed, death and recovered reports and converted them into pandas dataframe.\n",
    "* Tried to analyse the data visualize the data.\n",
    "\n",
    "#### TASK 2 - TRANSFORMING THE DATA.\n",
    "* Tried to melt the dataframe and convert the date columns into a single column **Date** with mulitple rows as the date values.\n",
    "* The numerical variable formed was named as **Counts** indicating the counts of cases of particular type.\n",
    "\n",
    "#### TASK 3 - PERFORMING DATA ANALYSIS.\n",
    "* Tried to plot data.\n",
    "    * Trend in total number of global cases per day.\n",
    "    * Trend in totlal number of cases in a paticular region e.g. **India, US, China, Afghanistan**.<br>Though I failed to get a perfect graph"
   ]
  },
  {
   "cell_type": "markdown",
   "metadata": {},
   "source": [
    "### 03/07/2020\n",
    "#### TASK 1 - DID NOTHING SIGNIFICANT.\n",
    "* Tried to list out the number of tasks that can be done in this project.\n",
    "* Need to think of more such problems and solutions to them.\n",
    "* Need to think of more ways to represent data.\n",
    "* Need to think of more data to be extracted."
   ]
  },
  {
   "cell_type": "markdown",
   "metadata": {},
   "source": []
  },
  {
   "cell_type": "markdown",
   "metadata": {},
   "source": []
  }
 ],
 "metadata": {
  "kernelspec": {
   "display_name": "Python 3",
   "language": "python",
   "name": "python3"
  },
  "language_info": {
   "codemirror_mode": {
    "name": "ipython",
    "version": 3
   },
   "file_extension": ".py",
   "mimetype": "text/x-python",
   "name": "python",
   "nbconvert_exporter": "python",
   "pygments_lexer": "ipython3",
   "version": "3.7.7"
  }
 },
 "nbformat": 4,
 "nbformat_minor": 4
}
