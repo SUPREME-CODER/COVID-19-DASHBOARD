{
 "cells": [
  {
   "cell_type": "markdown",
   "metadata": {},
   "source": [
    "<span style=\"color:yellow\"> The term <span style=\"color:magenta\"><strong>cases</strong></span> will be used to indicate all types of cases i.e. <strong>Confirmed, Death and Recovered</strong>.<br>In case of a specific type of case, the type will be mentioned explicitly.</span>\n",
    "### DATA TO BE REPRESENTED:-\n",
    "1. Number of cases on a given day:-\n",
    "    1. Globally.\n",
    "    2. In a particular Country / Region.\n",
    "    3. Filetering based on a given count i.e. > 1000 cases etc.\n",
    "    4. Sorting in a partcular order.\n",
    "2. Number of cases in span of some days:-\n",
    "    1. Globally.\n",
    "    2. In a particular Country / Region.\n",
    "    3. Filetering based on a given count i.e. > 1 Lac cases etc.\n",
    "    4. Sorting in a partcular order.\n",
    "3. Displaying cases on a map:-\n",
    "    1. Entire world map.\n",
    "    2. A particular country / region.\n",
    "    3. Displaying regions with some threshold number of cases i.e. > 1 Lac cases etc.\n",
    "    4. Types of cases differentiated based on colors.\n",
    "    5. Types of cases differentiated based on range of cases i.e. 0 - 10000, 10000 - 1 lac etc.\n",
    "4. Think of different types of graphs that can be used:-\n",
    "    1. Line graphs\n",
    "    2. Scatter plots.\n",
    "    3. Pie charts.\n",
    "    4. World maps.\n",
    "5. A race among the countries based on the number of active covid cases. (Horizontal bar charts)\n",
    "6. Current  / Live data of countries / regions.\n",
    "7. Give short summarized forms of covid articles.\n",
    "8. Provide relevant covid research papers."
   ]
  },
  {
   "cell_type": "markdown",
   "metadata": {},
   "source": [
    "## IMPORTING DEPENDENCIES"
   ]
  },
  {
   "cell_type": "code",
   "execution_count": 18,
   "metadata": {},
   "outputs": [],
   "source": [
    "import pandas as pd\n",
    "import numpy as np\n",
    "import matplotlib.pyplot as mp\n",
    "import geopandas as gpd\n",
    "import folium as fl\n",
    "%matplotlib inline"
   ]
  },
  {
   "cell_type": "code",
   "execution_count": 20,
   "metadata": {},
   "outputs": [],
   "source": [
    "mp.style.use('fivethirtyeight')\n",
    "pd.set_option('float_format', '{:f}'.format)\n",
    "pd.set_option('display.max_rows', 50)\n",
    "\n",
    "# COLOR = 'black'\n",
    "# mp.rcParams['text.color'] = COLOR\n",
    "# mp.rcParams['axes.labelcolor'] = COLOR\n",
    "# mp.rcParams['xtick.color'] = COLOR\n",
    "# mp.rcParams['ytick.color'] = COLOR"
   ]
  },
  {
   "cell_type": "code",
   "execution_count": 10,
   "metadata": {},
   "outputs": [],
   "source": [
    "# mp.style.available"
   ]
  },
  {
   "cell_type": "markdown",
   "metadata": {},
   "source": [
    "## COVID DATA URLS"
   ]
  },
  {
   "cell_type": "markdown",
   "metadata": {},
   "source": [
    "#### IMPORTING DATA"
   ]
  },
  {
   "cell_type": "code",
   "execution_count": 8,
   "metadata": {},
   "outputs": [],
   "source": [
    "def create_data(urls):\n",
    "    types = ['Confirmed', 'Death', 'Recovered']\n",
    "    data = []\n",
    "    for url, type_of_case in zip(urls, types):\n",
    "        raw_data = pd.read_csv(url)\n",
    "        melted_data = pd.melt(raw_data,\n",
    "                              id_vars = ['Province/State', 'Country/Region', 'Lat', 'Long'],\n",
    "                              var_name = 'Date',\n",
    "                              value_name = type_of_case)\n",
    "        data.append(melted_data)\n",
    "    final_data = data[0].join(data[1]['Death']).join(data[2]['Recovered'])\n",
    "    return final_data"
   ]
  },
  {
   "cell_type": "code",
   "execution_count": 4,
   "metadata": {},
   "outputs": [],
   "source": [
    "confirmed_url = 'https://raw.githubusercontent.com/CSSEGISandData/COVID-19/master/csse_covid_19_data/csse_covid_19_time_series/time_series_covid19_confirmed_global.csv'\n",
    "deaths_url = 'https://raw.githubusercontent.com/CSSEGISandData/COVID-19/master/csse_covid_19_data/csse_covid_19_time_series/time_series_covid19_deaths_global.csv'\n",
    "recovered_url = 'https://raw.githubusercontent.com/CSSEGISandData/COVID-19/master/csse_covid_19_data/csse_covid_19_time_series/time_series_covid19_recovered_global.csv'"
   ]
  },
  {
   "cell_type": "code",
   "execution_count": 26,
   "metadata": {},
   "outputs": [],
   "source": [
    "covid_data = create_data([confirmed_url, deaths_url, recovered_url])\n",
    "covid_data_by_date = covid_data.groupby('Date').sum()"
   ]
  },
  {
   "cell_type": "code",
   "execution_count": 10,
   "metadata": {},
   "outputs": [
    {
     "data": {
      "text/html": [
       "<div>\n",
       "<style scoped>\n",
       "    .dataframe tbody tr th:only-of-type {\n",
       "        vertical-align: middle;\n",
       "    }\n",
       "\n",
       "    .dataframe tbody tr th {\n",
       "        vertical-align: top;\n",
       "    }\n",
       "\n",
       "    .dataframe thead th {\n",
       "        text-align: right;\n",
       "    }\n",
       "</style>\n",
       "<table border=\"1\" class=\"dataframe\">\n",
       "  <thead>\n",
       "    <tr style=\"text-align: right;\">\n",
       "      <th></th>\n",
       "      <th>Province/State</th>\n",
       "      <th>Country/Region</th>\n",
       "      <th>Lat</th>\n",
       "      <th>Long</th>\n",
       "      <th>Date</th>\n",
       "      <th>Confirmed</th>\n",
       "      <th>Death</th>\n",
       "      <th>Recovered</th>\n",
       "    </tr>\n",
       "  </thead>\n",
       "  <tbody>\n",
       "    <tr>\n",
       "      <th>0</th>\n",
       "      <td>NaN</td>\n",
       "      <td>Afghanistan</td>\n",
       "      <td>33.0000</td>\n",
       "      <td>65.0000</td>\n",
       "      <td>1/22/20</td>\n",
       "      <td>0</td>\n",
       "      <td>0</td>\n",
       "      <td>0.0</td>\n",
       "    </tr>\n",
       "    <tr>\n",
       "      <th>1</th>\n",
       "      <td>NaN</td>\n",
       "      <td>Albania</td>\n",
       "      <td>41.1533</td>\n",
       "      <td>20.1683</td>\n",
       "      <td>1/22/20</td>\n",
       "      <td>0</td>\n",
       "      <td>0</td>\n",
       "      <td>0.0</td>\n",
       "    </tr>\n",
       "    <tr>\n",
       "      <th>2</th>\n",
       "      <td>NaN</td>\n",
       "      <td>Algeria</td>\n",
       "      <td>28.0339</td>\n",
       "      <td>1.6596</td>\n",
       "      <td>1/22/20</td>\n",
       "      <td>0</td>\n",
       "      <td>0</td>\n",
       "      <td>0.0</td>\n",
       "    </tr>\n",
       "    <tr>\n",
       "      <th>3</th>\n",
       "      <td>NaN</td>\n",
       "      <td>Andorra</td>\n",
       "      <td>42.5063</td>\n",
       "      <td>1.5218</td>\n",
       "      <td>1/22/20</td>\n",
       "      <td>0</td>\n",
       "      <td>0</td>\n",
       "      <td>0.0</td>\n",
       "    </tr>\n",
       "    <tr>\n",
       "      <th>4</th>\n",
       "      <td>NaN</td>\n",
       "      <td>Angola</td>\n",
       "      <td>-11.2027</td>\n",
       "      <td>17.8739</td>\n",
       "      <td>1/22/20</td>\n",
       "      <td>0</td>\n",
       "      <td>0</td>\n",
       "      <td>0.0</td>\n",
       "    </tr>\n",
       "  </tbody>\n",
       "</table>\n",
       "</div>"
      ],
      "text/plain": [
       "  Province/State Country/Region      Lat     Long     Date  Confirmed  Death  \\\n",
       "0            NaN    Afghanistan  33.0000  65.0000  1/22/20          0      0   \n",
       "1            NaN        Albania  41.1533  20.1683  1/22/20          0      0   \n",
       "2            NaN        Algeria  28.0339   1.6596  1/22/20          0      0   \n",
       "3            NaN        Andorra  42.5063   1.5218  1/22/20          0      0   \n",
       "4            NaN         Angola -11.2027  17.8739  1/22/20          0      0   \n",
       "\n",
       "   Recovered  \n",
       "0        0.0  \n",
       "1        0.0  \n",
       "2        0.0  \n",
       "3        0.0  \n",
       "4        0.0  "
      ]
     },
     "execution_count": 10,
     "metadata": {},
     "output_type": "execute_result"
    }
   ],
   "source": [
    "covid_data.head()"
   ]
  },
  {
   "cell_type": "code",
   "execution_count": 28,
   "metadata": {},
   "outputs": [
    {
     "data": {
      "text/plain": [
       "<matplotlib.legend.Legend at 0x2de243d8108>"
      ]
     },
     "execution_count": 28,
     "metadata": {},
     "output_type": "execute_result"
    },
    {
     "data": {
      "image/png": "[encoded data removed]",
      "text/plain": [
       "<Figure size 720x504 with 1 Axes>"
      ]
     },
     "metadata": {},
     "output_type": "display_data"
    }
   ],
   "source": [
    "mp.figure(figsize = (10, 7))\n",
    "mp.ylabel('Global Confirmed Cases')\n",
    "mp.xlabel('Date')\n",
    "covid_data_by_date['Confirmed'].plot()\n",
    "covid_data_by_date['Death'].plot()\n",
    "covid_data_by_date['Recovered'].plot()\n",
    "mp.legend()"
   ]
  },
  {
   "cell_type": "code",
   "execution_count": 22,
   "metadata": {},
   "outputs": [],
   "source": [
    "import plotly.express as px"
   ]
  },
  {
   "cell_type": "code",
   "execution_count": 25,
   "metadata": {},
   "outputs": [
    {
     "data": {
      "application/vnd.plotly.v1+json": {
       "config": {
        "plotlyServerURL": "https://plot.ly"
       },
       "data": [
        {
         "hovertemplate": "Date=1/22/20<br>index=%{x}<br>value=%{y}<extra></extra>",
         "legendgroup": "1/22/20",
         "line": {
          "color": "#636efa",
          "dash": "solid"
         },
         "mode": "lines",
         "name": "1/22/20",
         "orientation": "v",
         "showlegend": true,
         "type": "scatter",
         "x": [
          "Confirmed",
          "Death",
          "Recovered"
         ],
         "xaxis": "x",
         "y": [
          555,
          17,
          28
         ],
         "yaxis": "y"
        },
        {
         "hovertemplate": "Date=1/23/20<br>index=%{x}<br>value=%{y}<extra></extra>",
         "legendgroup": "1/23/20",
         "line": {
          "color": "#EF553B",
          "dash": "solid"
         },
         "mode": "lines",
         "name": "1/23/20",
         "orientation": "v",
         "showlegend": true,
         "type": "scatter",
         "x": [
          "Confirmed",
          "Death",
          "Recovered"
         ],
         "xaxis": "x",
         "y": [
          654,
          18,
          30
         ],
         "yaxis": "y"
        },
        {
         "hovertemplate": "Date=1/24/20<br>index=%{x}<br>value=%{y}<extra></extra>",
         "legendgroup": "1/24/20",
         "line": {
          "color": "#00cc96",
          "dash": "solid"
         },
         "mode": "lines",
         "name": "1/24/20",
         "orientation": "v",
         "showlegend": true,
         "type": "scatter",
         "x": [
          "Confirmed",
          "Death",
          "Recovered"
         ],
         "xaxis": "x",
         "y": [
          941,
          26,
          36
         ],
         "yaxis": "y"
        },
        {
         "hovertemplate": "Date=1/25/20<br>index=%{x}<br>value=%{y}<extra></extra>",
         "legendgroup": "1/25/20",
         "line": {
          "color": "#ab63fa",
          "dash": "solid"
         },
         "mode": "lines",
         "name": "1/25/20",
         "orientation": "v",
         "showlegend": true,
         "type": "scatter",
         "x": [
          "Confirmed",
          "Death",
          "Recovered"
         ],
         "xaxis": "x",
         "y": [
          1434,
          42,
          43
         ],
         "yaxis": "y"
        },
        {
         "hovertemplate": "Date=1/26/20<br>index=%{x}<br>value=%{y}<extra></extra>",
         "legendgroup": "1/26/20",
         "line": {
          "color": "#FFA15A",
          "dash": "solid"
         },
         "mode": "lines",
         "name": "1/26/20",
         "orientation": "v",
         "showlegend": true,
         "type": "scatter",
         "x": [
          "Confirmed",
          "Death",
          "Recovered"
         ],
         "xaxis": "x",
         "y": [
          2118,
          56,
          102
         ],
         "yaxis": "y"
        },
        {
         "hovertemplate": "Date=1/27/20<br>index=%{x}<br>value=%{y}<extra></extra>",
         "legendgroup": "1/27/20",
         "line": {
          "color": "#19d3f3",
          "dash": "solid"
         },
         "mode": "lines",
         "name": "1/27/20",
         "orientation": "v",
         "showlegend": true,
         "type": "scatter",
         "x": [
          "Confirmed",
          "Death",
          "Recovered"
         ],
         "xaxis": "x",
         "y": [
          2927,
          82,
          108
         ],
         "yaxis": "y"
        },
        {
         "hovertemplate": "Date=1/28/20<br>index=%{x}<br>value=%{y}<extra></extra>",
         "legendgroup": "1/28/20",
         "line": {
          "color": "#FF6692",
          "dash": "solid"
         },
         "mode": "lines",
         "name": "1/28/20",
         "orientation": "v",
         "showlegend": true,
         "type": "scatter",
         "x": [
          "Confirmed",
          "Death",
          "Recovered"
         ],
         "xaxis": "x",
         "y": [
          5578,
          131,
          126
         ],
         "yaxis": "y"
        },
        {
         "hovertemplate": "Date=1/29/20<br>index=%{x}<br>value=%{y}<extra></extra>",
         "legendgroup": "1/29/20",
         "line": {
          "color": "#B6E880",
          "dash": "solid"
         },
         "mode": "lines",
         "name": "1/29/20",
         "orientation": "v",
         "showlegend": true,
         "type": "scatter",
         "x": [
          "Confirmed",
          "Death",
          "Recovered"
         ],
         "xaxis": "x",
         "y": [
          6166,
          133,
          143
         ],
         "yaxis": "y"
        },
        {
         "hovertemplate": "Date=1/30/20<br>index=%{x}<br>value=%{y}<extra></extra>",
         "legendgroup": "1/30/20",
         "line": {
          "color": "#FF97FF",
          "dash": "solid"
         },
         "mode": "lines",
         "name": "1/30/20",
         "orientation": "v",
         "showlegend": true,
         "type": "scatter",
         "x": [
          "Confirmed",
          "Death",
          "Recovered"
         ],
         "xaxis": "x",
         "y": [
          8234,
          171,
          222
         ],
         "yaxis": "y"
        },
        {
         "hovertemplate": "Date=1/31/20<br>index=%{x}<br>value=%{y}<extra></extra>",
         "legendgroup": "1/31/20",
         "line": {
          "color": "#FECB52",
          "dash": "solid"
         },
         "mode": "lines",
         "name": "1/31/20",
         "orientation": "v",
         "showlegend": true,
         "type": "scatter",
         "x": [
          "Confirmed",
          "Death",
          "Recovered"
         ],
         "xaxis": "x",
         "y": [
          9927,
          213,
          283
         ],
         "yaxis": "y"
        },
        {
         "hovertemplate": "Date=2/1/20<br>index=%{x}<br>value=%{y}<extra></extra>",
         "legendgroup": "2/1/20",
         "line": {
          "color": "#636efa",
          "dash": "solid"
         },
         "mode": "lines",
         "name": "2/1/20",
         "orientation": "v",
         "showlegend": true,
         "type": "scatter",
         "x": [
          "Confirmed",
          "Death",
          "Recovered"
         ],
         "xaxis": "x",
         "y": [
          12038,
          259,
          473
         ],
         "yaxis": "y"
        },
        {
         "hovertemplate": "Date=2/10/20<br>index=%{x}<br>value=%{y}<extra></extra>",
         "legendgroup": "2/10/20",
         "line": {
          "color": "#EF553B",
          "dash": "solid"
         },
         "mode": "lines",
         "name": "2/10/20",
         "orientation": "v",
         "showlegend": true,
         "type": "scatter",
         "x": [
          "Confirmed",
          "Death",
          "Recovered"
         ],
         "xaxis": "x",
         "y": [
          42768,
          1013,
          4683
         ],
         "yaxis": "y"
        },
        {
         "hovertemplate": "Date=2/11/20<br>index=%{x}<br>value=%{y}<extra></extra>",
         "legendgroup": "2/11/20",
         "line": {
          "color": "#00cc96",
          "dash": "solid"
         },
         "mode": "lines",
         "name": "2/11/20",
         "orientation": "v",
         "showlegend": true,
         "type": "scatter",
         "x": [
          "Confirmed",
          "Death",
          "Recovered"
         ],
         "xaxis": "x",
         "y": [
          44810,
          1113,
          5158
         ],
         "yaxis": "y"
        },
        {
         "hovertemplate": "Date=2/12/20<br>index=%{x}<br>value=%{y}<extra></extra>",
         "legendgroup": "2/12/20",
         "line": {
          "color": "#ab63fa",
          "dash": "solid"
         },
         "mode": "lines",
         "name": "2/12/20",
         "orientation": "v",
         "showlegend": true,
         "type": "scatter",
         "x": [
          "Confirmed",
          "Death",
          "Recovered"
         ],
         "xaxis": "x",
         "y": [
          45228,
          1118,
          6295
         ],
         "yaxis": "y"
        },
        {
         "hovertemplate": "Date=2/13/20<br>index=%{x}<br>value=%{y}<extra></extra>",
         "legendgroup": "2/13/20",
         "line": {
          "color": "#FFA15A",
          "dash": "solid"
         },
         "mode": "lines",
         "name": "2/13/20",
         "orientation": "v",
         "showlegend": true,
         "type": "scatter",
         "x": [
          "Confirmed",
          "Death",
          "Recovered"
         ],
         "xaxis": "x",
         "y": [
          60381,
          1371,
          9093
         ],
         "yaxis": "y"
        },
        {
         "hovertemplate": "Date=2/14/20<br>index=%{x}<br>value=%{y}<extra></extra>",
         "legendgroup": "2/14/20",
         "line": {
          "color": "#19d3f3",
          "dash": "solid"
         },
         "mode": "lines",
         "name": "2/14/20",
         "orientation": "v",
         "showlegend": true,
         "type": "scatter",
         "x": [
          "Confirmed",
          "Death",
          "Recovered"
         ],
         "xaxis": "x",
         "y": [
          66908,
          1523,
          17905
         ],
         "yaxis": "y"
        },
        {
         "hovertemplate": "Date=2/15/20<br>index=%{x}<br>value=%{y}<extra></extra>",
         "legendgroup": "2/15/20",
         "line": {
          "color": "#FF6692",
          "dash": "solid"
         },
         "mode": "lines",
         "name": "2/15/20",
         "orientation": "v",
         "showlegend": true,
         "type": "scatter",
         "x": [
          "Confirmed",
          "Death",
          "Recovered"
         ],
         "xaxis": "x",
         "y": [
          69050,
          1666,
          13280
         ],
         "yaxis": "y"
        },
        {
         "hovertemplate": "Date=2/16/20<br>index=%{x}<br>value=%{y}<extra></extra>",
         "legendgroup": "2/16/20",
         "line": {
          "color": "#B6E880",
          "dash": "solid"
         },
         "mode": "lines",
         "name": "2/16/20",
         "orientation": "v",
         "showlegend": true,
         "type": "scatter",
         "x": [
          "Confirmed",
          "Death",
          "Recovered"
         ],
         "xaxis": "x",
         "y": [
          71234,
          1770,
          14834
         ],
         "yaxis": "y"
        },
        {
         "hovertemplate": "Date=2/17/20<br>index=%{x}<br>value=%{y}<extra></extra>",
         "legendgroup": "2/17/20",
         "line": {
          "color": "#FF97FF",
          "dash": "solid"
         },
         "mode": "lines",
         "name": "2/17/20",
         "orientation": "v",
         "showlegend": true,
         "type": "scatter",
         "x": [
          "Confirmed",
          "Death",
          "Recovered"
         ],
         "xaxis": "x",
         "y": [
          73269,
          1868,
          16109
         ],
         "yaxis": "y"
        },
        {
         "hovertemplate": "Date=2/18/20<br>index=%{x}<br>value=%{y}<extra></extra>",
         "legendgroup": "2/18/20",
         "line": {
          "color": "#FECB52",
          "dash": "solid"
         },
         "mode": "lines",
         "name": "2/18/20",
         "orientation": "v",
         "showlegend": true,
         "type": "scatter",
         "x": [
          "Confirmed",
          "Death",
          "Recovered"
         ],
         "xaxis": "x",
         "y": [
          75151,
          2008,
          18178
         ],
         "yaxis": "y"
        },
        {
         "hovertemplate": "Date=2/19/20<br>index=%{x}<br>value=%{y}<extra></extra>",
         "legendgroup": "2/19/20",
         "line": {
          "color": "#636efa",
          "dash": "solid"
         },
         "mode": "lines",
         "name": "2/19/20",
         "orientation": "v",
         "showlegend": true,
         "type": "scatter",
         "x": [
          "Confirmed",
          "Death",
          "Recovered"
         ],
         "xaxis": "x",
         "y": [
          75651,
          2123,
          18884
         ],
         "yaxis": "y"
        },
        {
         "hovertemplate": "Date=2/2/20<br>index=%{x}<br>value=%{y}<extra></extra>",
         "legendgroup": "2/2/20",
         "line": {
          "color": "#EF553B",
          "dash": "solid"
         },
         "mode": "lines",
         "name": "2/2/20",
         "orientation": "v",
         "showlegend": true,
         "type": "scatter",
         "x": [
          "Confirmed",
          "Death",
          "Recovered"
         ],
         "xaxis": "x",
         "y": [
          16787,
          362,
          623
         ],
         "yaxis": "y"
        },
        {
         "hovertemplate": "Date=2/20/20<br>index=%{x}<br>value=%{y}<extra></extra>",
         "legendgroup": "2/20/20",
         "line": {
          "color": "#00cc96",
          "dash": "solid"
         },
         "mode": "lines",
         "name": "2/20/20",
         "orientation": "v",
         "showlegend": true,
         "type": "scatter",
         "x": [
          "Confirmed",
          "Death",
          "Recovered"
         ],
         "xaxis": "x",
         "y": [
          76211,
          2248,
          22911
         ],
         "yaxis": "y"
        },
        {
         "hovertemplate": "Date=2/21/20<br>index=%{x}<br>value=%{y}<extra></extra>",
         "legendgroup": "2/21/20",
         "line": {
          "color": "#ab63fa",
          "dash": "solid"
         },
         "mode": "lines",
         "name": "2/21/20",
         "orientation": "v",
         "showlegend": true,
         "type": "scatter",
         "x": [
          "Confirmed",
          "Death",
          "Recovered"
         ],
         "xaxis": "x",
         "y": [
          76840,
          2252,
          23407
         ],
         "yaxis": "y"
        },
        {
         "hovertemplate": "Date=2/22/20<br>index=%{x}<br>value=%{y}<extra></extra>",
         "legendgroup": "2/22/20",
         "line": {
          "color": "#FFA15A",
          "dash": "solid"
         },
         "mode": "lines",
         "name": "2/22/20",
         "orientation": "v",
         "showlegend": true,
         "type": "scatter",
         "x": [
          "Confirmed",
          "Death",
          "Recovered"
         ],
         "xaxis": "x",
         "y": [
          78601,
          2459,
          25225
         ],
         "yaxis": "y"
        },
        {
         "hovertemplate": "Date=2/23/20<br>index=%{x}<br>value=%{y}<extra></extra>",
         "legendgroup": "2/23/20",
         "line": {
          "color": "#19d3f3",
          "dash": "solid"
         },
         "mode": "lines",
         "name": "2/23/20",
         "orientation": "v",
         "showlegend": true,
         "type": "scatter",
         "x": [
          "Confirmed",
          "Death",
          "Recovered"
         ],
         "xaxis": "x",
         "y": [
          78979,
          2470,
          27899
         ],
         "yaxis": "y"
        },
        {
         "hovertemplate": "Date=2/24/20<br>index=%{x}<br>value=%{y}<extra></extra>",
         "legendgroup": "2/24/20",
         "line": {
          "color": "#FF6692",
          "dash": "solid"
         },
         "mode": "lines",
         "name": "2/24/20",
         "orientation": "v",
         "showlegend": true,
         "type": "scatter",
         "x": [
          "Confirmed",
          "Death",
          "Recovered"
         ],
         "xaxis": "x",
         "y": [
          79543,
          2630,
          30378
         ],
         "yaxis": "y"
        },
        {
         "hovertemplate": "Date=2/25/20<br>index=%{x}<br>value=%{y}<extra></extra>",
         "legendgroup": "2/25/20",
         "line": {
          "color": "#B6E880",
          "dash": "solid"
         },
         "mode": "lines",
         "name": "2/25/20",
         "orientation": "v",
         "showlegend": true,
         "type": "scatter",
         "x": [
          "Confirmed",
          "Death",
          "Recovered"
         ],
         "xaxis": "x",
         "y": [
          80396,
          2710,
          33342
         ],
         "yaxis": "y"
        },
        {
         "hovertemplate": "Date=2/26/20<br>index=%{x}<br>value=%{y}<extra></extra>",
         "legendgroup": "2/26/20",
         "line": {
          "color": "#FF97FF",
          "dash": "solid"
         },
         "mode": "lines",
         "name": "2/26/20",
         "orientation": "v",
         "showlegend": true,
         "type": "scatter",
         "x": [
          "Confirmed",
          "Death",
          "Recovered"
         ],
         "xaxis": "x",
         "y": [
          81373,
          2771,
          36736
         ],
         "yaxis": "y"
        },
        {
         "hovertemplate": "Date=2/27/20<br>index=%{x}<br>value=%{y}<extra></extra>",
         "legendgroup": "2/27/20",
         "line": {
          "color": "#FECB52",
          "dash": "solid"
         },
         "mode": "lines",
         "name": "2/27/20",
         "orientation": "v",
         "showlegend": true,
         "type": "scatter",
         "x": [
          "Confirmed",
          "Death",
          "Recovered"
         ],
         "xaxis": "x",
         "y": [
          82737,
          2814,
          39802
         ],
         "yaxis": "y"
        },
        {
         "hovertemplate": "Date=2/28/20<br>index=%{x}<br>value=%{y}<extra></extra>",
         "legendgroup": "2/28/20",
         "line": {
          "color": "#636efa",
          "dash": "solid"
         },
         "mode": "lines",
         "name": "2/28/20",
         "orientation": "v",
         "showlegend": true,
         "type": "scatter",
         "x": [
          "Confirmed",
          "Death",
          "Recovered"
         ],
         "xaxis": "x",
         "y": [
          84114,
          2873,
          42732
         ],
         "yaxis": "y"
        },
        {
         "hovertemplate": "Date=2/29/20<br>index=%{x}<br>value=%{y}<extra></extra>",
         "legendgroup": "2/29/20",
         "line": {
          "color": "#EF553B",
          "dash": "solid"
         },
         "mode": "lines",
         "name": "2/29/20",
         "orientation": "v",
         "showlegend": true,
         "type": "scatter",
         "x": [
          "Confirmed",
          "Death",
          "Recovered"
         ],
         "xaxis": "x",
         "y": [
          86009,
          2942,
          45602
         ],
         "yaxis": "y"
        },
        {
         "hovertemplate": "Date=2/3/20<br>index=%{x}<br>value=%{y}<extra></extra>",
         "legendgroup": "2/3/20",
         "line": {
          "color": "#00cc96",
          "dash": "solid"
         },
         "mode": "lines",
         "name": "2/3/20",
         "orientation": "v",
         "showlegend": true,
         "type": "scatter",
         "x": [
          "Confirmed",
          "Death",
          "Recovered"
         ],
         "xaxis": "x",
         "y": [
          19887,
          426,
          852
         ],
         "yaxis": "y"
        },
        {
         "hovertemplate": "Date=2/4/20<br>index=%{x}<br>value=%{y}<extra></extra>",
         "legendgroup": "2/4/20",
         "line": {
          "color": "#ab63fa",
          "dash": "solid"
         },
         "mode": "lines",
         "name": "2/4/20",
         "orientation": "v",
         "showlegend": true,
         "type": "scatter",
         "x": [
          "Confirmed",
          "Death",
          "Recovered"
         ],
         "xaxis": "x",
         "y": [
          23898,
          492,
          1124
         ],
         "yaxis": "y"
        },
        {
         "hovertemplate": "Date=2/5/20<br>index=%{x}<br>value=%{y}<extra></extra>",
         "legendgroup": "2/5/20",
         "line": {
          "color": "#FFA15A",
          "dash": "solid"
         },
         "mode": "lines",
         "name": "2/5/20",
         "orientation": "v",
         "showlegend": true,
         "type": "scatter",
         "x": [
          "Confirmed",
          "Death",
          "Recovered"
         ],
         "xaxis": "x",
         "y": [
          27643,
          564,
          1486
         ],
         "yaxis": "y"
        },
        {
         "hovertemplate": "Date=2/6/20<br>index=%{x}<br>value=%{y}<extra></extra>",
         "legendgroup": "2/6/20",
         "line": {
          "color": "#19d3f3",
          "dash": "solid"
         },
         "mode": "lines",
         "name": "2/6/20",
         "orientation": "v",
         "showlegend": true,
         "type": "scatter",
         "x": [
          "Confirmed",
          "Death",
          "Recovered"
         ],
         "xaxis": "x",
         "y": [
          30802,
          634,
          2012
         ],
         "yaxis": "y"
        },
        {
         "hovertemplate": "Date=2/7/20<br>index=%{x}<br>value=%{y}<extra></extra>",
         "legendgroup": "2/7/20",
         "line": {
          "color": "#FF6692",
          "dash": "solid"
         },
         "mode": "lines",
         "name": "2/7/20",
         "orientation": "v",
         "showlegend": true,
         "type": "scatter",
         "x": [
          "Confirmed",
          "Death",
          "Recovered"
         ],
         "xaxis": "x",
         "y": [
          34395,
          719,
          2621
         ],
         "yaxis": "y"
        },
        {
         "hovertemplate": "Date=2/8/20<br>index=%{x}<br>value=%{y}<extra></extra>",
         "legendgroup": "2/8/20",
         "line": {
          "color": "#B6E880",
          "dash": "solid"
         },
         "mode": "lines",
         "name": "2/8/20",
         "orientation": "v",
         "showlegend": true,
         "type": "scatter",
         "x": [
          "Confirmed",
          "Death",
          "Recovered"
         ],
         "xaxis": "x",
         "y": [
          37129,
          806,
          3245
         ],
         "yaxis": "y"
        },
        {
         "hovertemplate": "Date=2/9/20<br>index=%{x}<br>value=%{y}<extra></extra>",
         "legendgroup": "2/9/20",
         "line": {
          "color": "#FF97FF",
          "dash": "solid"
         },
         "mode": "lines",
         "name": "2/9/20",
         "orientation": "v",
         "showlegend": true,
         "type": "scatter",
         "x": [
          "Confirmed",
          "Death",
          "Recovered"
         ],
         "xaxis": "x",
         "y": [
          40159,
          906,
          3946
         ],
         "yaxis": "y"
        },
        {
         "hovertemplate": "Date=3/1/20<br>index=%{x}<br>value=%{y}<extra></extra>",
         "legendgroup": "3/1/20",
         "line": {
          "color": "#FECB52",
          "dash": "solid"
         },
         "mode": "lines",
         "name": "3/1/20",
         "orientation": "v",
         "showlegend": true,
         "type": "scatter",
         "x": [
          "Confirmed",
          "Death",
          "Recovered"
         ],
         "xaxis": "x",
         "y": [
          88386,
          2996,
          48235
         ],
         "yaxis": "y"
        },
        {
         "hovertemplate": "Date=3/10/20<br>index=%{x}<br>value=%{y}<extra></extra>",
         "legendgroup": "3/10/20",
         "line": {
          "color": "#636efa",
          "dash": "solid"
         },
         "mode": "lines",
         "name": "3/10/20",
         "orientation": "v",
         "showlegend": true,
         "type": "scatter",
         "x": [
          "Confirmed",
          "Death",
          "Recovered"
         ],
         "xaxis": "x",
         "y": [
          118884,
          4266,
          72646
         ],
         "yaxis": "y"
        },
        {
         "hovertemplate": "Date=3/11/20<br>index=%{x}<br>value=%{y}<extra></extra>",
         "legendgroup": "3/11/20",
         "line": {
          "color": "#EF553B",
          "dash": "solid"
         },
         "mode": "lines",
         "name": "3/11/20",
         "orientation": "v",
         "showlegend": true,
         "type": "scatter",
         "x": [
          "Confirmed",
          "Death",
          "Recovered"
         ],
         "xaxis": "x",
         "y": [
          126547,
          4611,
          74339
         ],
         "yaxis": "y"
        },
        {
         "hovertemplate": "Date=3/12/20<br>index=%{x}<br>value=%{y}<extra></extra>",
         "legendgroup": "3/12/20",
         "line": {
          "color": "#00cc96",
          "dash": "solid"
         },
         "mode": "lines",
         "name": "3/12/20",
         "orientation": "v",
         "showlegend": true,
         "type": "scatter",
         "x": [
          "Confirmed",
          "Death",
          "Recovered"
         ],
         "xaxis": "x",
         "y": [
          132297,
          4916,
          76065
         ],
         "yaxis": "y"
        },
        {
         "hovertemplate": "Date=3/13/20<br>index=%{x}<br>value=%{y}<extra></extra>",
         "legendgroup": "3/13/20",
         "line": {
          "color": "#ab63fa",
          "dash": "solid"
         },
         "mode": "lines",
         "name": "3/13/20",
         "orientation": "v",
         "showlegend": true,
         "type": "scatter",
         "x": [
          "Confirmed",
          "Death",
          "Recovered"
         ],
         "xaxis": "x",
         "y": [
          146704,
          5413,
          78046
         ],
         "yaxis": "y"
        },
        {
         "hovertemplate": "Date=3/14/20<br>index=%{x}<br>value=%{y}<extra></extra>",
         "legendgroup": "3/14/20",
         "line": {
          "color": "#FFA15A",
          "dash": "solid"
         },
         "mode": "lines",
         "name": "3/14/20",
         "orientation": "v",
         "showlegend": true,
         "type": "scatter",
         "x": [
          "Confirmed",
          "Death",
          "Recovered"
         ],
         "xaxis": "x",
         "y": [
          157795,
          5830,
          80318
         ],
         "yaxis": "y"
        },
        {
         "hovertemplate": "Date=3/15/20<br>index=%{x}<br>value=%{y}<extra></extra>",
         "legendgroup": "3/15/20",
         "line": {
          "color": "#19d3f3",
          "dash": "solid"
         },
         "mode": "lines",
         "name": "3/15/20",
         "orientation": "v",
         "showlegend": true,
         "type": "scatter",
         "x": [
          "Confirmed",
          "Death",
          "Recovered"
         ],
         "xaxis": "x",
         "y": [
          168941,
          6471,
          83301
         ],
         "yaxis": "y"
        },
        {
         "hovertemplate": "Date=3/16/20<br>index=%{x}<br>value=%{y}<extra></extra>",
         "legendgroup": "3/16/20",
         "line": {
          "color": "#FF6692",
          "dash": "solid"
         },
         "mode": "lines",
         "name": "3/16/20",
         "orientation": "v",
         "showlegend": true,
         "type": "scatter",
         "x": [
          "Confirmed",
          "Death",
          "Recovered"
         ],
         "xaxis": "x",
         "y": [
          183597,
          7151,
          86097
         ],
         "yaxis": "y"
        },
        {
         "hovertemplate": "Date=3/17/20<br>index=%{x}<br>value=%{y}<extra></extra>",
         "legendgroup": "3/17/20",
         "line": {
          "color": "#B6E880",
          "dash": "solid"
         },
         "mode": "lines",
         "name": "3/17/20",
         "orientation": "v",
         "showlegend": true,
         "type": "scatter",
         "x": [
          "Confirmed",
          "Death",
          "Recovered"
         ],
         "xaxis": "x",
         "y": [
          199434,
          7955,
          87392
         ],
         "yaxis": "y"
        },
        {
         "hovertemplate": "Date=3/18/20<br>index=%{x}<br>value=%{y}<extra></extra>",
         "legendgroup": "3/18/20",
         "line": {
          "color": "#FF97FF",
          "dash": "solid"
         },
         "mode": "lines",
         "name": "3/18/20",
         "orientation": "v",
         "showlegend": true,
         "type": "scatter",
         "x": [
          "Confirmed",
          "Death",
          "Recovered"
         ],
         "xaxis": "x",
         "y": [
          219028,
          8852,
          91911
         ],
         "yaxis": "y"
        },
        {
         "hovertemplate": "Date=3/19/20<br>index=%{x}<br>value=%{y}<extra></extra>",
         "legendgroup": "3/19/20",
         "line": {
          "color": "#FECB52",
          "dash": "solid"
         },
         "mode": "lines",
         "name": "3/19/20",
         "orientation": "v",
         "showlegend": true,
         "type": "scatter",
         "x": [
          "Confirmed",
          "Death",
          "Recovered"
         ],
         "xaxis": "x",
         "y": [
          246949,
          9958,
          97881
         ],
         "yaxis": "y"
        },
        {
         "hovertemplate": "Date=3/2/20<br>index=%{x}<br>value=%{y}<extra></extra>",
         "legendgroup": "3/2/20",
         "line": {
          "color": "#636efa",
          "dash": "solid"
         },
         "mode": "lines",
         "name": "3/2/20",
         "orientation": "v",
         "showlegend": true,
         "type": "scatter",
         "x": [
          "Confirmed",
          "Death",
          "Recovered"
         ],
         "xaxis": "x",
         "y": [
          90360,
          3085,
          51185
         ],
         "yaxis": "y"
        },
        {
         "hovertemplate": "Date=3/20/20<br>index=%{x}<br>value=%{y}<extra></extra>",
         "legendgroup": "3/20/20",
         "line": {
          "color": "#EF553B",
          "dash": "solid"
         },
         "mode": "lines",
         "name": "3/20/20",
         "orientation": "v",
         "showlegend": true,
         "type": "scatter",
         "x": [
          "Confirmed",
          "Death",
          "Recovered"
         ],
         "xaxis": "x",
         "y": [
          276534,
          11436,
          98448
         ],
         "yaxis": "y"
        },
        {
         "hovertemplate": "Date=3/21/20<br>index=%{x}<br>value=%{y}<extra></extra>",
         "legendgroup": "3/21/20",
         "line": {
          "color": "#00cc96",
          "dash": "solid"
         },
         "mode": "lines",
         "name": "3/21/20",
         "orientation": "v",
         "showlegend": true,
         "type": "scatter",
         "x": [
          "Confirmed",
          "Death",
          "Recovered"
         ],
         "xaxis": "x",
         "y": [
          308842,
          13142,
          108359
         ],
         "yaxis": "y"
        },
        {
         "hovertemplate": "Date=3/22/20<br>index=%{x}<br>value=%{y}<extra></extra>",
         "legendgroup": "3/22/20",
         "line": {
          "color": "#ab63fa",
          "dash": "solid"
         },
         "mode": "lines",
         "name": "3/22/20",
         "orientation": "v",
         "showlegend": true,
         "type": "scatter",
         "x": [
          "Confirmed",
          "Death",
          "Recovered"
         ],
         "xaxis": "x",
         "y": [
          342255,
          14840,
          114672
         ],
         "yaxis": "y"
        },
        {
         "hovertemplate": "Date=3/23/20<br>index=%{x}<br>value=%{y}<extra></extra>",
         "legendgroup": "3/23/20",
         "line": {
          "color": "#FFA15A",
          "dash": "solid"
         },
         "mode": "lines",
         "name": "3/23/20",
         "orientation": "v",
         "showlegend": true,
         "type": "scatter",
         "x": [
          "Confirmed",
          "Death",
          "Recovered"
         ],
         "xaxis": "x",
         "y": [
          384420,
          16757,
          126801
         ],
         "yaxis": "y"
        },
        {
         "hovertemplate": "Date=3/24/20<br>index=%{x}<br>value=%{y}<extra></extra>",
         "legendgroup": "3/24/20",
         "line": {
          "color": "#19d3f3",
          "dash": "solid"
         },
         "mode": "lines",
         "name": "3/24/20",
         "orientation": "v",
         "showlegend": true,
         "type": "scatter",
         "x": [
          "Confirmed",
          "Death",
          "Recovered"
         ],
         "xaxis": "x",
         "y": [
          425559,
          19027,
          198887
         ],
         "yaxis": "y"
        },
        {
         "hovertemplate": "Date=3/25/20<br>index=%{x}<br>value=%{y}<extra></extra>",
         "legendgroup": "3/25/20",
         "line": {
          "color": "#FF6692",
          "dash": "solid"
         },
         "mode": "lines",
         "name": "3/25/20",
         "orientation": "v",
         "showlegend": true,
         "type": "scatter",
         "x": [
          "Confirmed",
          "Death",
          "Recovered"
         ],
         "xaxis": "x",
         "y": [
          476376,
          21803,
          144183
         ],
         "yaxis": "y"
        },
        {
         "hovertemplate": "Date=3/26/20<br>index=%{x}<br>value=%{y}<extra></extra>",
         "legendgroup": "3/26/20",
         "line": {
          "color": "#B6E880",
          "dash": "solid"
         },
         "mode": "lines",
         "name": "3/26/20",
         "orientation": "v",
         "showlegend": true,
         "type": "scatter",
         "x": [
          "Confirmed",
          "Death",
          "Recovered"
         ],
         "xaxis": "x",
         "y": [
          539336,
          24810,
          150786
         ],
         "yaxis": "y"
        },
        {
         "hovertemplate": "Date=3/27/20<br>index=%{x}<br>value=%{y}<extra></extra>",
         "legendgroup": "3/27/20",
         "line": {
          "color": "#FF97FF",
          "dash": "solid"
         },
         "mode": "lines",
         "name": "3/27/20",
         "orientation": "v",
         "showlegend": true,
         "type": "scatter",
         "x": [
          "Confirmed",
          "Death",
          "Recovered"
         ],
         "xaxis": "x",
         "y": [
          603736,
          28328,
          166827
         ],
         "yaxis": "y"
        },
        {
         "hovertemplate": "Date=3/28/20<br>index=%{x}<br>value=%{y}<extra></extra>",
         "legendgroup": "3/28/20",
         "line": {
          "color": "#FECB52",
          "dash": "solid"
         },
         "mode": "lines",
         "name": "3/28/20",
         "orientation": "v",
         "showlegend": true,
         "type": "scatter",
         "x": [
          "Confirmed",
          "Death",
          "Recovered"
         ],
         "xaxis": "x",
         "y": [
          671344,
          32007,
          190808
         ],
         "yaxis": "y"
        },
        {
         "hovertemplate": "Date=3/29/20<br>index=%{x}<br>value=%{y}<extra></extra>",
         "legendgroup": "3/29/20",
         "line": {
          "color": "#636efa",
          "dash": "solid"
         },
         "mode": "lines",
         "name": "3/29/20",
         "orientation": "v",
         "showlegend": true,
         "type": "scatter",
         "x": [
          "Confirmed",
          "Death",
          "Recovered"
         ],
         "xaxis": "x",
         "y": [
          730921,
          35480,
          219390
         ],
         "yaxis": "y"
        },
        {
         "hovertemplate": "Date=3/3/20<br>index=%{x}<br>value=%{y}<extra></extra>",
         "legendgroup": "3/3/20",
         "line": {
          "color": "#EF553B",
          "dash": "solid"
         },
         "mode": "lines",
         "name": "3/3/20",
         "orientation": "v",
         "showlegend": true,
         "type": "scatter",
         "x": [
          "Confirmed",
          "Death",
          "Recovered"
         ],
         "xaxis": "x",
         "y": [
          92938,
          3160,
          53807
         ],
         "yaxis": "y"
        },
        {
         "hovertemplate": "Date=3/30/20<br>index=%{x}<br>value=%{y}<extra></extra>",
         "legendgroup": "3/30/20",
         "line": {
          "color": "#00cc96",
          "dash": "solid"
         },
         "mode": "lines",
         "name": "3/30/20",
         "orientation": "v",
         "showlegend": true,
         "type": "scatter",
         "x": [
          "Confirmed",
          "Death",
          "Recovered"
         ],
         "xaxis": "x",
         "y": [
          795560,
          39644,
          260714
         ],
         "yaxis": "y"
        },
        {
         "hovertemplate": "Date=3/31/20<br>index=%{x}<br>value=%{y}<extra></extra>",
         "legendgroup": "3/31/20",
         "line": {
          "color": "#ab63fa",
          "dash": "solid"
         },
         "mode": "lines",
         "name": "3/31/20",
         "orientation": "v",
         "showlegend": true,
         "type": "scatter",
         "x": [
          "Confirmed",
          "Death",
          "Recovered"
         ],
         "xaxis": "x",
         "y": [
          871976,
          44488,
          235822
         ],
         "yaxis": "y"
        },
        {
         "hovertemplate": "Date=3/4/20<br>index=%{x}<br>value=%{y}<extra></extra>",
         "legendgroup": "3/4/20",
         "line": {
          "color": "#FFA15A",
          "dash": "solid"
         },
         "mode": "lines",
         "name": "3/4/20",
         "orientation": "v",
         "showlegend": true,
         "type": "scatter",
         "x": [
          "Confirmed",
          "Death",
          "Recovered"
         ],
         "xaxis": "x",
         "y": [
          95237,
          3255,
          61790
         ],
         "yaxis": "y"
        },
        {
         "hovertemplate": "Date=3/5/20<br>index=%{x}<br>value=%{y}<extra></extra>",
         "legendgroup": "3/5/20",
         "line": {
          "color": "#19d3f3",
          "dash": "solid"
         },
         "mode": "lines",
         "name": "3/5/20",
         "orientation": "v",
         "showlegend": true,
         "type": "scatter",
         "x": [
          "Confirmed",
          "Death",
          "Recovered"
         ],
         "xaxis": "x",
         "y": [
          98028,
          3348,
          107701
         ],
         "yaxis": "y"
        },
        {
         "hovertemplate": "Date=3/6/20<br>index=%{x}<br>value=%{y}<extra></extra>",
         "legendgroup": "3/6/20",
         "line": {
          "color": "#FF6692",
          "dash": "solid"
         },
         "mode": "lines",
         "name": "3/6/20",
         "orientation": "v",
         "showlegend": true,
         "type": "scatter",
         "x": [
          "Confirmed",
          "Death",
          "Recovered"
         ],
         "xaxis": "x",
         "y": [
          101971,
          3460,
          64246
         ],
         "yaxis": "y"
        },
        {
         "hovertemplate": "Date=3/7/20<br>index=%{x}<br>value=%{y}<extra></extra>",
         "legendgroup": "3/7/20",
         "line": {
          "color": "#B6E880",
          "dash": "solid"
         },
         "mode": "lines",
         "name": "3/7/20",
         "orientation": "v",
         "showlegend": true,
         "type": "scatter",
         "x": [
          "Confirmed",
          "Death",
          "Recovered"
         ],
         "xaxis": "x",
         "y": [
          106009,
          3559,
          63924
         ],
         "yaxis": "y"
        },
        {
         "hovertemplate": "Date=3/8/20<br>index=%{x}<br>value=%{y}<extra></extra>",
         "legendgroup": "3/8/20",
         "line": {
          "color": "#FF97FF",
          "dash": "solid"
         },
         "mode": "lines",
         "name": "3/8/20",
         "orientation": "v",
         "showlegend": true,
         "type": "scatter",
         "x": [
          "Confirmed",
          "Death",
          "Recovered"
         ],
         "xaxis": "x",
         "y": [
          109960,
          3803,
          66195
         ],
         "yaxis": "y"
        },
        {
         "hovertemplate": "Date=3/9/20<br>index=%{x}<br>value=%{y}<extra></extra>",
         "legendgroup": "3/9/20",
         "line": {
          "color": "#FECB52",
          "dash": "solid"
         },
         "mode": "lines",
         "name": "3/9/20",
         "orientation": "v",
         "showlegend": true,
         "type": "scatter",
         "x": [
          "Confirmed",
          "Death",
          "Recovered"
         ],
         "xaxis": "x",
         "y": [
          113860,
          3987,
          68305
         ],
         "yaxis": "y"
        },
        {
         "hovertemplate": "Date=4/1/20<br>index=%{x}<br>value=%{y}<extra></extra>",
         "legendgroup": "4/1/20",
         "line": {
          "color": "#636efa",
          "dash": "solid"
         },
         "mode": "lines",
         "name": "4/1/20",
         "orientation": "v",
         "showlegend": true,
         "type": "scatter",
         "x": [
          "Confirmed",
          "Death",
          "Recovered"
         ],
         "xaxis": "x",
         "y": [
          948197,
          50042,
          252872
         ],
         "yaxis": "y"
        },
        {
         "hovertemplate": "Date=4/10/20<br>index=%{x}<br>value=%{y}<extra></extra>",
         "legendgroup": "4/10/20",
         "line": {
          "color": "#EF553B",
          "dash": "solid"
         },
         "mode": "lines",
         "name": "4/10/20",
         "orientation": "v",
         "showlegend": true,
         "type": "scatter",
         "x": [
          "Confirmed",
          "Death",
          "Recovered"
         ],
         "xaxis": "x",
         "y": [
          1672449,
          108557,
          490373
         ],
         "yaxis": "y"
        },
        {
         "hovertemplate": "Date=4/11/20<br>index=%{x}<br>value=%{y}<extra></extra>",
         "legendgroup": "4/11/20",
         "line": {
          "color": "#00cc96",
          "dash": "solid"
         },
         "mode": "lines",
         "name": "4/11/20",
         "orientation": "v",
         "showlegend": true,
         "type": "scatter",
         "x": [
          "Confirmed",
          "Death",
          "Recovered"
         ],
         "xaxis": "x",
         "y": [
          1749169,
          114625,
          540950
         ],
         "yaxis": "y"
        },
        {
         "hovertemplate": "Date=4/12/20<br>index=%{x}<br>value=%{y}<extra></extra>",
         "legendgroup": "4/12/20",
         "line": {
          "color": "#ab63fa",
          "dash": "solid"
         },
         "mode": "lines",
         "name": "4/12/20",
         "orientation": "v",
         "showlegend": true,
         "type": "scatter",
         "x": [
          "Confirmed",
          "Death",
          "Recovered"
         ],
         "xaxis": "x",
         "y": [
          1845951,
          120356,
          614863
         ],
         "yaxis": "y"
        },
        {
         "hovertemplate": "Date=4/13/20<br>index=%{x}<br>value=%{y}<extra></extra>",
         "legendgroup": "4/13/20",
         "line": {
          "color": "#FFA15A",
          "dash": "solid"
         },
         "mode": "lines",
         "name": "4/13/20",
         "orientation": "v",
         "showlegend": true,
         "type": "scatter",
         "x": [
          "Confirmed",
          "Death",
          "Recovered"
         ],
         "xaxis": "x",
         "y": [
          1915545,
          126103,
          574266
         ],
         "yaxis": "y"
        },
        {
         "hovertemplate": "Date=4/14/20<br>index=%{x}<br>value=%{y}<extra></extra>",
         "legendgroup": "4/14/20",
         "line": {
          "color": "#19d3f3",
          "dash": "solid"
         },
         "mode": "lines",
         "name": "4/14/20",
         "orientation": "v",
         "showlegend": true,
         "type": "scatter",
         "x": [
          "Confirmed",
          "Death",
          "Recovered"
         ],
         "xaxis": "x",
         "y": [
          1985472,
          132999,
          606428
         ],
         "yaxis": "y"
        },
        {
         "hovertemplate": "Date=4/15/20<br>index=%{x}<br>value=%{y}<extra></extra>",
         "legendgroup": "4/15/20",
         "line": {
          "color": "#FF6692",
          "dash": "solid"
         },
         "mode": "lines",
         "name": "4/15/20",
         "orientation": "v",
         "showlegend": true,
         "type": "scatter",
         "x": [
          "Confirmed",
          "Death",
          "Recovered"
         ],
         "xaxis": "x",
         "y": [
          2066301,
          141311,
          633618
         ],
         "yaxis": "y"
        },
        {
         "hovertemplate": "Date=4/16/20<br>index=%{x}<br>value=%{y}<extra></extra>",
         "legendgroup": "4/16/20",
         "line": {
          "color": "#B6E880",
          "dash": "solid"
         },
         "mode": "lines",
         "name": "4/16/20",
         "orientation": "v",
         "showlegend": true,
         "type": "scatter",
         "x": [
          "Confirmed",
          "Death",
          "Recovered"
         ],
         "xaxis": "x",
         "y": [
          2163013,
          148594,
          651547
         ],
         "yaxis": "y"
        },
        {
         "hovertemplate": "Date=4/17/20<br>index=%{x}<br>value=%{y}<extra></extra>",
         "legendgroup": "4/17/20",
         "line": {
          "color": "#FF97FF",
          "dash": "solid"
         },
         "mode": "lines",
         "name": "4/17/20",
         "orientation": "v",
         "showlegend": true,
         "type": "scatter",
         "x": [
          "Confirmed",
          "Death",
          "Recovered"
         ],
         "xaxis": "x",
         "y": [
          2250737,
          157484,
          826947
         ],
         "yaxis": "y"
        },
        {
         "hovertemplate": "Date=4/18/20<br>index=%{x}<br>value=%{y}<extra></extra>",
         "legendgroup": "4/18/20",
         "line": {
          "color": "#FECB52",
          "dash": "solid"
         },
         "mode": "lines",
         "name": "4/18/20",
         "orientation": "v",
         "showlegend": true,
         "type": "scatter",
         "x": [
          "Confirmed",
          "Death",
          "Recovered"
         ],
         "xaxis": "x",
         "y": [
          2324083,
          163942,
          866270
         ],
         "yaxis": "y"
        },
        {
         "hovertemplate": "Date=4/19/20<br>index=%{x}<br>value=%{y}<extra></extra>",
         "legendgroup": "4/19/20",
         "line": {
          "color": "#636efa",
          "dash": "solid"
         },
         "mode": "lines",
         "name": "4/19/20",
         "orientation": "v",
         "showlegend": true,
         "type": "scatter",
         "x": [
          "Confirmed",
          "Death",
          "Recovered"
         ],
         "xaxis": "x",
         "y": [
          2404790,
          168525,
          769955
         ],
         "yaxis": "y"
        },
        {
         "hovertemplate": "Date=4/2/20<br>index=%{x}<br>value=%{y}<extra></extra>",
         "legendgroup": "4/2/20",
         "line": {
          "color": "#EF553B",
          "dash": "solid"
         },
         "mode": "lines",
         "name": "4/2/20",
         "orientation": "v",
         "showlegend": true,
         "type": "scatter",
         "x": [
          "Confirmed",
          "Death",
          "Recovered"
         ],
         "xaxis": "x",
         "y": [
          1029598,
          56347,
          269977
         ],
         "yaxis": "y"
        },
        {
         "hovertemplate": "Date=4/20/20<br>index=%{x}<br>value=%{y}<extra></extra>",
         "legendgroup": "4/20/20",
         "line": {
          "color": "#00cc96",
          "dash": "solid"
         },
         "mode": "lines",
         "name": "4/20/20",
         "orientation": "v",
         "showlegend": true,
         "type": "scatter",
         "x": [
          "Confirmed",
          "Death",
          "Recovered"
         ],
         "xaxis": "x",
         "y": [
          2478129,
          173968,
          816506
         ],
         "yaxis": "y"
        },
        {
         "hovertemplate": "Date=4/21/20<br>index=%{x}<br>value=%{y}<extra></extra>",
         "legendgroup": "4/21/20",
         "line": {
          "color": "#ab63fa",
          "dash": "solid"
         },
         "mode": "lines",
         "name": "4/21/20",
         "orientation": "v",
         "showlegend": true,
         "type": "scatter",
         "x": [
          "Confirmed",
          "Death",
          "Recovered"
         ],
         "xaxis": "x",
         "y": [
          2553289,
          181120,
          832142
         ],
         "yaxis": "y"
        },
        {
         "hovertemplate": "Date=4/22/20<br>index=%{x}<br>value=%{y}<extra></extra>",
         "legendgroup": "4/22/20",
         "line": {
          "color": "#FFA15A",
          "dash": "solid"
         },
         "mode": "lines",
         "name": "4/22/20",
         "orientation": "v",
         "showlegend": true,
         "type": "scatter",
         "x": [
          "Confirmed",
          "Death",
          "Recovered"
         ],
         "xaxis": "x",
         "y": [
          2630185,
          187879,
          880551
         ],
         "yaxis": "y"
        },
        {
         "hovertemplate": "Date=4/23/20<br>index=%{x}<br>value=%{y}<extra></extra>",
         "legendgroup": "4/23/20",
         "line": {
          "color": "#19d3f3",
          "dash": "solid"
         },
         "mode": "lines",
         "name": "4/23/20",
         "orientation": "v",
         "showlegend": true,
         "type": "scatter",
         "x": [
          "Confirmed",
          "Death",
          "Recovered"
         ],
         "xaxis": "x",
         "y": [
          2719198,
          194729,
          906761
         ],
         "yaxis": "y"
        },
        {
         "hovertemplate": "Date=4/24/20<br>index=%{x}<br>value=%{y}<extra></extra>",
         "legendgroup": "4/24/20",
         "line": {
          "color": "#FF6692",
          "dash": "solid"
         },
         "mode": "lines",
         "name": "4/24/20",
         "orientation": "v",
         "showlegend": true,
         "type": "scatter",
         "x": [
          "Confirmed",
          "Death",
          "Recovered"
         ],
         "xaxis": "x",
         "y": [
          2806138,
          201402,
          1068241
         ],
         "yaxis": "y"
        },
        {
         "hovertemplate": "Date=4/25/20<br>index=%{x}<br>value=%{y}<extra></extra>",
         "legendgroup": "4/25/20",
         "line": {
          "color": "#B6E880",
          "dash": "solid"
         },
         "mode": "lines",
         "name": "4/25/20",
         "orientation": "v",
         "showlegend": true,
         "type": "scatter",
         "x": [
          "Confirmed",
          "Death",
          "Recovered"
         ],
         "xaxis": "x",
         "y": [
          2890259,
          206980,
          1028765
         ],
         "yaxis": "y"
        },
        {
         "hovertemplate": "Date=4/26/20<br>index=%{x}<br>value=%{y}<extra></extra>",
         "legendgroup": "4/26/20",
         "line": {
          "color": "#FF97FF",
          "dash": "solid"
         },
         "mode": "lines",
         "name": "4/26/20",
         "orientation": "v",
         "showlegend": true,
         "type": "scatter",
         "x": [
          "Confirmed",
          "Death",
          "Recovered"
         ],
         "xaxis": "x",
         "y": [
          2963206,
          210863,
          1207808
         ],
         "yaxis": "y"
        },
        {
         "hovertemplate": "Date=4/27/20<br>index=%{x}<br>value=%{y}<extra></extra>",
         "legendgroup": "4/27/20",
         "line": {
          "color": "#FECB52",
          "dash": "solid"
         },
         "mode": "lines",
         "name": "4/27/20",
         "orientation": "v",
         "showlegend": true,
         "type": "scatter",
         "x": [
          "Confirmed",
          "Death",
          "Recovered"
         ],
         "xaxis": "x",
         "y": [
          3031926,
          215510,
          1092501
         ],
         "yaxis": "y"
        },
        {
         "hovertemplate": "Date=4/28/20<br>index=%{x}<br>value=%{y}<extra></extra>",
         "legendgroup": "4/28/20",
         "line": {
          "color": "#636efa",
          "dash": "solid"
         },
         "mode": "lines",
         "name": "4/28/20",
         "orientation": "v",
         "showlegend": true,
         "type": "scatter",
         "x": [
          "Confirmed",
          "Death",
          "Recovered"
         ],
         "xaxis": "x",
         "y": [
          3107209,
          221973,
          1130832
         ],
         "yaxis": "y"
        },
        {
         "hovertemplate": "Date=4/29/20<br>index=%{x}<br>value=%{y}<extra></extra>",
         "legendgroup": "4/29/20",
         "line": {
          "color": "#EF553B",
          "dash": "solid"
         },
         "mode": "lines",
         "name": "4/29/20",
         "orientation": "v",
         "showlegend": true,
         "type": "scatter",
         "x": [
          "Confirmed",
          "Death",
          "Recovered"
         ],
         "xaxis": "x",
         "y": [
          3184143,
          228736,
          1183102
         ],
         "yaxis": "y"
        },
        {
         "hovertemplate": "Date=4/3/20<br>index=%{x}<br>value=%{y}<extra></extra>",
         "legendgroup": "4/3/20",
         "line": {
          "color": "#00cc96",
          "dash": "solid"
         },
         "mode": "lines",
         "name": "4/3/20",
         "orientation": "v",
         "showlegend": true,
         "type": "scatter",
         "x": [
          "Confirmed",
          "Death",
          "Recovered"
         ],
         "xaxis": "x",
         "y": [
          1112752,
          62332,
          295778
         ],
         "yaxis": "y"
        },
        {
         "hovertemplate": "Date=4/30/20<br>index=%{x}<br>value=%{y}<extra></extra>",
         "legendgroup": "4/30/20",
         "line": {
          "color": "#ab63fa",
          "dash": "solid"
         },
         "mode": "lines",
         "name": "4/30/20",
         "orientation": "v",
         "showlegend": true,
         "type": "scatter",
         "x": [
          "Confirmed",
          "Death",
          "Recovered"
         ],
         "xaxis": "x",
         "y": [
          3267936,
          234703,
          1266945
         ],
         "yaxis": "y"
        },
        {
         "hovertemplate": "Date=4/4/20<br>index=%{x}<br>value=%{y}<extra></extra>",
         "legendgroup": "4/4/20",
         "line": {
          "color": "#FFA15A",
          "dash": "solid"
         },
         "mode": "lines",
         "name": "4/4/20",
         "orientation": "v",
         "showlegend": true,
         "type": "scatter",
         "x": [
          "Confirmed",
          "Death",
          "Recovered"
         ],
         "xaxis": "x",
         "y": [
          1193128,
          68173,
          369619
         ],
         "yaxis": "y"
        },
        {
         "hovertemplate": "Date=4/5/20<br>index=%{x}<br>value=%{y}<extra></extra>",
         "legendgroup": "4/5/20",
         "line": {
          "color": "#19d3f3",
          "dash": "solid"
         },
         "mode": "lines",
         "name": "4/5/20",
         "orientation": "v",
         "showlegend": true,
         "type": "scatter",
         "x": [
          "Confirmed",
          "Death",
          "Recovered"
         ],
         "xaxis": "x",
         "y": [
          1264846,
          73194,
          364421
         ],
         "yaxis": "y"
        },
        {
         "hovertemplate": "Date=4/6/20<br>index=%{x}<br>value=%{y}<extra></extra>",
         "legendgroup": "4/6/20",
         "line": {
          "color": "#FF6692",
          "dash": "solid"
         },
         "mode": "lines",
         "name": "4/6/20",
         "orientation": "v",
         "showlegend": true,
         "type": "scatter",
         "x": [
          "Confirmed",
          "Death",
          "Recovered"
         ],
         "xaxis": "x",
         "y": [
          1337518,
          79026,
          401976
         ],
         "yaxis": "y"
        },
        {
         "hovertemplate": "Date=4/7/20<br>index=%{x}<br>value=%{y}<extra></extra>",
         "legendgroup": "4/7/20",
         "line": {
          "color": "#B6E880",
          "dash": "solid"
         },
         "mode": "lines",
         "name": "4/7/20",
         "orientation": "v",
         "showlegend": true,
         "type": "scatter",
         "x": [
          "Confirmed",
          "Death",
          "Recovered"
         ],
         "xaxis": "x",
         "y": [
          1414391,
          86928,
          401879
         ],
         "yaxis": "y"
        },
        {
         "hovertemplate": "Date=4/8/20<br>index=%{x}<br>value=%{y}<extra></extra>",
         "legendgroup": "4/8/20",
         "line": {
          "color": "#FF97FF",
          "dash": "solid"
         },
         "mode": "lines",
         "name": "4/8/20",
         "orientation": "v",
         "showlegend": true,
         "type": "scatter",
         "x": [
          "Confirmed",
          "Death",
          "Recovered"
         ],
         "xaxis": "x",
         "y": [
          1498166,
          93663,
          421423
         ],
         "yaxis": "y"
        },
        {
         "hovertemplate": "Date=4/9/20<br>index=%{x}<br>value=%{y}<extra></extra>",
         "legendgroup": "4/9/20",
         "line": {
          "color": "#FECB52",
          "dash": "solid"
         },
         "mode": "lines",
         "name": "4/9/20",
         "orientation": "v",
         "showlegend": true,
         "type": "scatter",
         "x": [
          "Confirmed",
          "Death",
          "Recovered"
         ],
         "xaxis": "x",
         "y": [
          1584791,
          101285,
          451934
         ],
         "yaxis": "y"
        },
        {
         "hovertemplate": "Date=5/1/20<br>index=%{x}<br>value=%{y}<extra></extra>",
         "legendgroup": "5/1/20",
         "line": {
          "color": "#636efa",
          "dash": "solid"
         },
         "mode": "lines",
         "name": "5/1/20",
         "orientation": "v",
         "showlegend": true,
         "type": "scatter",
         "x": [
          "Confirmed",
          "Death",
          "Recovered"
         ],
         "xaxis": "x",
         "y": [
          3354984,
          239879,
          1293947
         ],
         "yaxis": "y"
        },
        {
         "hovertemplate": "Date=5/10/20<br>index=%{x}<br>value=%{y}<extra></extra>",
         "legendgroup": "5/10/20",
         "line": {
          "color": "#EF553B",
          "dash": "solid"
         },
         "mode": "lines",
         "name": "5/10/20",
         "orientation": "v",
         "showlegend": true,
         "type": "scatter",
         "x": [
          "Confirmed",
          "Death",
          "Recovered"
         ],
         "xaxis": "x",
         "y": [
          4099779,
          284127,
          1691167
         ],
         "yaxis": "y"
        },
        {
         "hovertemplate": "Date=5/11/20<br>index=%{x}<br>value=%{y}<extra></extra>",
         "legendgroup": "5/11/20",
         "line": {
          "color": "#00cc96",
          "dash": "solid"
         },
         "mode": "lines",
         "name": "5/11/20",
         "orientation": "v",
         "showlegend": true,
         "type": "scatter",
         "x": [
          "Confirmed",
          "Death",
          "Recovered"
         ],
         "xaxis": "x",
         "y": [
          4176020,
          287599,
          1736346
         ],
         "yaxis": "y"
        },
        {
         "hovertemplate": "Date=5/12/20<br>index=%{x}<br>value=%{y}<extra></extra>",
         "legendgroup": "5/12/20",
         "line": {
          "color": "#ab63fa",
          "dash": "solid"
         },
         "mode": "lines",
         "name": "5/12/20",
         "orientation": "v",
         "showlegend": true,
         "type": "scatter",
         "x": [
          "Confirmed",
          "Death",
          "Recovered"
         ],
         "xaxis": "x",
         "y": [
          4259383,
          293140,
          1913561
         ],
         "yaxis": "y"
        },
        {
         "hovertemplate": "Date=5/13/20<br>index=%{x}<br>value=%{y}<extra></extra>",
         "legendgroup": "5/13/20",
         "line": {
          "color": "#FFA15A",
          "dash": "solid"
         },
         "mode": "lines",
         "name": "5/13/20",
         "orientation": "v",
         "showlegend": true,
         "type": "scatter",
         "x": [
          "Confirmed",
          "Death",
          "Recovered"
         ],
         "xaxis": "x",
         "y": [
          4344370,
          298369,
          2001522
         ],
         "yaxis": "y"
        },
        {
         "hovertemplate": "Date=5/14/20<br>index=%{x}<br>value=%{y}<extra></extra>",
         "legendgroup": "5/14/20",
         "line": {
          "color": "#19d3f3",
          "dash": "solid"
         },
         "mode": "lines",
         "name": "5/14/20",
         "orientation": "v",
         "showlegend": true,
         "type": "scatter",
         "x": [
          "Confirmed",
          "Death",
          "Recovered"
         ],
         "xaxis": "x",
         "y": [
          4441475,
          303637,
          2050298
         ],
         "yaxis": "y"
        },
        {
         "hovertemplate": "Date=5/15/20<br>index=%{x}<br>value=%{y}<extra></extra>",
         "legendgroup": "5/15/20",
         "line": {
          "color": "#FF6692",
          "dash": "solid"
         },
         "mode": "lines",
         "name": "5/15/20",
         "orientation": "v",
         "showlegend": true,
         "type": "scatter",
         "x": [
          "Confirmed",
          "Death",
          "Recovered"
         ],
         "xaxis": "x",
         "y": [
          4537824,
          308852,
          2243887
         ],
         "yaxis": "y"
        },
        {
         "hovertemplate": "Date=5/16/20<br>index=%{x}<br>value=%{y}<extra></extra>",
         "legendgroup": "5/16/20",
         "line": {
          "color": "#B6E880",
          "dash": "solid"
         },
         "mode": "lines",
         "name": "5/16/20",
         "orientation": "v",
         "showlegend": true,
         "type": "scatter",
         "x": [
          "Confirmed",
          "Death",
          "Recovered"
         ],
         "xaxis": "x",
         "y": [
          4629637,
          313011,
          2054354
         ],
         "yaxis": "y"
        },
        {
         "hovertemplate": "Date=5/17/20<br>index=%{x}<br>value=%{y}<extra></extra>",
         "legendgroup": "5/17/20",
         "line": {
          "color": "#FF97FF",
          "dash": "solid"
         },
         "mode": "lines",
         "name": "5/17/20",
         "orientation": "v",
         "showlegend": true,
         "type": "scatter",
         "x": [
          "Confirmed",
          "Death",
          "Recovered"
         ],
         "xaxis": "x",
         "y": [
          4708146,
          316340,
          2116260
         ],
         "yaxis": "y"
        },
        {
         "hovertemplate": "Date=5/18/20<br>index=%{x}<br>value=%{y}<extra></extra>",
         "legendgroup": "5/18/20",
         "line": {
          "color": "#FECB52",
          "dash": "solid"
         },
         "mode": "lines",
         "name": "5/18/20",
         "orientation": "v",
         "showlegend": true,
         "type": "scatter",
         "x": [
          "Confirmed",
          "Death",
          "Recovered"
         ],
         "xaxis": "x",
         "y": [
          4796430,
          319631,
          2178263
         ],
         "yaxis": "y"
        },
        {
         "hovertemplate": "Date=5/19/20<br>index=%{x}<br>value=%{y}<extra></extra>",
         "legendgroup": "5/19/20",
         "line": {
          "color": "#636efa",
          "dash": "solid"
         },
         "mode": "lines",
         "name": "5/19/20",
         "orientation": "v",
         "showlegend": true,
         "type": "scatter",
         "x": [
          "Confirmed",
          "Death",
          "Recovered"
         ],
         "xaxis": "x",
         "y": [
          4892854,
          324412,
          2291652
         ],
         "yaxis": "y"
        },
        {
         "hovertemplate": "Date=5/2/20<br>index=%{x}<br>value=%{y}<extra></extra>",
         "legendgroup": "5/2/20",
         "line": {
          "color": "#EF553B",
          "dash": "solid"
         },
         "mode": "lines",
         "name": "5/2/20",
         "orientation": "v",
         "showlegend": true,
         "type": "scatter",
         "x": [
          "Confirmed",
          "Death",
          "Recovered"
         ],
         "xaxis": "x",
         "y": [
          3435571,
          245204,
          1357843
         ],
         "yaxis": "y"
        },
        {
         "hovertemplate": "Date=5/20/20<br>index=%{x}<br>value=%{y}<extra></extra>",
         "legendgroup": "5/20/20",
         "line": {
          "color": "#00cc96",
          "dash": "solid"
         },
         "mode": "lines",
         "name": "5/20/20",
         "orientation": "v",
         "showlegend": true,
         "type": "scatter",
         "x": [
          "Confirmed",
          "Death",
          "Recovered"
         ],
         "xaxis": "x",
         "y": [
          4995696,
          329286,
          2537378
         ],
         "yaxis": "y"
        },
        {
         "hovertemplate": "Date=5/21/20<br>index=%{x}<br>value=%{y}<extra></extra>",
         "legendgroup": "5/21/20",
         "line": {
          "color": "#ab63fa",
          "dash": "solid"
         },
         "mode": "lines",
         "name": "5/21/20",
         "orientation": "v",
         "showlegend": true,
         "type": "scatter",
         "x": [
          "Confirmed",
          "Death",
          "Recovered"
         ],
         "xaxis": "x",
         "y": [
          5102216,
          334077,
          2434401
         ],
         "yaxis": "y"
        },
        {
         "hovertemplate": "Date=5/22/20<br>index=%{x}<br>value=%{y}<extra></extra>",
         "legendgroup": "5/22/20",
         "line": {
          "color": "#FFA15A",
          "dash": "solid"
         },
         "mode": "lines",
         "name": "5/22/20",
         "orientation": "v",
         "showlegend": true,
         "type": "scatter",
         "x": [
          "Confirmed",
          "Death",
          "Recovered"
         ],
         "xaxis": "x",
         "y": [
          5209116,
          339354,
          2436844
         ],
         "yaxis": "y"
        },
        {
         "hovertemplate": "Date=5/23/20<br>index=%{x}<br>value=%{y}<extra></extra>",
         "legendgroup": "5/23/20",
         "line": {
          "color": "#19d3f3",
          "dash": "solid"
         },
         "mode": "lines",
         "name": "5/23/20",
         "orientation": "v",
         "showlegend": true,
         "type": "scatter",
         "x": [
          "Confirmed",
          "Death",
          "Recovered"
         ],
         "xaxis": "x",
         "y": [
          5308099,
          343342,
          2522276
         ],
         "yaxis": "y"
        },
        {
         "hovertemplate": "Date=5/24/20<br>index=%{x}<br>value=%{y}<extra></extra>",
         "legendgroup": "5/24/20",
         "line": {
          "color": "#FF6692",
          "dash": "solid"
         },
         "mode": "lines",
         "name": "5/24/20",
         "orientation": "v",
         "showlegend": true,
         "type": "scatter",
         "x": [
          "Confirmed",
          "Death",
          "Recovered"
         ],
         "xaxis": "x",
         "y": [
          5403425,
          346159,
          2629765
         ],
         "yaxis": "y"
        },
        {
         "hovertemplate": "Date=5/25/20<br>index=%{x}<br>value=%{y}<extra></extra>",
         "legendgroup": "5/25/20",
         "line": {
          "color": "#B6E880",
          "dash": "solid"
         },
         "mode": "lines",
         "name": "5/25/20",
         "orientation": "v",
         "showlegend": true,
         "type": "scatter",
         "x": [
          "Confirmed",
          "Death",
          "Recovered"
         ],
         "xaxis": "x",
         "y": [
          5490388,
          347336,
          2659472
         ],
         "yaxis": "y"
        },
        {
         "hovertemplate": "Date=5/26/20<br>index=%{x}<br>value=%{y}<extra></extra>",
         "legendgroup": "5/26/20",
         "line": {
          "color": "#FF97FF",
          "dash": "solid"
         },
         "mode": "lines",
         "name": "5/26/20",
         "orientation": "v",
         "showlegend": true,
         "type": "scatter",
         "x": [
          "Confirmed",
          "Death",
          "Recovered"
         ],
         "xaxis": "x",
         "y": [
          5582910,
          351537,
          2993533
         ],
         "yaxis": "y"
        },
        {
         "hovertemplate": "Date=5/27/20<br>index=%{x}<br>value=%{y}<extra></extra>",
         "legendgroup": "5/27/20",
         "line": {
          "color": "#FECB52",
          "dash": "solid"
         },
         "mode": "lines",
         "name": "5/27/20",
         "orientation": "v",
         "showlegend": true,
         "type": "scatter",
         "x": [
          "Confirmed",
          "Death",
          "Recovered"
         ],
         "xaxis": "x",
         "y": [
          5685510,
          356719,
          3268636
         ],
         "yaxis": "y"
        },
        {
         "hovertemplate": "Date=5/28/20<br>index=%{x}<br>value=%{y}<extra></extra>",
         "legendgroup": "5/28/20",
         "line": {
          "color": "#636efa",
          "dash": "solid"
         },
         "mode": "lines",
         "name": "5/28/20",
         "orientation": "v",
         "showlegend": true,
         "type": "scatter",
         "x": [
          "Confirmed",
          "Death",
          "Recovered"
         ],
         "xaxis": "x",
         "y": [
          5803599,
          361392,
          2966731
         ],
         "yaxis": "y"
        },
        {
         "hovertemplate": "Date=5/29/20<br>index=%{x}<br>value=%{y}<extra></extra>",
         "legendgroup": "5/29/20",
         "line": {
          "color": "#EF553B",
          "dash": "solid"
         },
         "mode": "lines",
         "name": "5/29/20",
         "orientation": "v",
         "showlegend": true,
         "type": "scatter",
         "x": [
          "Confirmed",
          "Death",
          "Recovered"
         ],
         "xaxis": "x",
         "y": [
          5924709,
          366076,
          3078997
         ],
         "yaxis": "y"
        },
        {
         "hovertemplate": "Date=5/3/20<br>index=%{x}<br>value=%{y}<extra></extra>",
         "legendgroup": "5/3/20",
         "line": {
          "color": "#00cc96",
          "dash": "solid"
         },
         "mode": "lines",
         "name": "5/3/20",
         "orientation": "v",
         "showlegend": true,
         "type": "scatter",
         "x": [
          "Confirmed",
          "Death",
          "Recovered"
         ],
         "xaxis": "x",
         "y": [
          3513207,
          248657,
          1330118
         ],
         "yaxis": "y"
        },
        {
         "hovertemplate": "Date=5/30/20<br>index=%{x}<br>value=%{y}<extra></extra>",
         "legendgroup": "5/30/20",
         "line": {
          "color": "#ab63fa",
          "dash": "solid"
         },
         "mode": "lines",
         "name": "5/30/20",
         "orientation": "v",
         "showlegend": true,
         "type": "scatter",
         "x": [
          "Confirmed",
          "Death",
          "Recovered"
         ],
         "xaxis": "x",
         "y": [
          6053134,
          370211,
          3066878
         ],
         "yaxis": "y"
        },
        {
         "hovertemplate": "Date=5/31/20<br>index=%{x}<br>value=%{y}<extra></extra>",
         "legendgroup": "5/31/20",
         "line": {
          "color": "#FFA15A",
          "dash": "solid"
         },
         "mode": "lines",
         "name": "5/31/20",
         "orientation": "v",
         "showlegend": true,
         "type": "scatter",
         "x": [
          "Confirmed",
          "Death",
          "Recovered"
         ],
         "xaxis": "x",
         "y": [
          6160243,
          373078,
          3584628
         ],
         "yaxis": "y"
        },
        {
         "hovertemplate": "Date=5/4/20<br>index=%{x}<br>value=%{y}<extra></extra>",
         "legendgroup": "5/4/20",
         "line": {
          "color": "#19d3f3",
          "dash": "solid"
         },
         "mode": "lines",
         "name": "5/4/20",
         "orientation": "v",
         "showlegend": true,
         "type": "scatter",
         "x": [
          "Confirmed",
          "Death",
          "Recovered"
         ],
         "xaxis": "x",
         "y": [
          3589284,
          252785,
          1396443
         ],
         "yaxis": "y"
        },
        {
         "hovertemplate": "Date=5/5/20<br>index=%{x}<br>value=%{y}<extra></extra>",
         "legendgroup": "5/5/20",
         "line": {
          "color": "#FF6692",
          "dash": "solid"
         },
         "mode": "lines",
         "name": "5/5/20",
         "orientation": "v",
         "showlegend": true,
         "type": "scatter",
         "x": [
          "Confirmed",
          "Death",
          "Recovered"
         ],
         "xaxis": "x",
         "y": [
          3669273,
          258655,
          1423913
         ],
         "yaxis": "y"
        },
        {
         "hovertemplate": "Date=5/6/20<br>index=%{x}<br>value=%{y}<extra></extra>",
         "legendgroup": "5/6/20",
         "line": {
          "color": "#B6E880",
          "dash": "solid"
         },
         "mode": "lines",
         "name": "5/6/20",
         "orientation": "v",
         "showlegend": true,
         "type": "scatter",
         "x": [
          "Confirmed",
          "Death",
          "Recovered"
         ],
         "xaxis": "x",
         "y": [
          3759295,
          265321,
          1666729
         ],
         "yaxis": "y"
        },
        {
         "hovertemplate": "Date=5/7/20<br>index=%{x}<br>value=%{y}<extra></extra>",
         "legendgroup": "5/7/20",
         "line": {
          "color": "#FF97FF",
          "dash": "solid"
         },
         "mode": "lines",
         "name": "5/7/20",
         "orientation": "v",
         "showlegend": true,
         "type": "scatter",
         "x": [
          "Confirmed",
          "Death",
          "Recovered"
         ],
         "xaxis": "x",
         "y": [
          3848381,
          270729,
          1534144
         ],
         "yaxis": "y"
        },
        {
         "hovertemplate": "Date=5/8/20<br>index=%{x}<br>value=%{y}<extra></extra>",
         "legendgroup": "5/8/20",
         "line": {
          "color": "#FECB52",
          "dash": "solid"
         },
         "mode": "lines",
         "name": "5/8/20",
         "orientation": "v",
         "showlegend": true,
         "type": "scatter",
         "x": [
          "Confirmed",
          "Death",
          "Recovered"
         ],
         "xaxis": "x",
         "y": [
          3939898,
          276296,
          1824046
         ],
         "yaxis": "y"
        },
        {
         "hovertemplate": "Date=5/9/20<br>index=%{x}<br>value=%{y}<extra></extra>",
         "legendgroup": "5/9/20",
         "line": {
          "color": "#636efa",
          "dash": "solid"
         },
         "mode": "lines",
         "name": "5/9/20",
         "orientation": "v",
         "showlegend": true,
         "type": "scatter",
         "x": [
          "Confirmed",
          "Death",
          "Recovered"
         ],
         "xaxis": "x",
         "y": [
          4023533,
          280562,
          1621353
         ],
         "yaxis": "y"
        },
        {
         "hovertemplate": "Date=6/1/20<br>index=%{x}<br>value=%{y}<extra></extra>",
         "legendgroup": "6/1/20",
         "line": {
          "color": "#EF553B",
          "dash": "solid"
         },
         "mode": "lines",
         "name": "6/1/20",
         "orientation": "v",
         "showlegend": true,
         "type": "scatter",
         "x": [
          "Confirmed",
          "Death",
          "Recovered"
         ],
         "xaxis": "x",
         "y": [
          6256493,
          376608,
          3390794
         ],
         "yaxis": "y"
        },
        {
         "hovertemplate": "Date=6/10/20<br>index=%{x}<br>value=%{y}<extra></extra>",
         "legendgroup": "6/10/20",
         "line": {
          "color": "#00cc96",
          "dash": "solid"
         },
         "mode": "lines",
         "name": "6/10/20",
         "orientation": "v",
         "showlegend": true,
         "type": "scatter",
         "x": [
          "Confirmed",
          "Death",
          "Recovered"
         ],
         "xaxis": "x",
         "y": [
          7354172,
          417366,
          4169612
         ],
         "yaxis": "y"
        },
        {
         "hovertemplate": "Date=6/11/20<br>index=%{x}<br>value=%{y}<extra></extra>",
         "legendgroup": "6/11/20",
         "line": {
          "color": "#ab63fa",
          "dash": "solid"
         },
         "mode": "lines",
         "name": "6/11/20",
         "orientation": "v",
         "showlegend": true,
         "type": "scatter",
         "x": [
          "Confirmed",
          "Death",
          "Recovered"
         ],
         "xaxis": "x",
         "y": [
          7492360,
          422150,
          4214980
         ],
         "yaxis": "y"
        },
        {
         "hovertemplate": "Date=6/12/20<br>index=%{x}<br>value=%{y}<extra></extra>",
         "legendgroup": "6/12/20",
         "line": {
          "color": "#FFA15A",
          "dash": "solid"
         },
         "mode": "lines",
         "name": "6/12/20",
         "orientation": "v",
         "showlegend": true,
         "type": "scatter",
         "x": [
          "Confirmed",
          "Death",
          "Recovered"
         ],
         "xaxis": "x",
         "y": [
          7621346,
          426445,
          4320548
         ],
         "yaxis": "y"
        },
        {
         "hovertemplate": "Date=6/13/20<br>index=%{x}<br>value=%{y}<extra></extra>",
         "legendgroup": "6/13/20",
         "line": {
          "color": "#19d3f3",
          "dash": "solid"
         },
         "mode": "lines",
         "name": "6/13/20",
         "orientation": "v",
         "showlegend": true,
         "type": "scatter",
         "x": [
          "Confirmed",
          "Death",
          "Recovered"
         ],
         "xaxis": "x",
         "y": [
          7755445,
          430695,
          4458664
         ],
         "yaxis": "y"
        },
        {
         "hovertemplate": "Date=6/14/20<br>index=%{x}<br>value=%{y}<extra></extra>",
         "legendgroup": "6/14/20",
         "line": {
          "color": "#FF6692",
          "dash": "solid"
         },
         "mode": "lines",
         "name": "6/14/20",
         "orientation": "v",
         "showlegend": true,
         "type": "scatter",
         "x": [
          "Confirmed",
          "Death",
          "Recovered"
         ],
         "xaxis": "x",
         "y": [
          7888575,
          434041,
          4723243
         ],
         "yaxis": "y"
        },
        {
         "hovertemplate": "Date=6/15/20<br>index=%{x}<br>value=%{y}<extra></extra>",
         "legendgroup": "6/15/20",
         "line": {
          "color": "#B6E880",
          "dash": "solid"
         },
         "mode": "lines",
         "name": "6/15/20",
         "orientation": "v",
         "showlegend": true,
         "type": "scatter",
         "x": [
          "Confirmed",
          "Death",
          "Recovered"
         ],
         "xaxis": "x",
         "y": [
          8010360,
          437545,
          4859681
         ],
         "yaxis": "y"
        },
        {
         "hovertemplate": "Date=6/16/20<br>index=%{x}<br>value=%{y}<extra></extra>",
         "legendgroup": "6/16/20",
         "line": {
          "color": "#FF97FF",
          "dash": "solid"
         },
         "mode": "lines",
         "name": "6/16/20",
         "orientation": "v",
         "showlegend": true,
         "type": "scatter",
         "x": [
          "Confirmed",
          "Death",
          "Recovered"
         ],
         "xaxis": "x",
         "y": [
          8149939,
          444334,
          5184866
         ],
         "yaxis": "y"
        },
        {
         "hovertemplate": "Date=6/17/20<br>index=%{x}<br>value=%{y}<extra></extra>",
         "legendgroup": "6/17/20",
         "line": {
          "color": "#FECB52",
          "dash": "solid"
         },
         "mode": "lines",
         "name": "6/17/20",
         "orientation": "v",
         "showlegend": true,
         "type": "scatter",
         "x": [
          "Confirmed",
          "Death",
          "Recovered"
         ],
         "xaxis": "x",
         "y": [
          8325831,
          449605,
          4824423
         ],
         "yaxis": "y"
        },
        {
         "hovertemplate": "Date=6/18/20<br>index=%{x}<br>value=%{y}<extra></extra>",
         "legendgroup": "6/18/20",
         "line": {
          "color": "#636efa",
          "dash": "solid"
         },
         "mode": "lines",
         "name": "6/18/20",
         "orientation": "v",
         "showlegend": true,
         "type": "scatter",
         "x": [
          "Confirmed",
          "Death",
          "Recovered"
         ],
         "xaxis": "x",
         "y": [
          8464706,
          454614,
          5076611
         ],
         "yaxis": "y"
        },
        {
         "hovertemplate": "Date=6/19/20<br>index=%{x}<br>value=%{y}<extra></extra>",
         "legendgroup": "6/19/20",
         "line": {
          "color": "#EF553B",
          "dash": "solid"
         },
         "mode": "lines",
         "name": "6/19/20",
         "orientation": "v",
         "showlegend": true,
         "type": "scatter",
         "x": [
          "Confirmed",
          "Death",
          "Recovered"
         ],
         "xaxis": "x",
         "y": [
          8645640,
          460883,
          5327764
         ],
         "yaxis": "y"
        },
        {
         "hovertemplate": "Date=6/2/20<br>index=%{x}<br>value=%{y}<extra></extra>",
         "legendgroup": "6/2/20",
         "line": {
          "color": "#00cc96",
          "dash": "solid"
         },
         "mode": "lines",
         "name": "6/2/20",
         "orientation": "v",
         "showlegend": true,
         "type": "scatter",
         "x": [
          "Confirmed",
          "Death",
          "Recovered"
         ],
         "xaxis": "x",
         "y": [
          6369046,
          381307,
          3577367
         ],
         "yaxis": "y"
        },
        {
         "hovertemplate": "Date=6/20/20<br>index=%{x}<br>value=%{y}<extra></extra>",
         "legendgroup": "6/20/20",
         "line": {
          "color": "#ab63fa",
          "dash": "solid"
         },
         "mode": "lines",
         "name": "6/20/20",
         "orientation": "v",
         "showlegend": true,
         "type": "scatter",
         "x": [
          "Confirmed",
          "Death",
          "Recovered"
         ],
         "xaxis": "x",
         "y": [
          8803904,
          465151,
          5802060
         ],
         "yaxis": "y"
        },
        {
         "hovertemplate": "Date=6/21/20<br>index=%{x}<br>value=%{y}<extra></extra>",
         "legendgroup": "6/21/20",
         "line": {
          "color": "#FFA15A",
          "dash": "solid"
         },
         "mode": "lines",
         "name": "6/21/20",
         "orientation": "v",
         "showlegend": true,
         "type": "scatter",
         "x": [
          "Confirmed",
          "Death",
          "Recovered"
         ],
         "xaxis": "x",
         "y": [
          8934807,
          469208,
          5521112
         ],
         "yaxis": "y"
        },
        {
         "hovertemplate": "Date=6/22/20<br>index=%{x}<br>value=%{y}<extra></extra>",
         "legendgroup": "6/22/20",
         "line": {
          "color": "#19d3f3",
          "dash": "solid"
         },
         "mode": "lines",
         "name": "6/22/20",
         "orientation": "v",
         "showlegend": true,
         "type": "scatter",
         "x": [
          "Confirmed",
          "Death",
          "Recovered"
         ],
         "xaxis": "x",
         "y": [
          9072666,
          472779,
          5572100
         ],
         "yaxis": "y"
        },
        {
         "hovertemplate": "Date=6/23/20<br>index=%{x}<br>value=%{y}<extra></extra>",
         "legendgroup": "6/23/20",
         "line": {
          "color": "#FF6692",
          "dash": "solid"
         },
         "mode": "lines",
         "name": "6/23/20",
         "orientation": "v",
         "showlegend": true,
         "type": "scatter",
         "x": [
          "Confirmed",
          "Death",
          "Recovered"
         ],
         "xaxis": "x",
         "y": [
          9238013,
          478203,
          6200632
         ],
         "yaxis": "y"
        },
        {
         "hovertemplate": "Date=6/24/20<br>index=%{x}<br>value=%{y}<extra></extra>",
         "legendgroup": "6/24/20",
         "line": {
          "color": "#B6E880",
          "dash": "solid"
         },
         "mode": "lines",
         "name": "6/24/20",
         "orientation": "v",
         "showlegend": true,
         "type": "scatter",
         "x": [
          "Confirmed",
          "Death",
          "Recovered"
         ],
         "xaxis": "x",
         "y": [
          9405649,
          483377,
          5757701
         ],
         "yaxis": "y"
        },
        {
         "hovertemplate": "Date=6/25/20<br>index=%{x}<br>value=%{y}<extra></extra>",
         "legendgroup": "6/25/20",
         "line": {
          "color": "#FF97FF",
          "dash": "solid"
         },
         "mode": "lines",
         "name": "6/25/20",
         "orientation": "v",
         "showlegend": true,
         "type": "scatter",
         "x": [
          "Confirmed",
          "Death",
          "Recovered"
         ],
         "xaxis": "x",
         "y": [
          9583608,
          489928,
          5902658
         ],
         "yaxis": "y"
        },
        {
         "hovertemplate": "Date=6/26/20<br>index=%{x}<br>value=%{y}<extra></extra>",
         "legendgroup": "6/26/20",
         "line": {
          "color": "#FECB52",
          "dash": "solid"
         },
         "mode": "lines",
         "name": "6/26/20",
         "orientation": "v",
         "showlegend": true,
         "type": "scatter",
         "x": [
          "Confirmed",
          "Death",
          "Recovered"
         ],
         "xaxis": "x",
         "y": [
          9774609,
          494773,
          6128001
         ],
         "yaxis": "y"
        },
        {
         "hovertemplate": "Date=6/27/20<br>index=%{x}<br>value=%{y}<extra></extra>",
         "legendgroup": "6/27/20",
         "line": {
          "color": "#636efa",
          "dash": "solid"
         },
         "mode": "lines",
         "name": "6/27/20",
         "orientation": "v",
         "showlegend": true,
         "type": "scatter",
         "x": [
          "Confirmed",
          "Death",
          "Recovered"
         ],
         "xaxis": "x",
         "y": [
          9952423,
          499291,
          7440716
         ],
         "yaxis": "y"
        },
        {
         "hovertemplate": "Date=6/28/20<br>index=%{x}<br>value=%{y}<extra></extra>",
         "legendgroup": "6/28/20",
         "line": {
          "color": "#EF553B",
          "dash": "solid"
         },
         "mode": "lines",
         "name": "6/28/20",
         "orientation": "v",
         "showlegend": true,
         "type": "scatter",
         "x": [
          "Confirmed",
          "Death",
          "Recovered"
         ],
         "xaxis": "x",
         "y": [
          10117641,
          502450,
          6713870
         ],
         "yaxis": "y"
        },
        {
         "hovertemplate": "Date=6/29/20<br>index=%{x}<br>value=%{y}<extra></extra>",
         "legendgroup": "6/29/20",
         "line": {
          "color": "#00cc96",
          "dash": "solid"
         },
         "mode": "lines",
         "name": "6/29/20",
         "orientation": "v",
         "showlegend": true,
         "type": "scatter",
         "x": [
          "Confirmed",
          "Death",
          "Recovered"
         ],
         "xaxis": "x",
         "y": [
          10273510,
          506076,
          6568978
         ],
         "yaxis": "y"
        },
        {
         "hovertemplate": "Date=6/3/20<br>index=%{x}<br>value=%{y}<extra></extra>",
         "legendgroup": "6/3/20",
         "line": {
          "color": "#ab63fa",
          "dash": "solid"
         },
         "mode": "lines",
         "name": "6/3/20",
         "orientation": "v",
         "showlegend": true,
         "type": "scatter",
         "x": [
          "Confirmed",
          "Death",
          "Recovered"
         ],
         "xaxis": "x",
         "y": [
          6496381,
          387013,
          3628486
         ],
         "yaxis": "y"
        },
        {
         "hovertemplate": "Date=6/30/20<br>index=%{x}<br>value=%{y}<extra></extra>",
         "legendgroup": "6/30/20",
         "line": {
          "color": "#FFA15A",
          "dash": "solid"
         },
         "mode": "lines",
         "name": "6/30/20",
         "orientation": "v",
         "showlegend": true,
         "type": "scatter",
         "x": [
          "Confirmed",
          "Death",
          "Recovered"
         ],
         "xaxis": "x",
         "y": [
          10447879,
          511268,
          6654517
         ],
         "yaxis": "y"
        },
        {
         "hovertemplate": "Date=6/4/20<br>index=%{x}<br>value=%{y}<extra></extra>",
         "legendgroup": "6/4/20",
         "line": {
          "color": "#19d3f3",
          "dash": "solid"
         },
         "mode": "lines",
         "name": "6/4/20",
         "orientation": "v",
         "showlegend": true,
         "type": "scatter",
         "x": [
          "Confirmed",
          "Death",
          "Recovered"
         ],
         "xaxis": "x",
         "y": [
          6623083,
          392161,
          4081611
         ],
         "yaxis": "y"
        },
        {
         "hovertemplate": "Date=6/5/20<br>index=%{x}<br>value=%{y}<extra></extra>",
         "legendgroup": "6/5/20",
         "line": {
          "color": "#FF6692",
          "dash": "solid"
         },
         "mode": "lines",
         "name": "6/5/20",
         "orientation": "v",
         "showlegend": true,
         "type": "scatter",
         "x": [
          "Confirmed",
          "Death",
          "Recovered"
         ],
         "xaxis": "x",
         "y": [
          6755724,
          396983,
          3621337
         ],
         "yaxis": "y"
        },
        {
         "hovertemplate": "Date=6/6/20<br>index=%{x}<br>value=%{y}<extra></extra>",
         "legendgroup": "6/6/20",
         "line": {
          "color": "#B6E880",
          "dash": "solid"
         },
         "mode": "lines",
         "name": "6/6/20",
         "orientation": "v",
         "showlegend": true,
         "type": "scatter",
         "x": [
          "Confirmed",
          "Death",
          "Recovered"
         ],
         "xaxis": "x",
         "y": [
          6881530,
          400801,
          3742495
         ],
         "yaxis": "y"
        },
        {
         "hovertemplate": "Date=6/7/20<br>index=%{x}<br>value=%{y}<extra></extra>",
         "legendgroup": "6/7/20",
         "line": {
          "color": "#FF97FF",
          "dash": "solid"
         },
         "mode": "lines",
         "name": "6/7/20",
         "orientation": "v",
         "showlegend": true,
         "type": "scatter",
         "x": [
          "Confirmed",
          "Death",
          "Recovered"
         ],
         "xaxis": "x",
         "y": [
          6993970,
          403550,
          3866470
         ],
         "yaxis": "y"
        },
        {
         "hovertemplate": "Date=6/8/20<br>index=%{x}<br>value=%{y}<extra></extra>",
         "legendgroup": "6/8/20",
         "line": {
          "color": "#FECB52",
          "dash": "solid"
         },
         "mode": "lines",
         "name": "6/8/20",
         "orientation": "v",
         "showlegend": true,
         "type": "scatter",
         "x": [
          "Confirmed",
          "Death",
          "Recovered"
         ],
         "xaxis": "x",
         "y": [
          7097409,
          407306,
          4399252
         ],
         "yaxis": "y"
        },
        {
         "hovertemplate": "Date=6/9/20<br>index=%{x}<br>value=%{y}<extra></extra>",
         "legendgroup": "6/9/20",
         "line": {
          "color": "#636efa",
          "dash": "solid"
         },
         "mode": "lines",
         "name": "6/9/20",
         "orientation": "v",
         "showlegend": true,
         "type": "scatter",
         "x": [
          "Confirmed",
          "Death",
          "Recovered"
         ],
         "xaxis": "x",
         "y": [
          7220392,
          412161,
          4242967
         ],
         "yaxis": "y"
        },
        {
         "hovertemplate": "Date=7/1/20<br>index=%{x}<br>value=%{y}<extra></extra>",
         "legendgroup": "7/1/20",
         "line": {
          "color": "#EF553B",
          "dash": "solid"
         },
         "mode": "lines",
         "name": "7/1/20",
         "orientation": "v",
         "showlegend": true,
         "type": "scatter",
         "x": [
          "Confirmed",
          "Death",
          "Recovered"
         ],
         "xaxis": "x",
         "y": [
          10664168,
          516253,
          6872486
         ],
         "yaxis": "y"
        },
        {
         "hovertemplate": "Date=7/10/20<br>index=%{x}<br>value=%{y}<extra></extra>",
         "legendgroup": "7/10/20",
         "line": {
          "color": "#00cc96",
          "dash": "solid"
         },
         "mode": "lines",
         "name": "7/10/20",
         "orientation": "v",
         "showlegend": true,
         "type": "scatter",
         "x": [
          "Confirmed",
          "Death",
          "Recovered"
         ],
         "xaxis": "x",
         "y": [
          12498467,
          560209,
          0
         ],
         "yaxis": "y"
        },
        {
         "hovertemplate": "Date=7/11/20<br>index=%{x}<br>value=%{y}<extra></extra>",
         "legendgroup": "7/11/20",
         "line": {
          "color": "#ab63fa",
          "dash": "solid"
         },
         "mode": "lines",
         "name": "7/11/20",
         "orientation": "v",
         "showlegend": true,
         "type": "scatter",
         "x": [
          "Confirmed",
          "Death",
          "Recovered"
         ],
         "xaxis": "x",
         "y": [
          12717908,
          565138,
          0
         ],
         "yaxis": "y"
        },
        {
         "hovertemplate": "Date=7/12/20<br>index=%{x}<br>value=%{y}<extra></extra>",
         "legendgroup": "7/12/20",
         "line": {
          "color": "#FFA15A",
          "dash": "solid"
         },
         "mode": "lines",
         "name": "7/12/20",
         "orientation": "v",
         "showlegend": true,
         "type": "scatter",
         "x": [
          "Confirmed",
          "Death",
          "Recovered"
         ],
         "xaxis": "x",
         "y": [
          12910357,
          569128,
          0
         ],
         "yaxis": "y"
        },
        {
         "hovertemplate": "Date=7/2/20<br>index=%{x}<br>value=%{y}<extra></extra>",
         "legendgroup": "7/2/20",
         "line": {
          "color": "#19d3f3",
          "dash": "solid"
         },
         "mode": "lines",
         "name": "7/2/20",
         "orientation": "v",
         "showlegend": true,
         "type": "scatter",
         "x": [
          "Confirmed",
          "Death",
          "Recovered"
         ],
         "xaxis": "x",
         "y": [
          10871926,
          521361,
          7029365
         ],
         "yaxis": "y"
        },
        {
         "hovertemplate": "Date=7/3/20<br>index=%{x}<br>value=%{y}<extra></extra>",
         "legendgroup": "7/3/20",
         "line": {
          "color": "#FF6692",
          "dash": "solid"
         },
         "mode": "lines",
         "name": "7/3/20",
         "orientation": "v",
         "showlegend": true,
         "type": "scatter",
         "x": [
          "Confirmed",
          "Death",
          "Recovered"
         ],
         "xaxis": "x",
         "y": [
          11076086,
          526419,
          7059433
         ],
         "yaxis": "y"
        },
        {
         "hovertemplate": "Date=7/4/20<br>index=%{x}<br>value=%{y}<extra></extra>",
         "legendgroup": "7/4/20",
         "line": {
          "color": "#B6E880",
          "dash": "solid"
         },
         "mode": "lines",
         "name": "7/4/20",
         "orientation": "v",
         "showlegend": true,
         "type": "scatter",
         "x": [
          "Confirmed",
          "Death",
          "Recovered"
         ],
         "xaxis": "x",
         "y": [
          11269114,
          530767,
          4836213
         ],
         "yaxis": "y"
        },
        {
         "hovertemplate": "Date=7/5/20<br>index=%{x}<br>value=%{y}<extra></extra>",
         "legendgroup": "7/5/20",
         "line": {
          "color": "#FF97FF",
          "dash": "solid"
         },
         "mode": "lines",
         "name": "7/5/20",
         "orientation": "v",
         "showlegend": true,
         "type": "scatter",
         "x": [
          "Confirmed",
          "Death",
          "Recovered"
         ],
         "xaxis": "x",
         "y": [
          11452196,
          534280,
          0
         ],
         "yaxis": "y"
        },
        {
         "hovertemplate": "Date=7/6/20<br>index=%{x}<br>value=%{y}<extra></extra>",
         "legendgroup": "7/6/20",
         "line": {
          "color": "#FECB52",
          "dash": "solid"
         },
         "mode": "lines",
         "name": "7/6/20",
         "orientation": "v",
         "showlegend": true,
         "type": "scatter",
         "x": [
          "Confirmed",
          "Death",
          "Recovered"
         ],
         "xaxis": "x",
         "y": [
          11620096,
          538058,
          0
         ],
         "yaxis": "y"
        },
        {
         "hovertemplate": "Date=7/7/20<br>index=%{x}<br>value=%{y}<extra></extra>",
         "legendgroup": "7/7/20",
         "line": {
          "color": "#636efa",
          "dash": "solid"
         },
         "mode": "lines",
         "name": "7/7/20",
         "orientation": "v",
         "showlegend": true,
         "type": "scatter",
         "x": [
          "Confirmed",
          "Death",
          "Recovered"
         ],
         "xaxis": "x",
         "y": [
          11829602,
          544163,
          0
         ],
         "yaxis": "y"
        },
        {
         "hovertemplate": "Date=7/8/20<br>index=%{x}<br>value=%{y}<extra></extra>",
         "legendgroup": "7/8/20",
         "line": {
          "color": "#EF553B",
          "dash": "solid"
         },
         "mode": "lines",
         "name": "7/8/20",
         "orientation": "v",
         "showlegend": true,
         "type": "scatter",
         "x": [
          "Confirmed",
          "Death",
          "Recovered"
         ],
         "xaxis": "x",
         "y": [
          12041480,
          549468,
          0
         ],
         "yaxis": "y"
        },
        {
         "hovertemplate": "Date=7/9/20<br>index=%{x}<br>value=%{y}<extra></extra>",
         "legendgroup": "7/9/20",
         "line": {
          "color": "#00cc96",
          "dash": "solid"
         },
         "mode": "lines",
         "name": "7/9/20",
         "orientation": "v",
         "showlegend": true,
         "type": "scatter",
         "x": [
          "Confirmed",
          "Death",
          "Recovered"
         ],
         "xaxis": "x",
         "y": [
          12268518,
          554924,
          0
         ],
         "yaxis": "y"
        }
       ],
       "layout": {
        "legend": {
         "title": {
          "text": "Date"
         },
         "tracegroupgap": 0
        },
        "margin": {
         "t": 60
        },
        "template": {
         "data": {
          "bar": [
           {
            "error_x": {
             "color": "#2a3f5f"
            },
            "error_y": {
             "color": "#2a3f5f"
            },
            "marker": {
             "line": {
              "color": "#E5ECF6",
              "width": 0.5
             }
            },
            "type": "bar"
           }
          ],
          "barpolar": [
           {
            "marker": {
             "line": {
              "color": "#E5ECF6",
              "width": 0.5
             }
            },
            "type": "barpolar"
           }
          ],
          "carpet": [
           {
            "aaxis": {
             "endlinecolor": "#2a3f5f",
             "gridcolor": "white",
             "linecolor": "white",
             "minorgridcolor": "white",
             "startlinecolor": "#2a3f5f"
            },
            "baxis": {
             "endlinecolor": "#2a3f5f",
             "gridcolor": "white",
             "linecolor": "white",
             "minorgridcolor": "white",
             "startlinecolor": "#2a3f5f"
            },
            "type": "carpet"
           }
          ],
          "choropleth": [
           {
            "colorbar": {
             "outlinewidth": 0,
             "ticks": ""
            },
            "type": "choropleth"
           }
          ],
          "contour": [
           {
            "colorbar": {
             "outlinewidth": 0,
             "ticks": ""
            },
            "colorscale": [
             [
              0,
              "#0d0887"
             ],
             [
              0.1111111111111111,
              "#46039f"
             ],
             [
              0.2222222222222222,
              "#7201a8"
             ],
             [
              0.3333333333333333,
              "#9c179e"
             ],
             [
              0.4444444444444444,
              "#bd3786"
             ],
             [
              0.5555555555555556,
              "#d8576b"
             ],
             [
              0.6666666666666666,
              "#ed7953"
             ],
             [
              0.7777777777777778,
              "#fb9f3a"
             ],
             [
              0.8888888888888888,
              "#fdca26"
             ],
             [
              1,
              "#f0f921"
             ]
            ],
            "type": "contour"
           }
          ],
          "contourcarpet": [
           {
            "colorbar": {
             "outlinewidth": 0,
             "ticks": ""
            },
            "type": "contourcarpet"
           }
          ],
          "heatmap": [
           {
            "colorbar": {
             "outlinewidth": 0,
             "ticks": ""
            },
            "colorscale": [
             [
              0,
              "#0d0887"
             ],
             [
              0.1111111111111111,
              "#46039f"
             ],
             [
              0.2222222222222222,
              "#7201a8"
             ],
             [
              0.3333333333333333,
              "#9c179e"
             ],
             [
              0.4444444444444444,
              "#bd3786"
             ],
             [
              0.5555555555555556,
              "#d8576b"
             ],
             [
              0.6666666666666666,
              "#ed7953"
             ],
             [
              0.7777777777777778,
              "#fb9f3a"
             ],
             [
              0.8888888888888888,
              "#fdca26"
             ],
             [
              1,
              "#f0f921"
             ]
            ],
            "type": "heatmap"
           }
          ],
          "heatmapgl": [
           {
            "colorbar": {
             "outlinewidth": 0,
             "ticks": ""
            },
            "colorscale": [
             [
              0,
              "#0d0887"
             ],
             [
              0.1111111111111111,
              "#46039f"
             ],
             [
              0.2222222222222222,
              "#7201a8"
             ],
             [
              0.3333333333333333,
              "#9c179e"
             ],
             [
              0.4444444444444444,
              "#bd3786"
             ],
             [
              0.5555555555555556,
              "#d8576b"
             ],
             [
              0.6666666666666666,
              "#ed7953"
             ],
             [
              0.7777777777777778,
              "#fb9f3a"
             ],
             [
              0.8888888888888888,
              "#fdca26"
             ],
             [
              1,
              "#f0f921"
             ]
            ],
            "type": "heatmapgl"
           }
          ],
          "histogram": [
           {
            "marker": {
             "colorbar": {
              "outlinewidth": 0,
              "ticks": ""
             }
            },
            "type": "histogram"
           }
          ],
          "histogram2d": [
           {
            "colorbar": {
             "outlinewidth": 0,
             "ticks": ""
            },
            "colorscale": [
             [
              0,
              "#0d0887"
             ],
             [
              0.1111111111111111,
              "#46039f"
             ],
             [
              0.2222222222222222,
              "#7201a8"
             ],
             [
              0.3333333333333333,
              "#9c179e"
             ],
             [
              0.4444444444444444,
              "#bd3786"
             ],
             [
              0.5555555555555556,
              "#d8576b"
             ],
             [
              0.6666666666666666,
              "#ed7953"
             ],
             [
              0.7777777777777778,
              "#fb9f3a"
             ],
             [
              0.8888888888888888,
              "#fdca26"
             ],
             [
              1,
              "#f0f921"
             ]
            ],
            "type": "histogram2d"
           }
          ],
          "histogram2dcontour": [
           {
            "colorbar": {
             "outlinewidth": 0,
             "ticks": ""
            },
            "colorscale": [
             [
              0,
              "#0d0887"
             ],
             [
              0.1111111111111111,
              "#46039f"
             ],
             [
              0.2222222222222222,
              "#7201a8"
             ],
             [
              0.3333333333333333,
              "#9c179e"
             ],
             [
              0.4444444444444444,
              "#bd3786"
             ],
             [
              0.5555555555555556,
              "#d8576b"
             ],
             [
              0.6666666666666666,
              "#ed7953"
             ],
             [
              0.7777777777777778,
              "#fb9f3a"
             ],
             [
              0.8888888888888888,
              "#fdca26"
             ],
             [
              1,
              "#f0f921"
             ]
            ],
            "type": "histogram2dcontour"
           }
          ],
          "mesh3d": [
           {
            "colorbar": {
             "outlinewidth": 0,
             "ticks": ""
            },
            "type": "mesh3d"
           }
          ],
          "parcoords": [
           {
            "line": {
             "colorbar": {
              "outlinewidth": 0,
              "ticks": ""
             }
            },
            "type": "parcoords"
           }
          ],
          "pie": [
           {
            "automargin": true,
            "type": "pie"
           }
          ],
          "scatter": [
           {
            "marker": {
             "colorbar": {
              "outlinewidth": 0,
              "ticks": ""
             }
            },
            "type": "scatter"
           }
          ],
          "scatter3d": [
           {
            "line": {
             "colorbar": {
              "outlinewidth": 0,
              "ticks": ""
             }
            },
            "marker": {
             "colorbar": {
              "outlinewidth": 0,
              "ticks": ""
             }
            },
            "type": "scatter3d"
           }
          ],
          "scattercarpet": [
           {
            "marker": {
             "colorbar": {
              "outlinewidth": 0,
              "ticks": ""
             }
            },
            "type": "scattercarpet"
           }
          ],
          "scattergeo": [
           {
            "marker": {
             "colorbar": {
              "outlinewidth": 0,
              "ticks": ""
             }
            },
            "type": "scattergeo"
           }
          ],
          "scattergl": [
           {
            "marker": {
             "colorbar": {
              "outlinewidth": 0,
              "ticks": ""
             }
            },
            "type": "scattergl"
           }
          ],
          "scattermapbox": [
           {
            "marker": {
             "colorbar": {
              "outlinewidth": 0,
              "ticks": ""
             }
            },
            "type": "scattermapbox"
           }
          ],
          "scatterpolar": [
           {
            "marker": {
             "colorbar": {
              "outlinewidth": 0,
              "ticks": ""
             }
            },
            "type": "scatterpolar"
           }
          ],
          "scatterpolargl": [
           {
            "marker": {
             "colorbar": {
              "outlinewidth": 0,
              "ticks": ""
             }
            },
            "type": "scatterpolargl"
           }
          ],
          "scatterternary": [
           {
            "marker": {
             "colorbar": {
              "outlinewidth": 0,
              "ticks": ""
             }
            },
            "type": "scatterternary"
           }
          ],
          "surface": [
           {
            "colorbar": {
             "outlinewidth": 0,
             "ticks": ""
            },
            "colorscale": [
             [
              0,
              "#0d0887"
             ],
             [
              0.1111111111111111,
              "#46039f"
             ],
             [
              0.2222222222222222,
              "#7201a8"
             ],
             [
              0.3333333333333333,
              "#9c179e"
             ],
             [
              0.4444444444444444,
              "#bd3786"
             ],
             [
              0.5555555555555556,
              "#d8576b"
             ],
             [
              0.6666666666666666,
              "#ed7953"
             ],
             [
              0.7777777777777778,
              "#fb9f3a"
             ],
             [
              0.8888888888888888,
              "#fdca26"
             ],
             [
              1,
              "#f0f921"
             ]
            ],
            "type": "surface"
           }
          ],
          "table": [
           {
            "cells": {
             "fill": {
              "color": "#EBF0F8"
             },
             "line": {
              "color": "white"
             }
            },
            "header": {
             "fill": {
              "color": "#C8D4E3"
             },
             "line": {
              "color": "white"
             }
            },
            "type": "table"
           }
          ]
         },
         "layout": {
          "annotationdefaults": {
           "arrowcolor": "#2a3f5f",
           "arrowhead": 0,
           "arrowwidth": 1
          },
          "coloraxis": {
           "colorbar": {
            "outlinewidth": 0,
            "ticks": ""
           }
          },
          "colorscale": {
           "diverging": [
            [
             0,
             "#8e0152"
            ],
            [
             0.1,
             "#c51b7d"
            ],
            [
             0.2,
             "#de77ae"
            ],
            [
             0.3,
             "#f1b6da"
            ],
            [
             0.4,
             "#fde0ef"
            ],
            [
             0.5,
             "#f7f7f7"
            ],
            [
             0.6,
             "#e6f5d0"
            ],
            [
             0.7,
             "#b8e186"
            ],
            [
             0.8,
             "#7fbc41"
            ],
            [
             0.9,
             "#4d9221"
            ],
            [
             1,
             "#276419"
            ]
           ],
           "sequential": [
            [
             0,
             "#0d0887"
            ],
            [
             0.1111111111111111,
             "#46039f"
            ],
            [
             0.2222222222222222,
             "#7201a8"
            ],
            [
             0.3333333333333333,
             "#9c179e"
            ],
            [
             0.4444444444444444,
             "#bd3786"
            ],
            [
             0.5555555555555556,
             "#d8576b"
            ],
            [
             0.6666666666666666,
             "#ed7953"
            ],
            [
             0.7777777777777778,
             "#fb9f3a"
            ],
            [
             0.8888888888888888,
             "#fdca26"
            ],
            [
             1,
             "#f0f921"
            ]
           ],
           "sequentialminus": [
            [
             0,
             "#0d0887"
            ],
            [
             0.1111111111111111,
             "#46039f"
            ],
            [
             0.2222222222222222,
             "#7201a8"
            ],
            [
             0.3333333333333333,
             "#9c179e"
            ],
            [
             0.4444444444444444,
             "#bd3786"
            ],
            [
             0.5555555555555556,
             "#d8576b"
            ],
            [
             0.6666666666666666,
             "#ed7953"
            ],
            [
             0.7777777777777778,
             "#fb9f3a"
            ],
            [
             0.8888888888888888,
             "#fdca26"
            ],
            [
             1,
             "#f0f921"
            ]
           ]
          },
          "colorway": [
           "#636efa",
           "#EF553B",
           "#00cc96",
           "#ab63fa",
           "#FFA15A",
           "#19d3f3",
           "#FF6692",
           "#B6E880",
           "#FF97FF",
           "#FECB52"
          ],
          "font": {
           "color": "#2a3f5f"
          },
          "geo": {
           "bgcolor": "white",
           "lakecolor": "white",
           "landcolor": "#E5ECF6",
           "showlakes": true,
           "showland": true,
           "subunitcolor": "white"
          },
          "hoverlabel": {
           "align": "left"
          },
          "hovermode": "closest",
          "mapbox": {
           "style": "light"
          },
          "paper_bgcolor": "white",
          "plot_bgcolor": "#E5ECF6",
          "polar": {
           "angularaxis": {
            "gridcolor": "white",
            "linecolor": "white",
            "ticks": ""
           },
           "bgcolor": "#E5ECF6",
           "radialaxis": {
            "gridcolor": "white",
            "linecolor": "white",
            "ticks": ""
           }
          },
          "scene": {
           "xaxis": {
            "backgroundcolor": "#E5ECF6",
            "gridcolor": "white",
            "gridwidth": 2,
            "linecolor": "white",
            "showbackground": true,
            "ticks": "",
            "zerolinecolor": "white"
           },
           "yaxis": {
            "backgroundcolor": "#E5ECF6",
            "gridcolor": "white",
            "gridwidth": 2,
            "linecolor": "white",
            "showbackground": true,
            "ticks": "",
            "zerolinecolor": "white"
           },
           "zaxis": {
            "backgroundcolor": "#E5ECF6",
            "gridcolor": "white",
            "gridwidth": 2,
            "linecolor": "white",
            "showbackground": true,
            "ticks": "",
            "zerolinecolor": "white"
           }
          },
          "shapedefaults": {
           "line": {
            "color": "#2a3f5f"
           }
          },
          "ternary": {
           "aaxis": {
            "gridcolor": "white",
            "linecolor": "white",
            "ticks": ""
           },
           "baxis": {
            "gridcolor": "white",
            "linecolor": "white",
            "ticks": ""
           },
           "bgcolor": "#E5ECF6",
           "caxis": {
            "gridcolor": "white",
            "linecolor": "white",
            "ticks": ""
           }
          },
          "title": {
           "x": 0.05
          },
          "xaxis": {
           "automargin": true,
           "gridcolor": "white",
           "linecolor": "white",
           "ticks": "",
           "title": {
            "standoff": 15
           },
           "zerolinecolor": "white",
           "zerolinewidth": 2
          },
          "yaxis": {
           "automargin": true,
           "gridcolor": "white",
           "linecolor": "white",
           "ticks": "",
           "title": {
            "standoff": 15
           },
           "zerolinecolor": "white",
           "zerolinewidth": 2
          }
         }
        },
        "xaxis": {
         "anchor": "y",
         "domain": [
          0,
          1
         ],
         "title": {
          "text": "index"
         }
        },
        "yaxis": {
         "anchor": "x",
         "domain": [
          0,
          1
         ],
         "title": {
          "text": "value"
         }
        }
       }
      },
      "text/html": [
       "<div>\n",
       "        \n",
       "        \n",
       "            <div id=\"881c0089-0afb-4aa5-b7a8-a541d54133cd\" class=\"plotly-graph-div\" style=\"height:525px; width:100%;\"></div>\n",
       "            <script type=\"text/javascript\">\n",
       "                require([\"plotly\"], function(Plotly) {\n",
       "                    window.PLOTLYENV=window.PLOTLYENV || {};\n",
       "                    \n",
       "                if (document.getElementById(\"881c0089-0afb-4aa5-b7a8-a541d54133cd\")) {\n",
       "                    Plotly.newPlot(\n",
       "                        '881c0089-0afb-4aa5-b7a8-a541d54133cd',\n",
       "                        [{\"hovertemplate\": \"Date=1/22/20<br>index=%{x}<br>value=%{y}<extra></extra>\", \"legendgroup\": \"1/22/20\", \"line\": {\"color\": \"#636efa\", \"dash\": \"solid\"}, \"mode\": \"lines\", \"name\": \"1/22/20\", \"orientation\": \"v\", \"showlegend\": true, \"type\": \"scatter\", \"x\": [\"Confirmed\", \"Death\", \"Recovered\"], \"xaxis\": \"x\", \"y\": [555.0, 17.0, 28.0], \"yaxis\": \"y\"}, {\"hovertemplate\": \"Date=1/23/20<br>index=%{x}<br>value=%{y}<extra></extra>\", \"legendgroup\": \"1/23/20\", \"line\": {\"color\": \"#EF553B\", \"dash\": \"solid\"}, \"mode\": \"lines\", \"name\": \"1/23/20\", \"orientation\": \"v\", \"showlegend\": true, \"type\": \"scatter\", \"x\": [\"Confirmed\", \"Death\", \"Recovered\"], \"xaxis\": \"x\", \"y\": [654.0, 18.0, 30.0], \"yaxis\": \"y\"}, {\"hovertemplate\": \"Date=1/24/20<br>index=%{x}<br>value=%{y}<extra></extra>\", \"legendgroup\": \"1/24/20\", \"line\": {\"color\": \"#00cc96\", \"dash\": \"solid\"}, \"mode\": \"lines\", \"name\": \"1/24/20\", \"orientation\": \"v\", \"showlegend\": true, \"type\": \"scatter\", \"x\": [\"Confirmed\", \"Death\", \"Recovered\"], \"xaxis\": \"x\", \"y\": [941.0, 26.0, 36.0], \"yaxis\": \"y\"}, {\"hovertemplate\": \"Date=1/25/20<br>index=%{x}<br>value=%{y}<extra></extra>\", \"legendgroup\": \"1/25/20\", \"line\": {\"color\": \"#ab63fa\", \"dash\": \"solid\"}, \"mode\": \"lines\", \"name\": \"1/25/20\", \"orientation\": \"v\", \"showlegend\": true, \"type\": \"scatter\", \"x\": [\"Confirmed\", \"Death\", \"Recovered\"], \"xaxis\": \"x\", \"y\": [1434.0, 42.0, 43.0], \"yaxis\": \"y\"}, {\"hovertemplate\": \"Date=1/26/20<br>index=%{x}<br>value=%{y}<extra></extra>\", \"legendgroup\": \"1/26/20\", \"line\": {\"color\": \"#FFA15A\", \"dash\": \"solid\"}, \"mode\": \"lines\", \"name\": \"1/26/20\", \"orientation\": \"v\", \"showlegend\": true, \"type\": \"scatter\", \"x\": [\"Confirmed\", \"Death\", \"Recovered\"], \"xaxis\": \"x\", \"y\": [2118.0, 56.0, 102.0], \"yaxis\": \"y\"}, {\"hovertemplate\": \"Date=1/27/20<br>index=%{x}<br>value=%{y}<extra></extra>\", \"legendgroup\": \"1/27/20\", \"line\": {\"color\": \"#19d3f3\", \"dash\": \"solid\"}, \"mode\": \"lines\", \"name\": \"1/27/20\", \"orientation\": \"v\", \"showlegend\": true, \"type\": \"scatter\", \"x\": [\"Confirmed\", \"Death\", \"Recovered\"], \"xaxis\": \"x\", \"y\": [2927.0, 82.0, 108.0], \"yaxis\": \"y\"}, {\"hovertemplate\": \"Date=1/28/20<br>index=%{x}<br>value=%{y}<extra></extra>\", \"legendgroup\": \"1/28/20\", \"line\": {\"color\": \"#FF6692\", \"dash\": \"solid\"}, \"mode\": \"lines\", \"name\": \"1/28/20\", \"orientation\": \"v\", \"showlegend\": true, \"type\": \"scatter\", \"x\": [\"Confirmed\", \"Death\", \"Recovered\"], \"xaxis\": \"x\", \"y\": [5578.0, 131.0, 126.0], \"yaxis\": \"y\"}, {\"hovertemplate\": \"Date=1/29/20<br>index=%{x}<br>value=%{y}<extra></extra>\", \"legendgroup\": \"1/29/20\", \"line\": {\"color\": \"#B6E880\", \"dash\": \"solid\"}, \"mode\": \"lines\", \"name\": \"1/29/20\", \"orientation\": \"v\", \"showlegend\": true, \"type\": \"scatter\", \"x\": [\"Confirmed\", \"Death\", \"Recovered\"], \"xaxis\": \"x\", \"y\": [6166.0, 133.0, 143.0], \"yaxis\": \"y\"}, {\"hovertemplate\": \"Date=1/30/20<br>index=%{x}<br>value=%{y}<extra></extra>\", \"legendgroup\": \"1/30/20\", \"line\": {\"color\": \"#FF97FF\", \"dash\": \"solid\"}, \"mode\": \"lines\", \"name\": \"1/30/20\", \"orientation\": \"v\", \"showlegend\": true, \"type\": \"scatter\", \"x\": [\"Confirmed\", \"Death\", \"Recovered\"], \"xaxis\": \"x\", \"y\": [8234.0, 171.0, 222.0], \"yaxis\": \"y\"}, {\"hovertemplate\": \"Date=1/31/20<br>index=%{x}<br>value=%{y}<extra></extra>\", \"legendgroup\": \"1/31/20\", \"line\": {\"color\": \"#FECB52\", \"dash\": \"solid\"}, \"mode\": \"lines\", \"name\": \"1/31/20\", \"orientation\": \"v\", \"showlegend\": true, \"type\": \"scatter\", \"x\": [\"Confirmed\", \"Death\", \"Recovered\"], \"xaxis\": \"x\", \"y\": [9927.0, 213.0, 283.0], \"yaxis\": \"y\"}, {\"hovertemplate\": \"Date=2/1/20<br>index=%{x}<br>value=%{y}<extra></extra>\", \"legendgroup\": \"2/1/20\", \"line\": {\"color\": \"#636efa\", \"dash\": \"solid\"}, \"mode\": \"lines\", \"name\": \"2/1/20\", \"orientation\": \"v\", \"showlegend\": true, \"type\": \"scatter\", \"x\": [\"Confirmed\", \"Death\", \"Recovered\"], \"xaxis\": \"x\", \"y\": [12038.0, 259.0, 473.0], \"yaxis\": \"y\"}, {\"hovertemplate\": \"Date=2/10/20<br>index=%{x}<br>value=%{y}<extra></extra>\", \"legendgroup\": \"2/10/20\", \"line\": {\"color\": \"#EF553B\", \"dash\": \"solid\"}, \"mode\": \"lines\", \"name\": \"2/10/20\", \"orientation\": \"v\", \"showlegend\": true, \"type\": \"scatter\", \"x\": [\"Confirmed\", \"Death\", \"Recovered\"], \"xaxis\": \"x\", \"y\": [42768.0, 1013.0, 4683.0], \"yaxis\": \"y\"}, {\"hovertemplate\": \"Date=2/11/20<br>index=%{x}<br>value=%{y}<extra></extra>\", \"legendgroup\": \"2/11/20\", \"line\": {\"color\": \"#00cc96\", \"dash\": \"solid\"}, \"mode\": \"lines\", \"name\": \"2/11/20\", \"orientation\": \"v\", \"showlegend\": true, \"type\": \"scatter\", \"x\": [\"Confirmed\", \"Death\", \"Recovered\"], \"xaxis\": \"x\", \"y\": [44810.0, 1113.0, 5158.0], \"yaxis\": \"y\"}, {\"hovertemplate\": \"Date=2/12/20<br>index=%{x}<br>value=%{y}<extra></extra>\", \"legendgroup\": \"2/12/20\", \"line\": {\"color\": \"#ab63fa\", \"dash\": \"solid\"}, \"mode\": \"lines\", \"name\": \"2/12/20\", \"orientation\": \"v\", \"showlegend\": true, \"type\": \"scatter\", \"x\": [\"Confirmed\", \"Death\", \"Recovered\"], \"xaxis\": \"x\", \"y\": [45228.0, 1118.0, 6295.0], \"yaxis\": \"y\"}, {\"hovertemplate\": \"Date=2/13/20<br>index=%{x}<br>value=%{y}<extra></extra>\", \"legendgroup\": \"2/13/20\", \"line\": {\"color\": \"#FFA15A\", \"dash\": \"solid\"}, \"mode\": \"lines\", \"name\": \"2/13/20\", \"orientation\": \"v\", \"showlegend\": true, \"type\": \"scatter\", \"x\": [\"Confirmed\", \"Death\", \"Recovered\"], \"xaxis\": \"x\", \"y\": [60381.0, 1371.0, 9093.0], \"yaxis\": \"y\"}, {\"hovertemplate\": \"Date=2/14/20<br>index=%{x}<br>value=%{y}<extra></extra>\", \"legendgroup\": \"2/14/20\", \"line\": {\"color\": \"#19d3f3\", \"dash\": \"solid\"}, \"mode\": \"lines\", \"name\": \"2/14/20\", \"orientation\": \"v\", \"showlegend\": true, \"type\": \"scatter\", \"x\": [\"Confirmed\", \"Death\", \"Recovered\"], \"xaxis\": \"x\", \"y\": [66908.0, 1523.0, 17905.0], \"yaxis\": \"y\"}, {\"hovertemplate\": \"Date=2/15/20<br>index=%{x}<br>value=%{y}<extra></extra>\", \"legendgroup\": \"2/15/20\", \"line\": {\"color\": \"#FF6692\", \"dash\": \"solid\"}, \"mode\": \"lines\", \"name\": \"2/15/20\", \"orientation\": \"v\", \"showlegend\": true, \"type\": \"scatter\", \"x\": [\"Confirmed\", \"Death\", \"Recovered\"], \"xaxis\": \"x\", \"y\": [69050.0, 1666.0, 13280.0], \"yaxis\": \"y\"}, {\"hovertemplate\": \"Date=2/16/20<br>index=%{x}<br>value=%{y}<extra></extra>\", \"legendgroup\": \"2/16/20\", \"line\": {\"color\": \"#B6E880\", \"dash\": \"solid\"}, \"mode\": \"lines\", \"name\": \"2/16/20\", \"orientation\": \"v\", \"showlegend\": true, \"type\": \"scatter\", \"x\": [\"Confirmed\", \"Death\", \"Recovered\"], \"xaxis\": \"x\", \"y\": [71234.0, 1770.0, 14834.0], \"yaxis\": \"y\"}, {\"hovertemplate\": \"Date=2/17/20<br>index=%{x}<br>value=%{y}<extra></extra>\", \"legendgroup\": \"2/17/20\", \"line\": {\"color\": \"#FF97FF\", \"dash\": \"solid\"}, \"mode\": \"lines\", \"name\": \"2/17/20\", \"orientation\": \"v\", \"showlegend\": true, \"type\": \"scatter\", \"x\": [\"Confirmed\", \"Death\", \"Recovered\"], \"xaxis\": \"x\", \"y\": [73269.0, 1868.0, 16109.0], \"yaxis\": \"y\"}, {\"hovertemplate\": \"Date=2/18/20<br>index=%{x}<br>value=%{y}<extra></extra>\", \"legendgroup\": \"2/18/20\", \"line\": {\"color\": \"#FECB52\", \"dash\": \"solid\"}, \"mode\": \"lines\", \"name\": \"2/18/20\", \"orientation\": \"v\", \"showlegend\": true, \"type\": \"scatter\", \"x\": [\"Confirmed\", \"Death\", \"Recovered\"], \"xaxis\": \"x\", \"y\": [75151.0, 2008.0, 18178.0], \"yaxis\": \"y\"}, {\"hovertemplate\": \"Date=2/19/20<br>index=%{x}<br>value=%{y}<extra></extra>\", \"legendgroup\": \"2/19/20\", \"line\": {\"color\": \"#636efa\", \"dash\": \"solid\"}, \"mode\": \"lines\", \"name\": \"2/19/20\", \"orientation\": \"v\", \"showlegend\": true, \"type\": \"scatter\", \"x\": [\"Confirmed\", \"Death\", \"Recovered\"], \"xaxis\": \"x\", \"y\": [75651.0, 2123.0, 18884.0], \"yaxis\": \"y\"}, {\"hovertemplate\": \"Date=2/2/20<br>index=%{x}<br>value=%{y}<extra></extra>\", \"legendgroup\": \"2/2/20\", \"line\": {\"color\": \"#EF553B\", \"dash\": \"solid\"}, \"mode\": \"lines\", \"name\": \"2/2/20\", \"orientation\": \"v\", \"showlegend\": true, \"type\": \"scatter\", \"x\": [\"Confirmed\", \"Death\", \"Recovered\"], \"xaxis\": \"x\", \"y\": [16787.0, 362.0, 623.0], \"yaxis\": \"y\"}, {\"hovertemplate\": \"Date=2/20/20<br>index=%{x}<br>value=%{y}<extra></extra>\", \"legendgroup\": \"2/20/20\", \"line\": {\"color\": \"#00cc96\", \"dash\": \"solid\"}, \"mode\": \"lines\", \"name\": \"2/20/20\", \"orientation\": \"v\", \"showlegend\": true, \"type\": \"scatter\", \"x\": [\"Confirmed\", \"Death\", \"Recovered\"], \"xaxis\": \"x\", \"y\": [76211.0, 2248.0, 22911.0], \"yaxis\": \"y\"}, {\"hovertemplate\": \"Date=2/21/20<br>index=%{x}<br>value=%{y}<extra></extra>\", \"legendgroup\": \"2/21/20\", \"line\": {\"color\": \"#ab63fa\", \"dash\": \"solid\"}, \"mode\": \"lines\", \"name\": \"2/21/20\", \"orientation\": \"v\", \"showlegend\": true, \"type\": \"scatter\", \"x\": [\"Confirmed\", \"Death\", \"Recovered\"], \"xaxis\": \"x\", \"y\": [76840.0, 2252.0, 23407.0], \"yaxis\": \"y\"}, {\"hovertemplate\": \"Date=2/22/20<br>index=%{x}<br>value=%{y}<extra></extra>\", \"legendgroup\": \"2/22/20\", \"line\": {\"color\": \"#FFA15A\", \"dash\": \"solid\"}, \"mode\": \"lines\", \"name\": \"2/22/20\", \"orientation\": \"v\", \"showlegend\": true, \"type\": \"scatter\", \"x\": [\"Confirmed\", \"Death\", \"Recovered\"], \"xaxis\": \"x\", \"y\": [78601.0, 2459.0, 25225.0], \"yaxis\": \"y\"}, {\"hovertemplate\": \"Date=2/23/20<br>index=%{x}<br>value=%{y}<extra></extra>\", \"legendgroup\": \"2/23/20\", \"line\": {\"color\": \"#19d3f3\", \"dash\": \"solid\"}, \"mode\": \"lines\", \"name\": \"2/23/20\", \"orientation\": \"v\", \"showlegend\": true, \"type\": \"scatter\", \"x\": [\"Confirmed\", \"Death\", \"Recovered\"], \"xaxis\": \"x\", \"y\": [78979.0, 2470.0, 27899.0], \"yaxis\": \"y\"}, {\"hovertemplate\": \"Date=2/24/20<br>index=%{x}<br>value=%{y}<extra></extra>\", \"legendgroup\": \"2/24/20\", \"line\": {\"color\": \"#FF6692\", \"dash\": \"solid\"}, \"mode\": \"lines\", \"name\": \"2/24/20\", \"orientation\": \"v\", \"showlegend\": true, \"type\": \"scatter\", \"x\": [\"Confirmed\", \"Death\", \"Recovered\"], \"xaxis\": \"x\", \"y\": [79543.0, 2630.0, 30378.0], \"yaxis\": \"y\"}, {\"hovertemplate\": \"Date=2/25/20<br>index=%{x}<br>value=%{y}<extra></extra>\", \"legendgroup\": \"2/25/20\", \"line\": {\"color\": \"#B6E880\", \"dash\": \"solid\"}, \"mode\": \"lines\", \"name\": \"2/25/20\", \"orientation\": \"v\", \"showlegend\": true, \"type\": \"scatter\", \"x\": [\"Confirmed\", \"Death\", \"Recovered\"], \"xaxis\": \"x\", \"y\": [80396.0, 2710.0, 33342.0], \"yaxis\": \"y\"}, {\"hovertemplate\": \"Date=2/26/20<br>index=%{x}<br>value=%{y}<extra></extra>\", \"legendgroup\": \"2/26/20\", \"line\": {\"color\": \"#FF97FF\", \"dash\": \"solid\"}, \"mode\": \"lines\", \"name\": \"2/26/20\", \"orientation\": \"v\", \"showlegend\": true, \"type\": \"scatter\", \"x\": [\"Confirmed\", \"Death\", \"Recovered\"], \"xaxis\": \"x\", \"y\": [81373.0, 2771.0, 36736.0], \"yaxis\": \"y\"}, {\"hovertemplate\": \"Date=2/27/20<br>index=%{x}<br>value=%{y}<extra></extra>\", \"legendgroup\": \"2/27/20\", \"line\": {\"color\": \"#FECB52\", \"dash\": \"solid\"}, \"mode\": \"lines\", \"name\": \"2/27/20\", \"orientation\": \"v\", \"showlegend\": true, \"type\": \"scatter\", \"x\": [\"Confirmed\", \"Death\", \"Recovered\"], \"xaxis\": \"x\", \"y\": [82737.0, 2814.0, 39802.0], \"yaxis\": \"y\"}, {\"hovertemplate\": \"Date=2/28/20<br>index=%{x}<br>value=%{y}<extra></extra>\", \"legendgroup\": \"2/28/20\", \"line\": {\"color\": \"#636efa\", \"dash\": \"solid\"}, \"mode\": \"lines\", \"name\": \"2/28/20\", \"orientation\": \"v\", \"showlegend\": true, \"type\": \"scatter\", \"x\": [\"Confirmed\", \"Death\", \"Recovered\"], \"xaxis\": \"x\", \"y\": [84114.0, 2873.0, 42732.0], \"yaxis\": \"y\"}, {\"hovertemplate\": \"Date=2/29/20<br>index=%{x}<br>value=%{y}<extra></extra>\", \"legendgroup\": \"2/29/20\", \"line\": {\"color\": \"#EF553B\", \"dash\": \"solid\"}, \"mode\": \"lines\", \"name\": \"2/29/20\", \"orientation\": \"v\", \"showlegend\": true, \"type\": \"scatter\", \"x\": [\"Confirmed\", \"Death\", \"Recovered\"], \"xaxis\": \"x\", \"y\": [86009.0, 2942.0, 45602.0], \"yaxis\": \"y\"}, {\"hovertemplate\": \"Date=2/3/20<br>index=%{x}<br>value=%{y}<extra></extra>\", \"legendgroup\": \"2/3/20\", \"line\": {\"color\": \"#00cc96\", \"dash\": \"solid\"}, \"mode\": \"lines\", \"name\": \"2/3/20\", \"orientation\": \"v\", \"showlegend\": true, \"type\": \"scatter\", \"x\": [\"Confirmed\", \"Death\", \"Recovered\"], \"xaxis\": \"x\", \"y\": [19887.0, 426.0, 852.0], \"yaxis\": \"y\"}, {\"hovertemplate\": \"Date=2/4/20<br>index=%{x}<br>value=%{y}<extra></extra>\", \"legendgroup\": \"2/4/20\", \"line\": {\"color\": \"#ab63fa\", \"dash\": \"solid\"}, \"mode\": \"lines\", \"name\": \"2/4/20\", \"orientation\": \"v\", \"showlegend\": true, \"type\": \"scatter\", \"x\": [\"Confirmed\", \"Death\", \"Recovered\"], \"xaxis\": \"x\", \"y\": [23898.0, 492.0, 1124.0], \"yaxis\": \"y\"}, {\"hovertemplate\": \"Date=2/5/20<br>index=%{x}<br>value=%{y}<extra></extra>\", \"legendgroup\": \"2/5/20\", \"line\": {\"color\": \"#FFA15A\", \"dash\": \"solid\"}, \"mode\": \"lines\", \"name\": \"2/5/20\", \"orientation\": \"v\", \"showlegend\": true, \"type\": \"scatter\", \"x\": [\"Confirmed\", \"Death\", \"Recovered\"], \"xaxis\": \"x\", \"y\": [27643.0, 564.0, 1486.0], \"yaxis\": \"y\"}, {\"hovertemplate\": \"Date=2/6/20<br>index=%{x}<br>value=%{y}<extra></extra>\", \"legendgroup\": \"2/6/20\", \"line\": {\"color\": \"#19d3f3\", \"dash\": \"solid\"}, \"mode\": \"lines\", \"name\": \"2/6/20\", \"orientation\": \"v\", \"showlegend\": true, \"type\": \"scatter\", \"x\": [\"Confirmed\", \"Death\", \"Recovered\"], \"xaxis\": \"x\", \"y\": [30802.0, 634.0, 2012.0], \"yaxis\": \"y\"}, {\"hovertemplate\": \"Date=2/7/20<br>index=%{x}<br>value=%{y}<extra></extra>\", \"legendgroup\": \"2/7/20\", \"line\": {\"color\": \"#FF6692\", \"dash\": \"solid\"}, \"mode\": \"lines\", \"name\": \"2/7/20\", \"orientation\": \"v\", \"showlegend\": true, \"type\": \"scatter\", \"x\": [\"Confirmed\", \"Death\", \"Recovered\"], \"xaxis\": \"x\", \"y\": [34395.0, 719.0, 2621.0], \"yaxis\": \"y\"}, {\"hovertemplate\": \"Date=2/8/20<br>index=%{x}<br>value=%{y}<extra></extra>\", \"legendgroup\": \"2/8/20\", \"line\": {\"color\": \"#B6E880\", \"dash\": \"solid\"}, \"mode\": \"lines\", \"name\": \"2/8/20\", \"orientation\": \"v\", \"showlegend\": true, \"type\": \"scatter\", \"x\": [\"Confirmed\", \"Death\", \"Recovered\"], \"xaxis\": \"x\", \"y\": [37129.0, 806.0, 3245.0], \"yaxis\": \"y\"}, {\"hovertemplate\": \"Date=2/9/20<br>index=%{x}<br>value=%{y}<extra></extra>\", \"legendgroup\": \"2/9/20\", \"line\": {\"color\": \"#FF97FF\", \"dash\": \"solid\"}, \"mode\": \"lines\", \"name\": \"2/9/20\", \"orientation\": \"v\", \"showlegend\": true, \"type\": \"scatter\", \"x\": [\"Confirmed\", \"Death\", \"Recovered\"], \"xaxis\": \"x\", \"y\": [40159.0, 906.0, 3946.0], \"yaxis\": \"y\"}, {\"hovertemplate\": \"Date=3/1/20<br>index=%{x}<br>value=%{y}<extra></extra>\", \"legendgroup\": \"3/1/20\", \"line\": {\"color\": \"#FECB52\", \"dash\": \"solid\"}, \"mode\": \"lines\", \"name\": \"3/1/20\", \"orientation\": \"v\", \"showlegend\": true, \"type\": \"scatter\", \"x\": [\"Confirmed\", \"Death\", \"Recovered\"], \"xaxis\": \"x\", \"y\": [88386.0, 2996.0, 48235.0], \"yaxis\": \"y\"}, {\"hovertemplate\": \"Date=3/10/20<br>index=%{x}<br>value=%{y}<extra></extra>\", \"legendgroup\": \"3/10/20\", \"line\": {\"color\": \"#636efa\", \"dash\": \"solid\"}, \"mode\": \"lines\", \"name\": \"3/10/20\", \"orientation\": \"v\", \"showlegend\": true, \"type\": \"scatter\", \"x\": [\"Confirmed\", \"Death\", \"Recovered\"], \"xaxis\": \"x\", \"y\": [118884.0, 4266.0, 72646.0], \"yaxis\": \"y\"}, {\"hovertemplate\": \"Date=3/11/20<br>index=%{x}<br>value=%{y}<extra></extra>\", \"legendgroup\": \"3/11/20\", \"line\": {\"color\": \"#EF553B\", \"dash\": \"solid\"}, \"mode\": \"lines\", \"name\": \"3/11/20\", \"orientation\": \"v\", \"showlegend\": true, \"type\": \"scatter\", \"x\": [\"Confirmed\", \"Death\", \"Recovered\"], \"xaxis\": \"x\", \"y\": [126547.0, 4611.0, 74339.0], \"yaxis\": \"y\"}, {\"hovertemplate\": \"Date=3/12/20<br>index=%{x}<br>value=%{y}<extra></extra>\", \"legendgroup\": \"3/12/20\", \"line\": {\"color\": \"#00cc96\", \"dash\": \"solid\"}, \"mode\": \"lines\", \"name\": \"3/12/20\", \"orientation\": \"v\", \"showlegend\": true, \"type\": \"scatter\", \"x\": [\"Confirmed\", \"Death\", \"Recovered\"], \"xaxis\": \"x\", \"y\": [132297.0, 4916.0, 76065.0], \"yaxis\": \"y\"}, {\"hovertemplate\": \"Date=3/13/20<br>index=%{x}<br>value=%{y}<extra></extra>\", \"legendgroup\": \"3/13/20\", \"line\": {\"color\": \"#ab63fa\", \"dash\": \"solid\"}, \"mode\": \"lines\", \"name\": \"3/13/20\", \"orientation\": \"v\", \"showlegend\": true, \"type\": \"scatter\", \"x\": [\"Confirmed\", \"Death\", \"Recovered\"], \"xaxis\": \"x\", \"y\": [146704.0, 5413.0, 78046.0], \"yaxis\": \"y\"}, {\"hovertemplate\": \"Date=3/14/20<br>index=%{x}<br>value=%{y}<extra></extra>\", \"legendgroup\": \"3/14/20\", \"line\": {\"color\": \"#FFA15A\", \"dash\": \"solid\"}, \"mode\": \"lines\", \"name\": \"3/14/20\", \"orientation\": \"v\", \"showlegend\": true, \"type\": \"scatter\", \"x\": [\"Confirmed\", \"Death\", \"Recovered\"], \"xaxis\": \"x\", \"y\": [157795.0, 5830.0, 80318.0], \"yaxis\": \"y\"}, {\"hovertemplate\": \"Date=3/15/20<br>index=%{x}<br>value=%{y}<extra></extra>\", \"legendgroup\": \"3/15/20\", \"line\": {\"color\": \"#19d3f3\", \"dash\": \"solid\"}, \"mode\": \"lines\", \"name\": \"3/15/20\", \"orientation\": \"v\", \"showlegend\": true, \"type\": \"scatter\", \"x\": [\"Confirmed\", \"Death\", \"Recovered\"], \"xaxis\": \"x\", \"y\": [168941.0, 6471.0, 83301.0], \"yaxis\": \"y\"}, {\"hovertemplate\": \"Date=3/16/20<br>index=%{x}<br>value=%{y}<extra></extra>\", \"legendgroup\": \"3/16/20\", \"line\": {\"color\": \"#FF6692\", \"dash\": \"solid\"}, \"mode\": \"lines\", \"name\": \"3/16/20\", \"orientation\": \"v\", \"showlegend\": true, \"type\": \"scatter\", \"x\": [\"Confirmed\", \"Death\", \"Recovered\"], \"xaxis\": \"x\", \"y\": [183597.0, 7151.0, 86097.0], \"yaxis\": \"y\"}, {\"hovertemplate\": \"Date=3/17/20<br>index=%{x}<br>value=%{y}<extra></extra>\", \"legendgroup\": \"3/17/20\", \"line\": {\"color\": \"#B6E880\", \"dash\": \"solid\"}, \"mode\": \"lines\", \"name\": \"3/17/20\", \"orientation\": \"v\", \"showlegend\": true, \"type\": \"scatter\", \"x\": [\"Confirmed\", \"Death\", \"Recovered\"], \"xaxis\": \"x\", \"y\": [199434.0, 7955.0, 87392.0], \"yaxis\": \"y\"}, {\"hovertemplate\": \"Date=3/18/20<br>index=%{x}<br>value=%{y}<extra></extra>\", \"legendgroup\": \"3/18/20\", \"line\": {\"color\": \"#FF97FF\", \"dash\": \"solid\"}, \"mode\": \"lines\", \"name\": \"3/18/20\", \"orientation\": \"v\", \"showlegend\": true, \"type\": \"scatter\", \"x\": [\"Confirmed\", \"Death\", \"Recovered\"], \"xaxis\": \"x\", \"y\": [219028.0, 8852.0, 91911.0], \"yaxis\": \"y\"}, {\"hovertemplate\": \"Date=3/19/20<br>index=%{x}<br>value=%{y}<extra></extra>\", \"legendgroup\": \"3/19/20\", \"line\": {\"color\": \"#FECB52\", \"dash\": \"solid\"}, \"mode\": \"lines\", \"name\": \"3/19/20\", \"orientation\": \"v\", \"showlegend\": true, \"type\": \"scatter\", \"x\": [\"Confirmed\", \"Death\", \"Recovered\"], \"xaxis\": \"x\", \"y\": [246949.0, 9958.0, 97881.0], \"yaxis\": \"y\"}, {\"hovertemplate\": \"Date=3/2/20<br>index=%{x}<br>value=%{y}<extra></extra>\", \"legendgroup\": \"3/2/20\", \"line\": {\"color\": \"#636efa\", \"dash\": \"solid\"}, \"mode\": \"lines\", \"name\": \"3/2/20\", \"orientation\": \"v\", \"showlegend\": true, \"type\": \"scatter\", \"x\": [\"Confirmed\", \"Death\", \"Recovered\"], \"xaxis\": \"x\", \"y\": [90360.0, 3085.0, 51185.0], \"yaxis\": \"y\"}, {\"hovertemplate\": \"Date=3/20/20<br>index=%{x}<br>value=%{y}<extra></extra>\", \"legendgroup\": \"3/20/20\", \"line\": {\"color\": \"#EF553B\", \"dash\": \"solid\"}, \"mode\": \"lines\", \"name\": \"3/20/20\", \"orientation\": \"v\", \"showlegend\": true, \"type\": \"scatter\", \"x\": [\"Confirmed\", \"Death\", \"Recovered\"], \"xaxis\": \"x\", \"y\": [276534.0, 11436.0, 98448.0], \"yaxis\": \"y\"}, {\"hovertemplate\": \"Date=3/21/20<br>index=%{x}<br>value=%{y}<extra></extra>\", \"legendgroup\": \"3/21/20\", \"line\": {\"color\": \"#00cc96\", \"dash\": \"solid\"}, \"mode\": \"lines\", \"name\": \"3/21/20\", \"orientation\": \"v\", \"showlegend\": true, \"type\": \"scatter\", \"x\": [\"Confirmed\", \"Death\", \"Recovered\"], \"xaxis\": \"x\", \"y\": [308842.0, 13142.0, 108359.0], \"yaxis\": \"y\"}, {\"hovertemplate\": \"Date=3/22/20<br>index=%{x}<br>value=%{y}<extra></extra>\", \"legendgroup\": \"3/22/20\", \"line\": {\"color\": \"#ab63fa\", \"dash\": \"solid\"}, \"mode\": \"lines\", \"name\": \"3/22/20\", \"orientation\": \"v\", \"showlegend\": true, \"type\": \"scatter\", \"x\": [\"Confirmed\", \"Death\", \"Recovered\"], \"xaxis\": \"x\", \"y\": [342255.0, 14840.0, 114672.0], \"yaxis\": \"y\"}, {\"hovertemplate\": \"Date=3/23/20<br>index=%{x}<br>value=%{y}<extra></extra>\", \"legendgroup\": \"3/23/20\", \"line\": {\"color\": \"#FFA15A\", \"dash\": \"solid\"}, \"mode\": \"lines\", \"name\": \"3/23/20\", \"orientation\": \"v\", \"showlegend\": true, \"type\": \"scatter\", \"x\": [\"Confirmed\", \"Death\", \"Recovered\"], \"xaxis\": \"x\", \"y\": [384420.0, 16757.0, 126801.0], \"yaxis\": \"y\"}, {\"hovertemplate\": \"Date=3/24/20<br>index=%{x}<br>value=%{y}<extra></extra>\", \"legendgroup\": \"3/24/20\", \"line\": {\"color\": \"#19d3f3\", \"dash\": \"solid\"}, \"mode\": \"lines\", \"name\": \"3/24/20\", \"orientation\": \"v\", \"showlegend\": true, \"type\": \"scatter\", \"x\": [\"Confirmed\", \"Death\", \"Recovered\"], \"xaxis\": \"x\", \"y\": [425559.0, 19027.0, 198887.0], \"yaxis\": \"y\"}, {\"hovertemplate\": \"Date=3/25/20<br>index=%{x}<br>value=%{y}<extra></extra>\", \"legendgroup\": \"3/25/20\", \"line\": {\"color\": \"#FF6692\", \"dash\": \"solid\"}, \"mode\": \"lines\", \"name\": \"3/25/20\", \"orientation\": \"v\", \"showlegend\": true, \"type\": \"scatter\", \"x\": [\"Confirmed\", \"Death\", \"Recovered\"], \"xaxis\": \"x\", \"y\": [476376.0, 21803.0, 144183.0], \"yaxis\": \"y\"}, {\"hovertemplate\": \"Date=3/26/20<br>index=%{x}<br>value=%{y}<extra></extra>\", \"legendgroup\": \"3/26/20\", \"line\": {\"color\": \"#B6E880\", \"dash\": \"solid\"}, \"mode\": \"lines\", \"name\": \"3/26/20\", \"orientation\": \"v\", \"showlegend\": true, \"type\": \"scatter\", \"x\": [\"Confirmed\", \"Death\", \"Recovered\"], \"xaxis\": \"x\", \"y\": [539336.0, 24810.0, 150786.0], \"yaxis\": \"y\"}, {\"hovertemplate\": \"Date=3/27/20<br>index=%{x}<br>value=%{y}<extra></extra>\", \"legendgroup\": \"3/27/20\", \"line\": {\"color\": \"#FF97FF\", \"dash\": \"solid\"}, \"mode\": \"lines\", \"name\": \"3/27/20\", \"orientation\": \"v\", \"showlegend\": true, \"type\": \"scatter\", \"x\": [\"Confirmed\", \"Death\", \"Recovered\"], \"xaxis\": \"x\", \"y\": [603736.0, 28328.0, 166827.0], \"yaxis\": \"y\"}, {\"hovertemplate\": \"Date=3/28/20<br>index=%{x}<br>value=%{y}<extra></extra>\", \"legendgroup\": \"3/28/20\", \"line\": {\"color\": \"#FECB52\", \"dash\": \"solid\"}, \"mode\": \"lines\", \"name\": \"3/28/20\", \"orientation\": \"v\", \"showlegend\": true, \"type\": \"scatter\", \"x\": [\"Confirmed\", \"Death\", \"Recovered\"], \"xaxis\": \"x\", \"y\": [671344.0, 32007.0, 190808.0], \"yaxis\": \"y\"}, {\"hovertemplate\": \"Date=3/29/20<br>index=%{x}<br>value=%{y}<extra></extra>\", \"legendgroup\": \"3/29/20\", \"line\": {\"color\": \"#636efa\", \"dash\": \"solid\"}, \"mode\": \"lines\", \"name\": \"3/29/20\", \"orientation\": \"v\", \"showlegend\": true, \"type\": \"scatter\", \"x\": [\"Confirmed\", \"Death\", \"Recovered\"], \"xaxis\": \"x\", \"y\": [730921.0, 35480.0, 219390.0], \"yaxis\": \"y\"}, {\"hovertemplate\": \"Date=3/3/20<br>index=%{x}<br>value=%{y}<extra></extra>\", \"legendgroup\": \"3/3/20\", \"line\": {\"color\": \"#EF553B\", \"dash\": \"solid\"}, \"mode\": \"lines\", \"name\": \"3/3/20\", \"orientation\": \"v\", \"showlegend\": true, \"type\": \"scatter\", \"x\": [\"Confirmed\", \"Death\", \"Recovered\"], \"xaxis\": \"x\", \"y\": [92938.0, 3160.0, 53807.0], \"yaxis\": \"y\"}, {\"hovertemplate\": \"Date=3/30/20<br>index=%{x}<br>value=%{y}<extra></extra>\", \"legendgroup\": \"3/30/20\", \"line\": {\"color\": \"#00cc96\", \"dash\": \"solid\"}, \"mode\": \"lines\", \"name\": \"3/30/20\", \"orientation\": \"v\", \"showlegend\": true, \"type\": \"scatter\", \"x\": [\"Confirmed\", \"Death\", \"Recovered\"], \"xaxis\": \"x\", \"y\": [795560.0, 39644.0, 260714.0], \"yaxis\": \"y\"}, {\"hovertemplate\": \"Date=3/31/20<br>index=%{x}<br>value=%{y}<extra></extra>\", \"legendgroup\": \"3/31/20\", \"line\": {\"color\": \"#ab63fa\", \"dash\": \"solid\"}, \"mode\": \"lines\", \"name\": \"3/31/20\", \"orientation\": \"v\", \"showlegend\": true, \"type\": \"scatter\", \"x\": [\"Confirmed\", \"Death\", \"Recovered\"], \"xaxis\": \"x\", \"y\": [871976.0, 44488.0, 235822.0], \"yaxis\": \"y\"}, {\"hovertemplate\": \"Date=3/4/20<br>index=%{x}<br>value=%{y}<extra></extra>\", \"legendgroup\": \"3/4/20\", \"line\": {\"color\": \"#FFA15A\", \"dash\": \"solid\"}, \"mode\": \"lines\", \"name\": \"3/4/20\", \"orientation\": \"v\", \"showlegend\": true, \"type\": \"scatter\", \"x\": [\"Confirmed\", \"Death\", \"Recovered\"], \"xaxis\": \"x\", \"y\": [95237.0, 3255.0, 61790.0], \"yaxis\": \"y\"}, {\"hovertemplate\": \"Date=3/5/20<br>index=%{x}<br>value=%{y}<extra></extra>\", \"legendgroup\": \"3/5/20\", \"line\": {\"color\": \"#19d3f3\", \"dash\": \"solid\"}, \"mode\": \"lines\", \"name\": \"3/5/20\", \"orientation\": \"v\", \"showlegend\": true, \"type\": \"scatter\", \"x\": [\"Confirmed\", \"Death\", \"Recovered\"], \"xaxis\": \"x\", \"y\": [98028.0, 3348.0, 107701.0], \"yaxis\": \"y\"}, {\"hovertemplate\": \"Date=3/6/20<br>index=%{x}<br>value=%{y}<extra></extra>\", \"legendgroup\": \"3/6/20\", \"line\": {\"color\": \"#FF6692\", \"dash\": \"solid\"}, \"mode\": \"lines\", \"name\": \"3/6/20\", \"orientation\": \"v\", \"showlegend\": true, \"type\": \"scatter\", \"x\": [\"Confirmed\", \"Death\", \"Recovered\"], \"xaxis\": \"x\", \"y\": [101971.0, 3460.0, 64246.0], \"yaxis\": \"y\"}, {\"hovertemplate\": \"Date=3/7/20<br>index=%{x}<br>value=%{y}<extra></extra>\", \"legendgroup\": \"3/7/20\", \"line\": {\"color\": \"#B6E880\", \"dash\": \"solid\"}, \"mode\": \"lines\", \"name\": \"3/7/20\", \"orientation\": \"v\", \"showlegend\": true, \"type\": \"scatter\", \"x\": [\"Confirmed\", \"Death\", \"Recovered\"], \"xaxis\": \"x\", \"y\": [106009.0, 3559.0, 63924.0], \"yaxis\": \"y\"}, {\"hovertemplate\": \"Date=3/8/20<br>index=%{x}<br>value=%{y}<extra></extra>\", \"legendgroup\": \"3/8/20\", \"line\": {\"color\": \"#FF97FF\", \"dash\": \"solid\"}, \"mode\": \"lines\", \"name\": \"3/8/20\", \"orientation\": \"v\", \"showlegend\": true, \"type\": \"scatter\", \"x\": [\"Confirmed\", \"Death\", \"Recovered\"], \"xaxis\": \"x\", \"y\": [109960.0, 3803.0, 66195.0], \"yaxis\": \"y\"}, {\"hovertemplate\": \"Date=3/9/20<br>index=%{x}<br>value=%{y}<extra></extra>\", \"legendgroup\": \"3/9/20\", \"line\": {\"color\": \"#FECB52\", \"dash\": \"solid\"}, \"mode\": \"lines\", \"name\": \"3/9/20\", \"orientation\": \"v\", \"showlegend\": true, \"type\": \"scatter\", \"x\": [\"Confirmed\", \"Death\", \"Recovered\"], \"xaxis\": \"x\", \"y\": [113860.0, 3987.0, 68305.0], \"yaxis\": \"y\"}, {\"hovertemplate\": \"Date=4/1/20<br>index=%{x}<br>value=%{y}<extra></extra>\", \"legendgroup\": \"4/1/20\", \"line\": {\"color\": \"#636efa\", \"dash\": \"solid\"}, \"mode\": \"lines\", \"name\": \"4/1/20\", \"orientation\": \"v\", \"showlegend\": true, \"type\": \"scatter\", \"x\": [\"Confirmed\", \"Death\", \"Recovered\"], \"xaxis\": \"x\", \"y\": [948197.0, 50042.0, 252872.0], \"yaxis\": \"y\"}, {\"hovertemplate\": \"Date=4/10/20<br>index=%{x}<br>value=%{y}<extra></extra>\", \"legendgroup\": \"4/10/20\", \"line\": {\"color\": \"#EF553B\", \"dash\": \"solid\"}, \"mode\": \"lines\", \"name\": \"4/10/20\", \"orientation\": \"v\", \"showlegend\": true, \"type\": \"scatter\", \"x\": [\"Confirmed\", \"Death\", \"Recovered\"], \"xaxis\": \"x\", \"y\": [1672449.0, 108557.0, 490373.0], \"yaxis\": \"y\"}, {\"hovertemplate\": \"Date=4/11/20<br>index=%{x}<br>value=%{y}<extra></extra>\", \"legendgroup\": \"4/11/20\", \"line\": {\"color\": \"#00cc96\", \"dash\": \"solid\"}, \"mode\": \"lines\", \"name\": \"4/11/20\", \"orientation\": \"v\", \"showlegend\": true, \"type\": \"scatter\", \"x\": [\"Confirmed\", \"Death\", \"Recovered\"], \"xaxis\": \"x\", \"y\": [1749169.0, 114625.0, 540950.0], \"yaxis\": \"y\"}, {\"hovertemplate\": \"Date=4/12/20<br>index=%{x}<br>value=%{y}<extra></extra>\", \"legendgroup\": \"4/12/20\", \"line\": {\"color\": \"#ab63fa\", \"dash\": \"solid\"}, \"mode\": \"lines\", \"name\": \"4/12/20\", \"orientation\": \"v\", \"showlegend\": true, \"type\": \"scatter\", \"x\": [\"Confirmed\", \"Death\", \"Recovered\"], \"xaxis\": \"x\", \"y\": [1845951.0, 120356.0, 614863.0], \"yaxis\": \"y\"}, {\"hovertemplate\": \"Date=4/13/20<br>index=%{x}<br>value=%{y}<extra></extra>\", \"legendgroup\": \"4/13/20\", \"line\": {\"color\": \"#FFA15A\", \"dash\": \"solid\"}, \"mode\": \"lines\", \"name\": \"4/13/20\", \"orientation\": \"v\", \"showlegend\": true, \"type\": \"scatter\", \"x\": [\"Confirmed\", \"Death\", \"Recovered\"], \"xaxis\": \"x\", \"y\": [1915545.0, 126103.0, 574266.0], \"yaxis\": \"y\"}, {\"hovertemplate\": \"Date=4/14/20<br>index=%{x}<br>value=%{y}<extra></extra>\", \"legendgroup\": \"4/14/20\", \"line\": {\"color\": \"#19d3f3\", \"dash\": \"solid\"}, \"mode\": \"lines\", \"name\": \"4/14/20\", \"orientation\": \"v\", \"showlegend\": true, \"type\": \"scatter\", \"x\": [\"Confirmed\", \"Death\", \"Recovered\"], \"xaxis\": \"x\", \"y\": [1985472.0, 132999.0, 606428.0], \"yaxis\": \"y\"}, {\"hovertemplate\": \"Date=4/15/20<br>index=%{x}<br>value=%{y}<extra></extra>\", \"legendgroup\": \"4/15/20\", \"line\": {\"color\": \"#FF6692\", \"dash\": \"solid\"}, \"mode\": \"lines\", \"name\": \"4/15/20\", \"orientation\": \"v\", \"showlegend\": true, \"type\": \"scatter\", \"x\": [\"Confirmed\", \"Death\", \"Recovered\"], \"xaxis\": \"x\", \"y\": [2066301.0, 141311.0, 633618.0], \"yaxis\": \"y\"}, {\"hovertemplate\": \"Date=4/16/20<br>index=%{x}<br>value=%{y}<extra></extra>\", \"legendgroup\": \"4/16/20\", \"line\": {\"color\": \"#B6E880\", \"dash\": \"solid\"}, \"mode\": \"lines\", \"name\": \"4/16/20\", \"orientation\": \"v\", \"showlegend\": true, \"type\": \"scatter\", \"x\": [\"Confirmed\", \"Death\", \"Recovered\"], \"xaxis\": \"x\", \"y\": [2163013.0, 148594.0, 651547.0], \"yaxis\": \"y\"}, {\"hovertemplate\": \"Date=4/17/20<br>index=%{x}<br>value=%{y}<extra></extra>\", \"legendgroup\": \"4/17/20\", \"line\": {\"color\": \"#FF97FF\", \"dash\": \"solid\"}, \"mode\": \"lines\", \"name\": \"4/17/20\", \"orientation\": \"v\", \"showlegend\": true, \"type\": \"scatter\", \"x\": [\"Confirmed\", \"Death\", \"Recovered\"], \"xaxis\": \"x\", \"y\": [2250737.0, 157484.0, 826947.0], \"yaxis\": \"y\"}, {\"hovertemplate\": \"Date=4/18/20<br>index=%{x}<br>value=%{y}<extra></extra>\", \"legendgroup\": \"4/18/20\", \"line\": {\"color\": \"#FECB52\", \"dash\": \"solid\"}, \"mode\": \"lines\", \"name\": \"4/18/20\", \"orientation\": \"v\", \"showlegend\": true, \"type\": \"scatter\", \"x\": [\"Confirmed\", \"Death\", \"Recovered\"], \"xaxis\": \"x\", \"y\": [2324083.0, 163942.0, 866270.0], \"yaxis\": \"y\"}, {\"hovertemplate\": \"Date=4/19/20<br>index=%{x}<br>value=%{y}<extra></extra>\", \"legendgroup\": \"4/19/20\", \"line\": {\"color\": \"#636efa\", \"dash\": \"solid\"}, \"mode\": \"lines\", \"name\": \"4/19/20\", \"orientation\": \"v\", \"showlegend\": true, \"type\": \"scatter\", \"x\": [\"Confirmed\", \"Death\", \"Recovered\"], \"xaxis\": \"x\", \"y\": [2404790.0, 168525.0, 769955.0], \"yaxis\": \"y\"}, {\"hovertemplate\": \"Date=4/2/20<br>index=%{x}<br>value=%{y}<extra></extra>\", \"legendgroup\": \"4/2/20\", \"line\": {\"color\": \"#EF553B\", \"dash\": \"solid\"}, \"mode\": \"lines\", \"name\": \"4/2/20\", \"orientation\": \"v\", \"showlegend\": true, \"type\": \"scatter\", \"x\": [\"Confirmed\", \"Death\", \"Recovered\"], \"xaxis\": \"x\", \"y\": [1029598.0, 56347.0, 269977.0], \"yaxis\": \"y\"}, {\"hovertemplate\": \"Date=4/20/20<br>index=%{x}<br>value=%{y}<extra></extra>\", \"legendgroup\": \"4/20/20\", \"line\": {\"color\": \"#00cc96\", \"dash\": \"solid\"}, \"mode\": \"lines\", \"name\": \"4/20/20\", \"orientation\": \"v\", \"showlegend\": true, \"type\": \"scatter\", \"x\": [\"Confirmed\", \"Death\", \"Recovered\"], \"xaxis\": \"x\", \"y\": [2478129.0, 173968.0, 816506.0], \"yaxis\": \"y\"}, {\"hovertemplate\": \"Date=4/21/20<br>index=%{x}<br>value=%{y}<extra></extra>\", \"legendgroup\": \"4/21/20\", \"line\": {\"color\": \"#ab63fa\", \"dash\": \"solid\"}, \"mode\": \"lines\", \"name\": \"4/21/20\", \"orientation\": \"v\", \"showlegend\": true, \"type\": \"scatter\", \"x\": [\"Confirmed\", \"Death\", \"Recovered\"], \"xaxis\": \"x\", \"y\": [2553289.0, 181120.0, 832142.0], \"yaxis\": \"y\"}, {\"hovertemplate\": \"Date=4/22/20<br>index=%{x}<br>value=%{y}<extra></extra>\", \"legendgroup\": \"4/22/20\", \"line\": {\"color\": \"#FFA15A\", \"dash\": \"solid\"}, \"mode\": \"lines\", \"name\": \"4/22/20\", \"orientation\": \"v\", \"showlegend\": true, \"type\": \"scatter\", \"x\": [\"Confirmed\", \"Death\", \"Recovered\"], \"xaxis\": \"x\", \"y\": [2630185.0, 187879.0, 880551.0], \"yaxis\": \"y\"}, {\"hovertemplate\": \"Date=4/23/20<br>index=%{x}<br>value=%{y}<extra></extra>\", \"legendgroup\": \"4/23/20\", \"line\": {\"color\": \"#19d3f3\", \"dash\": \"solid\"}, \"mode\": \"lines\", \"name\": \"4/23/20\", \"orientation\": \"v\", \"showlegend\": true, \"type\": \"scatter\", \"x\": [\"Confirmed\", \"Death\", \"Recovered\"], \"xaxis\": \"x\", \"y\": [2719198.0, 194729.0, 906761.0], \"yaxis\": \"y\"}, {\"hovertemplate\": \"Date=4/24/20<br>index=%{x}<br>value=%{y}<extra></extra>\", \"legendgroup\": \"4/24/20\", \"line\": {\"color\": \"#FF6692\", \"dash\": \"solid\"}, \"mode\": \"lines\", \"name\": \"4/24/20\", \"orientation\": \"v\", \"showlegend\": true, \"type\": \"scatter\", \"x\": [\"Confirmed\", \"Death\", \"Recovered\"], \"xaxis\": \"x\", \"y\": [2806138.0, 201402.0, 1068241.0], \"yaxis\": \"y\"}, {\"hovertemplate\": \"Date=4/25/20<br>index=%{x}<br>value=%{y}<extra></extra>\", \"legendgroup\": \"4/25/20\", \"line\": {\"color\": \"#B6E880\", \"dash\": \"solid\"}, \"mode\": \"lines\", \"name\": \"4/25/20\", \"orientation\": \"v\", \"showlegend\": true, \"type\": \"scatter\", \"x\": [\"Confirmed\", \"Death\", \"Recovered\"], \"xaxis\": \"x\", \"y\": [2890259.0, 206980.0, 1028765.0], \"yaxis\": \"y\"}, {\"hovertemplate\": \"Date=4/26/20<br>index=%{x}<br>value=%{y}<extra></extra>\", \"legendgroup\": \"4/26/20\", \"line\": {\"color\": \"#FF97FF\", \"dash\": \"solid\"}, \"mode\": \"lines\", \"name\": \"4/26/20\", \"orientation\": \"v\", \"showlegend\": true, \"type\": \"scatter\", \"x\": [\"Confirmed\", \"Death\", \"Recovered\"], \"xaxis\": \"x\", \"y\": [2963206.0, 210863.0, 1207808.0], \"yaxis\": \"y\"}, {\"hovertemplate\": \"Date=4/27/20<br>index=%{x}<br>value=%{y}<extra></extra>\", \"legendgroup\": \"4/27/20\", \"line\": {\"color\": \"#FECB52\", \"dash\": \"solid\"}, \"mode\": \"lines\", \"name\": \"4/27/20\", \"orientation\": \"v\", \"showlegend\": true, \"type\": \"scatter\", \"x\": [\"Confirmed\", \"Death\", \"Recovered\"], \"xaxis\": \"x\", \"y\": [3031926.0, 215510.0, 1092501.0], \"yaxis\": \"y\"}, {\"hovertemplate\": \"Date=4/28/20<br>index=%{x}<br>value=%{y}<extra></extra>\", \"legendgroup\": \"4/28/20\", \"line\": {\"color\": \"#636efa\", \"dash\": \"solid\"}, \"mode\": \"lines\", \"name\": \"4/28/20\", \"orientation\": \"v\", \"showlegend\": true, \"type\": \"scatter\", \"x\": [\"Confirmed\", \"Death\", \"Recovered\"], \"xaxis\": \"x\", \"y\": [3107209.0, 221973.0, 1130832.0], \"yaxis\": \"y\"}, {\"hovertemplate\": \"Date=4/29/20<br>index=%{x}<br>value=%{y}<extra></extra>\", \"legendgroup\": \"4/29/20\", \"line\": {\"color\": \"#EF553B\", \"dash\": \"solid\"}, \"mode\": \"lines\", \"name\": \"4/29/20\", \"orientation\": \"v\", \"showlegend\": true, \"type\": \"scatter\", \"x\": [\"Confirmed\", \"Death\", \"Recovered\"], \"xaxis\": \"x\", \"y\": [3184143.0, 228736.0, 1183102.0], \"yaxis\": \"y\"}, {\"hovertemplate\": \"Date=4/3/20<br>index=%{x}<br>value=%{y}<extra></extra>\", \"legendgroup\": \"4/3/20\", \"line\": {\"color\": \"#00cc96\", \"dash\": \"solid\"}, \"mode\": \"lines\", \"name\": \"4/3/20\", \"orientation\": \"v\", \"showlegend\": true, \"type\": \"scatter\", \"x\": [\"Confirmed\", \"Death\", \"Recovered\"], \"xaxis\": \"x\", \"y\": [1112752.0, 62332.0, 295778.0], \"yaxis\": \"y\"}, {\"hovertemplate\": \"Date=4/30/20<br>index=%{x}<br>value=%{y}<extra></extra>\", \"legendgroup\": \"4/30/20\", \"line\": {\"color\": \"#ab63fa\", \"dash\": \"solid\"}, \"mode\": \"lines\", \"name\": \"4/30/20\", \"orientation\": \"v\", \"showlegend\": true, \"type\": \"scatter\", \"x\": [\"Confirmed\", \"Death\", \"Recovered\"], \"xaxis\": \"x\", \"y\": [3267936.0, 234703.0, 1266945.0], \"yaxis\": \"y\"}, {\"hovertemplate\": \"Date=4/4/20<br>index=%{x}<br>value=%{y}<extra></extra>\", \"legendgroup\": \"4/4/20\", \"line\": {\"color\": \"#FFA15A\", \"dash\": \"solid\"}, \"mode\": \"lines\", \"name\": \"4/4/20\", \"orientation\": \"v\", \"showlegend\": true, \"type\": \"scatter\", \"x\": [\"Confirmed\", \"Death\", \"Recovered\"], \"xaxis\": \"x\", \"y\": [1193128.0, 68173.0, 369619.0], \"yaxis\": \"y\"}, {\"hovertemplate\": \"Date=4/5/20<br>index=%{x}<br>value=%{y}<extra></extra>\", \"legendgroup\": \"4/5/20\", \"line\": {\"color\": \"#19d3f3\", \"dash\": \"solid\"}, \"mode\": \"lines\", \"name\": \"4/5/20\", \"orientation\": \"v\", \"showlegend\": true, \"type\": \"scatter\", \"x\": [\"Confirmed\", \"Death\", \"Recovered\"], \"xaxis\": \"x\", \"y\": [1264846.0, 73194.0, 364421.0], \"yaxis\": \"y\"}, {\"hovertemplate\": \"Date=4/6/20<br>index=%{x}<br>value=%{y}<extra></extra>\", \"legendgroup\": \"4/6/20\", \"line\": {\"color\": \"#FF6692\", \"dash\": \"solid\"}, \"mode\": \"lines\", \"name\": \"4/6/20\", \"orientation\": \"v\", \"showlegend\": true, \"type\": \"scatter\", \"x\": [\"Confirmed\", \"Death\", \"Recovered\"], \"xaxis\": \"x\", \"y\": [1337518.0, 79026.0, 401976.0], \"yaxis\": \"y\"}, {\"hovertemplate\": \"Date=4/7/20<br>index=%{x}<br>value=%{y}<extra></extra>\", \"legendgroup\": \"4/7/20\", \"line\": {\"color\": \"#B6E880\", \"dash\": \"solid\"}, \"mode\": \"lines\", \"name\": \"4/7/20\", \"orientation\": \"v\", \"showlegend\": true, \"type\": \"scatter\", \"x\": [\"Confirmed\", \"Death\", \"Recovered\"], \"xaxis\": \"x\", \"y\": [1414391.0, 86928.0, 401879.0], \"yaxis\": \"y\"}, {\"hovertemplate\": \"Date=4/8/20<br>index=%{x}<br>value=%{y}<extra></extra>\", \"legendgroup\": \"4/8/20\", \"line\": {\"color\": \"#FF97FF\", \"dash\": \"solid\"}, \"mode\": \"lines\", \"name\": \"4/8/20\", \"orientation\": \"v\", \"showlegend\": true, \"type\": \"scatter\", \"x\": [\"Confirmed\", \"Death\", \"Recovered\"], \"xaxis\": \"x\", \"y\": [1498166.0, 93663.0, 421423.0], \"yaxis\": \"y\"}, {\"hovertemplate\": \"Date=4/9/20<br>index=%{x}<br>value=%{y}<extra></extra>\", \"legendgroup\": \"4/9/20\", \"line\": {\"color\": \"#FECB52\", \"dash\": \"solid\"}, \"mode\": \"lines\", \"name\": \"4/9/20\", \"orientation\": \"v\", \"showlegend\": true, \"type\": \"scatter\", \"x\": [\"Confirmed\", \"Death\", \"Recovered\"], \"xaxis\": \"x\", \"y\": [1584791.0, 101285.0, 451934.0], \"yaxis\": \"y\"}, {\"hovertemplate\": \"Date=5/1/20<br>index=%{x}<br>value=%{y}<extra></extra>\", \"legendgroup\": \"5/1/20\", \"line\": {\"color\": \"#636efa\", \"dash\": \"solid\"}, \"mode\": \"lines\", \"name\": \"5/1/20\", \"orientation\": \"v\", \"showlegend\": true, \"type\": \"scatter\", \"x\": [\"Confirmed\", \"Death\", \"Recovered\"], \"xaxis\": \"x\", \"y\": [3354984.0, 239879.0, 1293947.0], \"yaxis\": \"y\"}, {\"hovertemplate\": \"Date=5/10/20<br>index=%{x}<br>value=%{y}<extra></extra>\", \"legendgroup\": \"5/10/20\", \"line\": {\"color\": \"#EF553B\", \"dash\": \"solid\"}, \"mode\": \"lines\", \"name\": \"5/10/20\", \"orientation\": \"v\", \"showlegend\": true, \"type\": \"scatter\", \"x\": [\"Confirmed\", \"Death\", \"Recovered\"], \"xaxis\": \"x\", \"y\": [4099779.0, 284127.0, 1691167.0], \"yaxis\": \"y\"}, {\"hovertemplate\": \"Date=5/11/20<br>index=%{x}<br>value=%{y}<extra></extra>\", \"legendgroup\": \"5/11/20\", \"line\": {\"color\": \"#00cc96\", \"dash\": \"solid\"}, \"mode\": \"lines\", \"name\": \"5/11/20\", \"orientation\": \"v\", \"showlegend\": true, \"type\": \"scatter\", \"x\": [\"Confirmed\", \"Death\", \"Recovered\"], \"xaxis\": \"x\", \"y\": [4176020.0, 287599.0, 1736346.0], \"yaxis\": \"y\"}, {\"hovertemplate\": \"Date=5/12/20<br>index=%{x}<br>value=%{y}<extra></extra>\", \"legendgroup\": \"5/12/20\", \"line\": {\"color\": \"#ab63fa\", \"dash\": \"solid\"}, \"mode\": \"lines\", \"name\": \"5/12/20\", \"orientation\": \"v\", \"showlegend\": true, \"type\": \"scatter\", \"x\": [\"Confirmed\", \"Death\", \"Recovered\"], \"xaxis\": \"x\", \"y\": [4259383.0, 293140.0, 1913561.0], \"yaxis\": \"y\"}, {\"hovertemplate\": \"Date=5/13/20<br>index=%{x}<br>value=%{y}<extra></extra>\", \"legendgroup\": \"5/13/20\", \"line\": {\"color\": \"#FFA15A\", \"dash\": \"solid\"}, \"mode\": \"lines\", \"name\": \"5/13/20\", \"orientation\": \"v\", \"showlegend\": true, \"type\": \"scatter\", \"x\": [\"Confirmed\", \"Death\", \"Recovered\"], \"xaxis\": \"x\", \"y\": [4344370.0, 298369.0, 2001522.0], \"yaxis\": \"y\"}, {\"hovertemplate\": \"Date=5/14/20<br>index=%{x}<br>value=%{y}<extra></extra>\", \"legendgroup\": \"5/14/20\", \"line\": {\"color\": \"#19d3f3\", \"dash\": \"solid\"}, \"mode\": \"lines\", \"name\": \"5/14/20\", \"orientation\": \"v\", \"showlegend\": true, \"type\": \"scatter\", \"x\": [\"Confirmed\", \"Death\", \"Recovered\"], \"xaxis\": \"x\", \"y\": [4441475.0, 303637.0, 2050298.0], \"yaxis\": \"y\"}, {\"hovertemplate\": \"Date=5/15/20<br>index=%{x}<br>value=%{y}<extra></extra>\", \"legendgroup\": \"5/15/20\", \"line\": {\"color\": \"#FF6692\", \"dash\": \"solid\"}, \"mode\": \"lines\", \"name\": \"5/15/20\", \"orientation\": \"v\", \"showlegend\": true, \"type\": \"scatter\", \"x\": [\"Confirmed\", \"Death\", \"Recovered\"], \"xaxis\": \"x\", \"y\": [4537824.0, 308852.0, 2243887.0], \"yaxis\": \"y\"}, {\"hovertemplate\": \"Date=5/16/20<br>index=%{x}<br>value=%{y}<extra></extra>\", \"legendgroup\": \"5/16/20\", \"line\": {\"color\": \"#B6E880\", \"dash\": \"solid\"}, \"mode\": \"lines\", \"name\": \"5/16/20\", \"orientation\": \"v\", \"showlegend\": true, \"type\": \"scatter\", \"x\": [\"Confirmed\", \"Death\", \"Recovered\"], \"xaxis\": \"x\", \"y\": [4629637.0, 313011.0, 2054354.0], \"yaxis\": \"y\"}, {\"hovertemplate\": \"Date=5/17/20<br>index=%{x}<br>value=%{y}<extra></extra>\", \"legendgroup\": \"5/17/20\", \"line\": {\"color\": \"#FF97FF\", \"dash\": \"solid\"}, \"mode\": \"lines\", \"name\": \"5/17/20\", \"orientation\": \"v\", \"showlegend\": true, \"type\": \"scatter\", \"x\": [\"Confirmed\", \"Death\", \"Recovered\"], \"xaxis\": \"x\", \"y\": [4708146.0, 316340.0, 2116260.0], \"yaxis\": \"y\"}, {\"hovertemplate\": \"Date=5/18/20<br>index=%{x}<br>value=%{y}<extra></extra>\", \"legendgroup\": \"5/18/20\", \"line\": {\"color\": \"#FECB52\", \"dash\": \"solid\"}, \"mode\": \"lines\", \"name\": \"5/18/20\", \"orientation\": \"v\", \"showlegend\": true, \"type\": \"scatter\", \"x\": [\"Confirmed\", \"Death\", \"Recovered\"], \"xaxis\": \"x\", \"y\": [4796430.0, 319631.0, 2178263.0], \"yaxis\": \"y\"}, {\"hovertemplate\": \"Date=5/19/20<br>index=%{x}<br>value=%{y}<extra></extra>\", \"legendgroup\": \"5/19/20\", \"line\": {\"color\": \"#636efa\", \"dash\": \"solid\"}, \"mode\": \"lines\", \"name\": \"5/19/20\", \"orientation\": \"v\", \"showlegend\": true, \"type\": \"scatter\", \"x\": [\"Confirmed\", \"Death\", \"Recovered\"], \"xaxis\": \"x\", \"y\": [4892854.0, 324412.0, 2291652.0], \"yaxis\": \"y\"}, {\"hovertemplate\": \"Date=5/2/20<br>index=%{x}<br>value=%{y}<extra></extra>\", \"legendgroup\": \"5/2/20\", \"line\": {\"color\": \"#EF553B\", \"dash\": \"solid\"}, \"mode\": \"lines\", \"name\": \"5/2/20\", \"orientation\": \"v\", \"showlegend\": true, \"type\": \"scatter\", \"x\": [\"Confirmed\", \"Death\", \"Recovered\"], \"xaxis\": \"x\", \"y\": [3435571.0, 245204.0, 1357843.0], \"yaxis\": \"y\"}, {\"hovertemplate\": \"Date=5/20/20<br>index=%{x}<br>value=%{y}<extra></extra>\", \"legendgroup\": \"5/20/20\", \"line\": {\"color\": \"#00cc96\", \"dash\": \"solid\"}, \"mode\": \"lines\", \"name\": \"5/20/20\", \"orientation\": \"v\", \"showlegend\": true, \"type\": \"scatter\", \"x\": [\"Confirmed\", \"Death\", \"Recovered\"], \"xaxis\": \"x\", \"y\": [4995696.0, 329286.0, 2537378.0], \"yaxis\": \"y\"}, {\"hovertemplate\": \"Date=5/21/20<br>index=%{x}<br>value=%{y}<extra></extra>\", \"legendgroup\": \"5/21/20\", \"line\": {\"color\": \"#ab63fa\", \"dash\": \"solid\"}, \"mode\": \"lines\", \"name\": \"5/21/20\", \"orientation\": \"v\", \"showlegend\": true, \"type\": \"scatter\", \"x\": [\"Confirmed\", \"Death\", \"Recovered\"], \"xaxis\": \"x\", \"y\": [5102216.0, 334077.0, 2434401.0], \"yaxis\": \"y\"}, {\"hovertemplate\": \"Date=5/22/20<br>index=%{x}<br>value=%{y}<extra></extra>\", \"legendgroup\": \"5/22/20\", \"line\": {\"color\": \"#FFA15A\", \"dash\": \"solid\"}, \"mode\": \"lines\", \"name\": \"5/22/20\", \"orientation\": \"v\", \"showlegend\": true, \"type\": \"scatter\", \"x\": [\"Confirmed\", \"Death\", \"Recovered\"], \"xaxis\": \"x\", \"y\": [5209116.0, 339354.0, 2436844.0], \"yaxis\": \"y\"}, {\"hovertemplate\": \"Date=5/23/20<br>index=%{x}<br>value=%{y}<extra></extra>\", \"legendgroup\": \"5/23/20\", \"line\": {\"color\": \"#19d3f3\", \"dash\": \"solid\"}, \"mode\": \"lines\", \"name\": \"5/23/20\", \"orientation\": \"v\", \"showlegend\": true, \"type\": \"scatter\", \"x\": [\"Confirmed\", \"Death\", \"Recovered\"], \"xaxis\": \"x\", \"y\": [5308099.0, 343342.0, 2522276.0], \"yaxis\": \"y\"}, {\"hovertemplate\": \"Date=5/24/20<br>index=%{x}<br>value=%{y}<extra></extra>\", \"legendgroup\": \"5/24/20\", \"line\": {\"color\": \"#FF6692\", \"dash\": \"solid\"}, \"mode\": \"lines\", \"name\": \"5/24/20\", \"orientation\": \"v\", \"showlegend\": true, \"type\": \"scatter\", \"x\": [\"Confirmed\", \"Death\", \"Recovered\"], \"xaxis\": \"x\", \"y\": [5403425.0, 346159.0, 2629765.0], \"yaxis\": \"y\"}, {\"hovertemplate\": \"Date=5/25/20<br>index=%{x}<br>value=%{y}<extra></extra>\", \"legendgroup\": \"5/25/20\", \"line\": {\"color\": \"#B6E880\", \"dash\": \"solid\"}, \"mode\": \"lines\", \"name\": \"5/25/20\", \"orientation\": \"v\", \"showlegend\": true, \"type\": \"scatter\", \"x\": [\"Confirmed\", \"Death\", \"Recovered\"], \"xaxis\": \"x\", \"y\": [5490388.0, 347336.0, 2659472.0], \"yaxis\": \"y\"}, {\"hovertemplate\": \"Date=5/26/20<br>index=%{x}<br>value=%{y}<extra></extra>\", \"legendgroup\": \"5/26/20\", \"line\": {\"color\": \"#FF97FF\", \"dash\": \"solid\"}, \"mode\": \"lines\", \"name\": \"5/26/20\", \"orientation\": \"v\", \"showlegend\": true, \"type\": \"scatter\", \"x\": [\"Confirmed\", \"Death\", \"Recovered\"], \"xaxis\": \"x\", \"y\": [5582910.0, 351537.0, 2993533.0], \"yaxis\": \"y\"}, {\"hovertemplate\": \"Date=5/27/20<br>index=%{x}<br>value=%{y}<extra></extra>\", \"legendgroup\": \"5/27/20\", \"line\": {\"color\": \"#FECB52\", \"dash\": \"solid\"}, \"mode\": \"lines\", \"name\": \"5/27/20\", \"orientation\": \"v\", \"showlegend\": true, \"type\": \"scatter\", \"x\": [\"Confirmed\", \"Death\", \"Recovered\"], \"xaxis\": \"x\", \"y\": [5685510.0, 356719.0, 3268636.0], \"yaxis\": \"y\"}, {\"hovertemplate\": \"Date=5/28/20<br>index=%{x}<br>value=%{y}<extra></extra>\", \"legendgroup\": \"5/28/20\", \"line\": {\"color\": \"#636efa\", \"dash\": \"solid\"}, \"mode\": \"lines\", \"name\": \"5/28/20\", \"orientation\": \"v\", \"showlegend\": true, \"type\": \"scatter\", \"x\": [\"Confirmed\", \"Death\", \"Recovered\"], \"xaxis\": \"x\", \"y\": [5803599.0, 361392.0, 2966731.0], \"yaxis\": \"y\"}, {\"hovertemplate\": \"Date=5/29/20<br>index=%{x}<br>value=%{y}<extra></extra>\", \"legendgroup\": \"5/29/20\", \"line\": {\"color\": \"#EF553B\", \"dash\": \"solid\"}, \"mode\": \"lines\", \"name\": \"5/29/20\", \"orientation\": \"v\", \"showlegend\": true, \"type\": \"scatter\", \"x\": [\"Confirmed\", \"Death\", \"Recovered\"], \"xaxis\": \"x\", \"y\": [5924709.0, 366076.0, 3078997.0], \"yaxis\": \"y\"}, {\"hovertemplate\": \"Date=5/3/20<br>index=%{x}<br>value=%{y}<extra></extra>\", \"legendgroup\": \"5/3/20\", \"line\": {\"color\": \"#00cc96\", \"dash\": \"solid\"}, \"mode\": \"lines\", \"name\": \"5/3/20\", \"orientation\": \"v\", \"showlegend\": true, \"type\": \"scatter\", \"x\": [\"Confirmed\", \"Death\", \"Recovered\"], \"xaxis\": \"x\", \"y\": [3513207.0, 248657.0, 1330118.0], \"yaxis\": \"y\"}, {\"hovertemplate\": \"Date=5/30/20<br>index=%{x}<br>value=%{y}<extra></extra>\", \"legendgroup\": \"5/30/20\", \"line\": {\"color\": \"#ab63fa\", \"dash\": \"solid\"}, \"mode\": \"lines\", \"name\": \"5/30/20\", \"orientation\": \"v\", \"showlegend\": true, \"type\": \"scatter\", \"x\": [\"Confirmed\", \"Death\", \"Recovered\"], \"xaxis\": \"x\", \"y\": [6053134.0, 370211.0, 3066878.0], \"yaxis\": \"y\"}, {\"hovertemplate\": \"Date=5/31/20<br>index=%{x}<br>value=%{y}<extra></extra>\", \"legendgroup\": \"5/31/20\", \"line\": {\"color\": \"#FFA15A\", \"dash\": \"solid\"}, \"mode\": \"lines\", \"name\": \"5/31/20\", \"orientation\": \"v\", \"showlegend\": true, \"type\": \"scatter\", \"x\": [\"Confirmed\", \"Death\", \"Recovered\"], \"xaxis\": \"x\", \"y\": [6160243.0, 373078.0, 3584628.0], \"yaxis\": \"y\"}, {\"hovertemplate\": \"Date=5/4/20<br>index=%{x}<br>value=%{y}<extra></extra>\", \"legendgroup\": \"5/4/20\", \"line\": {\"color\": \"#19d3f3\", \"dash\": \"solid\"}, \"mode\": \"lines\", \"name\": \"5/4/20\", \"orientation\": \"v\", \"showlegend\": true, \"type\": \"scatter\", \"x\": [\"Confirmed\", \"Death\", \"Recovered\"], \"xaxis\": \"x\", \"y\": [3589284.0, 252785.0, 1396443.0], \"yaxis\": \"y\"}, {\"hovertemplate\": \"Date=5/5/20<br>index=%{x}<br>value=%{y}<extra></extra>\", \"legendgroup\": \"5/5/20\", \"line\": {\"color\": \"#FF6692\", \"dash\": \"solid\"}, \"mode\": \"lines\", \"name\": \"5/5/20\", \"orientation\": \"v\", \"showlegend\": true, \"type\": \"scatter\", \"x\": [\"Confirmed\", \"Death\", \"Recovered\"], \"xaxis\": \"x\", \"y\": [3669273.0, 258655.0, 1423913.0], \"yaxis\": \"y\"}, {\"hovertemplate\": \"Date=5/6/20<br>index=%{x}<br>value=%{y}<extra></extra>\", \"legendgroup\": \"5/6/20\", \"line\": {\"color\": \"#B6E880\", \"dash\": \"solid\"}, \"mode\": \"lines\", \"name\": \"5/6/20\", \"orientation\": \"v\", \"showlegend\": true, \"type\": \"scatter\", \"x\": [\"Confirmed\", \"Death\", \"Recovered\"], \"xaxis\": \"x\", \"y\": [3759295.0, 265321.0, 1666729.0], \"yaxis\": \"y\"}, {\"hovertemplate\": \"Date=5/7/20<br>index=%{x}<br>value=%{y}<extra></extra>\", \"legendgroup\": \"5/7/20\", \"line\": {\"color\": \"#FF97FF\", \"dash\": \"solid\"}, \"mode\": \"lines\", \"name\": \"5/7/20\", \"orientation\": \"v\", \"showlegend\": true, \"type\": \"scatter\", \"x\": [\"Confirmed\", \"Death\", \"Recovered\"], \"xaxis\": \"x\", \"y\": [3848381.0, 270729.0, 1534144.0], \"yaxis\": \"y\"}, {\"hovertemplate\": \"Date=5/8/20<br>index=%{x}<br>value=%{y}<extra></extra>\", \"legendgroup\": \"5/8/20\", \"line\": {\"color\": \"#FECB52\", \"dash\": \"solid\"}, \"mode\": \"lines\", \"name\": \"5/8/20\", \"orientation\": \"v\", \"showlegend\": true, \"type\": \"scatter\", \"x\": [\"Confirmed\", \"Death\", \"Recovered\"], \"xaxis\": \"x\", \"y\": [3939898.0, 276296.0, 1824046.0], \"yaxis\": \"y\"}, {\"hovertemplate\": \"Date=5/9/20<br>index=%{x}<br>value=%{y}<extra></extra>\", \"legendgroup\": \"5/9/20\", \"line\": {\"color\": \"#636efa\", \"dash\": \"solid\"}, \"mode\": \"lines\", \"name\": \"5/9/20\", \"orientation\": \"v\", \"showlegend\": true, \"type\": \"scatter\", \"x\": [\"Confirmed\", \"Death\", \"Recovered\"], \"xaxis\": \"x\", \"y\": [4023533.0, 280562.0, 1621353.0], \"yaxis\": \"y\"}, {\"hovertemplate\": \"Date=6/1/20<br>index=%{x}<br>value=%{y}<extra></extra>\", \"legendgroup\": \"6/1/20\", \"line\": {\"color\": \"#EF553B\", \"dash\": \"solid\"}, \"mode\": \"lines\", \"name\": \"6/1/20\", \"orientation\": \"v\", \"showlegend\": true, \"type\": \"scatter\", \"x\": [\"Confirmed\", \"Death\", \"Recovered\"], \"xaxis\": \"x\", \"y\": [6256493.0, 376608.0, 3390794.0], \"yaxis\": \"y\"}, {\"hovertemplate\": \"Date=6/10/20<br>index=%{x}<br>value=%{y}<extra></extra>\", \"legendgroup\": \"6/10/20\", \"line\": {\"color\": \"#00cc96\", \"dash\": \"solid\"}, \"mode\": \"lines\", \"name\": \"6/10/20\", \"orientation\": \"v\", \"showlegend\": true, \"type\": \"scatter\", \"x\": [\"Confirmed\", \"Death\", \"Recovered\"], \"xaxis\": \"x\", \"y\": [7354172.0, 417366.0, 4169612.0], \"yaxis\": \"y\"}, {\"hovertemplate\": \"Date=6/11/20<br>index=%{x}<br>value=%{y}<extra></extra>\", \"legendgroup\": \"6/11/20\", \"line\": {\"color\": \"#ab63fa\", \"dash\": \"solid\"}, \"mode\": \"lines\", \"name\": \"6/11/20\", \"orientation\": \"v\", \"showlegend\": true, \"type\": \"scatter\", \"x\": [\"Confirmed\", \"Death\", \"Recovered\"], \"xaxis\": \"x\", \"y\": [7492360.0, 422150.0, 4214980.0], \"yaxis\": \"y\"}, {\"hovertemplate\": \"Date=6/12/20<br>index=%{x}<br>value=%{y}<extra></extra>\", \"legendgroup\": \"6/12/20\", \"line\": {\"color\": \"#FFA15A\", \"dash\": \"solid\"}, \"mode\": \"lines\", \"name\": \"6/12/20\", \"orientation\": \"v\", \"showlegend\": true, \"type\": \"scatter\", \"x\": [\"Confirmed\", \"Death\", \"Recovered\"], \"xaxis\": \"x\", \"y\": [7621346.0, 426445.0, 4320548.0], \"yaxis\": \"y\"}, {\"hovertemplate\": \"Date=6/13/20<br>index=%{x}<br>value=%{y}<extra></extra>\", \"legendgroup\": \"6/13/20\", \"line\": {\"color\": \"#19d3f3\", \"dash\": \"solid\"}, \"mode\": \"lines\", \"name\": \"6/13/20\", \"orientation\": \"v\", \"showlegend\": true, \"type\": \"scatter\", \"x\": [\"Confirmed\", \"Death\", \"Recovered\"], \"xaxis\": \"x\", \"y\": [7755445.0, 430695.0, 4458664.0], \"yaxis\": \"y\"}, {\"hovertemplate\": \"Date=6/14/20<br>index=%{x}<br>value=%{y}<extra></extra>\", \"legendgroup\": \"6/14/20\", \"line\": {\"color\": \"#FF6692\", \"dash\": \"solid\"}, \"mode\": \"lines\", \"name\": \"6/14/20\", \"orientation\": \"v\", \"showlegend\": true, \"type\": \"scatter\", \"x\": [\"Confirmed\", \"Death\", \"Recovered\"], \"xaxis\": \"x\", \"y\": [7888575.0, 434041.0, 4723243.0], \"yaxis\": \"y\"}, {\"hovertemplate\": \"Date=6/15/20<br>index=%{x}<br>value=%{y}<extra></extra>\", \"legendgroup\": \"6/15/20\", \"line\": {\"color\": \"#B6E880\", \"dash\": \"solid\"}, \"mode\": \"lines\", \"name\": \"6/15/20\", \"orientation\": \"v\", \"showlegend\": true, \"type\": \"scatter\", \"x\": [\"Confirmed\", \"Death\", \"Recovered\"], \"xaxis\": \"x\", \"y\": [8010360.0, 437545.0, 4859681.0], \"yaxis\": \"y\"}, {\"hovertemplate\": \"Date=6/16/20<br>index=%{x}<br>value=%{y}<extra></extra>\", \"legendgroup\": \"6/16/20\", \"line\": {\"color\": \"#FF97FF\", \"dash\": \"solid\"}, \"mode\": \"lines\", \"name\": \"6/16/20\", \"orientation\": \"v\", \"showlegend\": true, \"type\": \"scatter\", \"x\": [\"Confirmed\", \"Death\", \"Recovered\"], \"xaxis\": \"x\", \"y\": [8149939.0, 444334.0, 5184866.0], \"yaxis\": \"y\"}, {\"hovertemplate\": \"Date=6/17/20<br>index=%{x}<br>value=%{y}<extra></extra>\", \"legendgroup\": \"6/17/20\", \"line\": {\"color\": \"#FECB52\", \"dash\": \"solid\"}, \"mode\": \"lines\", \"name\": \"6/17/20\", \"orientation\": \"v\", \"showlegend\": true, \"type\": \"scatter\", \"x\": [\"Confirmed\", \"Death\", \"Recovered\"], \"xaxis\": \"x\", \"y\": [8325831.0, 449605.0, 4824423.0], \"yaxis\": \"y\"}, {\"hovertemplate\": \"Date=6/18/20<br>index=%{x}<br>value=%{y}<extra></extra>\", \"legendgroup\": \"6/18/20\", \"line\": {\"color\": \"#636efa\", \"dash\": \"solid\"}, \"mode\": \"lines\", \"name\": \"6/18/20\", \"orientation\": \"v\", \"showlegend\": true, \"type\": \"scatter\", \"x\": [\"Confirmed\", \"Death\", \"Recovered\"], \"xaxis\": \"x\", \"y\": [8464706.0, 454614.0, 5076611.0], \"yaxis\": \"y\"}, {\"hovertemplate\": \"Date=6/19/20<br>index=%{x}<br>value=%{y}<extra></extra>\", \"legendgroup\": \"6/19/20\", \"line\": {\"color\": \"#EF553B\", \"dash\": \"solid\"}, \"mode\": \"lines\", \"name\": \"6/19/20\", \"orientation\": \"v\", \"showlegend\": true, \"type\": \"scatter\", \"x\": [\"Confirmed\", \"Death\", \"Recovered\"], \"xaxis\": \"x\", \"y\": [8645640.0, 460883.0, 5327764.0], \"yaxis\": \"y\"}, {\"hovertemplate\": \"Date=6/2/20<br>index=%{x}<br>value=%{y}<extra></extra>\", \"legendgroup\": \"6/2/20\", \"line\": {\"color\": \"#00cc96\", \"dash\": \"solid\"}, \"mode\": \"lines\", \"name\": \"6/2/20\", \"orientation\": \"v\", \"showlegend\": true, \"type\": \"scatter\", \"x\": [\"Confirmed\", \"Death\", \"Recovered\"], \"xaxis\": \"x\", \"y\": [6369046.0, 381307.0, 3577367.0], \"yaxis\": \"y\"}, {\"hovertemplate\": \"Date=6/20/20<br>index=%{x}<br>value=%{y}<extra></extra>\", \"legendgroup\": \"6/20/20\", \"line\": {\"color\": \"#ab63fa\", \"dash\": \"solid\"}, \"mode\": \"lines\", \"name\": \"6/20/20\", \"orientation\": \"v\", \"showlegend\": true, \"type\": \"scatter\", \"x\": [\"Confirmed\", \"Death\", \"Recovered\"], \"xaxis\": \"x\", \"y\": [8803904.0, 465151.0, 5802060.0], \"yaxis\": \"y\"}, {\"hovertemplate\": \"Date=6/21/20<br>index=%{x}<br>value=%{y}<extra></extra>\", \"legendgroup\": \"6/21/20\", \"line\": {\"color\": \"#FFA15A\", \"dash\": \"solid\"}, \"mode\": \"lines\", \"name\": \"6/21/20\", \"orientation\": \"v\", \"showlegend\": true, \"type\": \"scatter\", \"x\": [\"Confirmed\", \"Death\", \"Recovered\"], \"xaxis\": \"x\", \"y\": [8934807.0, 469208.0, 5521112.0], \"yaxis\": \"y\"}, {\"hovertemplate\": \"Date=6/22/20<br>index=%{x}<br>value=%{y}<extra></extra>\", \"legendgroup\": \"6/22/20\", \"line\": {\"color\": \"#19d3f3\", \"dash\": \"solid\"}, \"mode\": \"lines\", \"name\": \"6/22/20\", \"orientation\": \"v\", \"showlegend\": true, \"type\": \"scatter\", \"x\": [\"Confirmed\", \"Death\", \"Recovered\"], \"xaxis\": \"x\", \"y\": [9072666.0, 472779.0, 5572100.0], \"yaxis\": \"y\"}, {\"hovertemplate\": \"Date=6/23/20<br>index=%{x}<br>value=%{y}<extra></extra>\", \"legendgroup\": \"6/23/20\", \"line\": {\"color\": \"#FF6692\", \"dash\": \"solid\"}, \"mode\": \"lines\", \"name\": \"6/23/20\", \"orientation\": \"v\", \"showlegend\": true, \"type\": \"scatter\", \"x\": [\"Confirmed\", \"Death\", \"Recovered\"], \"xaxis\": \"x\", \"y\": [9238013.0, 478203.0, 6200632.0], \"yaxis\": \"y\"}, {\"hovertemplate\": \"Date=6/24/20<br>index=%{x}<br>value=%{y}<extra></extra>\", \"legendgroup\": \"6/24/20\", \"line\": {\"color\": \"#B6E880\", \"dash\": \"solid\"}, \"mode\": \"lines\", \"name\": \"6/24/20\", \"orientation\": \"v\", \"showlegend\": true, \"type\": \"scatter\", \"x\": [\"Confirmed\", \"Death\", \"Recovered\"], \"xaxis\": \"x\", \"y\": [9405649.0, 483377.0, 5757701.0], \"yaxis\": \"y\"}, {\"hovertemplate\": \"Date=6/25/20<br>index=%{x}<br>value=%{y}<extra></extra>\", \"legendgroup\": \"6/25/20\", \"line\": {\"color\": \"#FF97FF\", \"dash\": \"solid\"}, \"mode\": \"lines\", \"name\": \"6/25/20\", \"orientation\": \"v\", \"showlegend\": true, \"type\": \"scatter\", \"x\": [\"Confirmed\", \"Death\", \"Recovered\"], \"xaxis\": \"x\", \"y\": [9583608.0, 489928.0, 5902658.0], \"yaxis\": \"y\"}, {\"hovertemplate\": \"Date=6/26/20<br>index=%{x}<br>value=%{y}<extra></extra>\", \"legendgroup\": \"6/26/20\", \"line\": {\"color\": \"#FECB52\", \"dash\": \"solid\"}, \"mode\": \"lines\", \"name\": \"6/26/20\", \"orientation\": \"v\", \"showlegend\": true, \"type\": \"scatter\", \"x\": [\"Confirmed\", \"Death\", \"Recovered\"], \"xaxis\": \"x\", \"y\": [9774609.0, 494773.0, 6128001.0], \"yaxis\": \"y\"}, {\"hovertemplate\": \"Date=6/27/20<br>index=%{x}<br>value=%{y}<extra></extra>\", \"legendgroup\": \"6/27/20\", \"line\": {\"color\": \"#636efa\", \"dash\": \"solid\"}, \"mode\": \"lines\", \"name\": \"6/27/20\", \"orientation\": \"v\", \"showlegend\": true, \"type\": \"scatter\", \"x\": [\"Confirmed\", \"Death\", \"Recovered\"], \"xaxis\": \"x\", \"y\": [9952423.0, 499291.0, 7440716.0], \"yaxis\": \"y\"}, {\"hovertemplate\": \"Date=6/28/20<br>index=%{x}<br>value=%{y}<extra></extra>\", \"legendgroup\": \"6/28/20\", \"line\": {\"color\": \"#EF553B\", \"dash\": \"solid\"}, \"mode\": \"lines\", \"name\": \"6/28/20\", \"orientation\": \"v\", \"showlegend\": true, \"type\": \"scatter\", \"x\": [\"Confirmed\", \"Death\", \"Recovered\"], \"xaxis\": \"x\", \"y\": [10117641.0, 502450.0, 6713870.0], \"yaxis\": \"y\"}, {\"hovertemplate\": \"Date=6/29/20<br>index=%{x}<br>value=%{y}<extra></extra>\", \"legendgroup\": \"6/29/20\", \"line\": {\"color\": \"#00cc96\", \"dash\": \"solid\"}, \"mode\": \"lines\", \"name\": \"6/29/20\", \"orientation\": \"v\", \"showlegend\": true, \"type\": \"scatter\", \"x\": [\"Confirmed\", \"Death\", \"Recovered\"], \"xaxis\": \"x\", \"y\": [10273510.0, 506076.0, 6568978.0], \"yaxis\": \"y\"}, {\"hovertemplate\": \"Date=6/3/20<br>index=%{x}<br>value=%{y}<extra></extra>\", \"legendgroup\": \"6/3/20\", \"line\": {\"color\": \"#ab63fa\", \"dash\": \"solid\"}, \"mode\": \"lines\", \"name\": \"6/3/20\", \"orientation\": \"v\", \"showlegend\": true, \"type\": \"scatter\", \"x\": [\"Confirmed\", \"Death\", \"Recovered\"], \"xaxis\": \"x\", \"y\": [6496381.0, 387013.0, 3628486.0], \"yaxis\": \"y\"}, {\"hovertemplate\": \"Date=6/30/20<br>index=%{x}<br>value=%{y}<extra></extra>\", \"legendgroup\": \"6/30/20\", \"line\": {\"color\": \"#FFA15A\", \"dash\": \"solid\"}, \"mode\": \"lines\", \"name\": \"6/30/20\", \"orientation\": \"v\", \"showlegend\": true, \"type\": \"scatter\", \"x\": [\"Confirmed\", \"Death\", \"Recovered\"], \"xaxis\": \"x\", \"y\": [10447879.0, 511268.0, 6654517.0], \"yaxis\": \"y\"}, {\"hovertemplate\": \"Date=6/4/20<br>index=%{x}<br>value=%{y}<extra></extra>\", \"legendgroup\": \"6/4/20\", \"line\": {\"color\": \"#19d3f3\", \"dash\": \"solid\"}, \"mode\": \"lines\", \"name\": \"6/4/20\", \"orientation\": \"v\", \"showlegend\": true, \"type\": \"scatter\", \"x\": [\"Confirmed\", \"Death\", \"Recovered\"], \"xaxis\": \"x\", \"y\": [6623083.0, 392161.0, 4081611.0], \"yaxis\": \"y\"}, {\"hovertemplate\": \"Date=6/5/20<br>index=%{x}<br>value=%{y}<extra></extra>\", \"legendgroup\": \"6/5/20\", \"line\": {\"color\": \"#FF6692\", \"dash\": \"solid\"}, \"mode\": \"lines\", \"name\": \"6/5/20\", \"orientation\": \"v\", \"showlegend\": true, \"type\": \"scatter\", \"x\": [\"Confirmed\", \"Death\", \"Recovered\"], \"xaxis\": \"x\", \"y\": [6755724.0, 396983.0, 3621337.0], \"yaxis\": \"y\"}, {\"hovertemplate\": \"Date=6/6/20<br>index=%{x}<br>value=%{y}<extra></extra>\", \"legendgroup\": \"6/6/20\", \"line\": {\"color\": \"#B6E880\", \"dash\": \"solid\"}, \"mode\": \"lines\", \"name\": \"6/6/20\", \"orientation\": \"v\", \"showlegend\": true, \"type\": \"scatter\", \"x\": [\"Confirmed\", \"Death\", \"Recovered\"], \"xaxis\": \"x\", \"y\": [6881530.0, 400801.0, 3742495.0], \"yaxis\": \"y\"}, {\"hovertemplate\": \"Date=6/7/20<br>index=%{x}<br>value=%{y}<extra></extra>\", \"legendgroup\": \"6/7/20\", \"line\": {\"color\": \"#FF97FF\", \"dash\": \"solid\"}, \"mode\": \"lines\", \"name\": \"6/7/20\", \"orientation\": \"v\", \"showlegend\": true, \"type\": \"scatter\", \"x\": [\"Confirmed\", \"Death\", \"Recovered\"], \"xaxis\": \"x\", \"y\": [6993970.0, 403550.0, 3866470.0], \"yaxis\": \"y\"}, {\"hovertemplate\": \"Date=6/8/20<br>index=%{x}<br>value=%{y}<extra></extra>\", \"legendgroup\": \"6/8/20\", \"line\": {\"color\": \"#FECB52\", \"dash\": \"solid\"}, \"mode\": \"lines\", \"name\": \"6/8/20\", \"orientation\": \"v\", \"showlegend\": true, \"type\": \"scatter\", \"x\": [\"Confirmed\", \"Death\", \"Recovered\"], \"xaxis\": \"x\", \"y\": [7097409.0, 407306.0, 4399252.0], \"yaxis\": \"y\"}, {\"hovertemplate\": \"Date=6/9/20<br>index=%{x}<br>value=%{y}<extra></extra>\", \"legendgroup\": \"6/9/20\", \"line\": {\"color\": \"#636efa\", \"dash\": \"solid\"}, \"mode\": \"lines\", \"name\": \"6/9/20\", \"orientation\": \"v\", \"showlegend\": true, \"type\": \"scatter\", \"x\": [\"Confirmed\", \"Death\", \"Recovered\"], \"xaxis\": \"x\", \"y\": [7220392.0, 412161.0, 4242967.0], \"yaxis\": \"y\"}, {\"hovertemplate\": \"Date=7/1/20<br>index=%{x}<br>value=%{y}<extra></extra>\", \"legendgroup\": \"7/1/20\", \"line\": {\"color\": \"#EF553B\", \"dash\": \"solid\"}, \"mode\": \"lines\", \"name\": \"7/1/20\", \"orientation\": \"v\", \"showlegend\": true, \"type\": \"scatter\", \"x\": [\"Confirmed\", \"Death\", \"Recovered\"], \"xaxis\": \"x\", \"y\": [10664168.0, 516253.0, 6872486.0], \"yaxis\": \"y\"}, {\"hovertemplate\": \"Date=7/10/20<br>index=%{x}<br>value=%{y}<extra></extra>\", \"legendgroup\": \"7/10/20\", \"line\": {\"color\": \"#00cc96\", \"dash\": \"solid\"}, \"mode\": \"lines\", \"name\": \"7/10/20\", \"orientation\": \"v\", \"showlegend\": true, \"type\": \"scatter\", \"x\": [\"Confirmed\", \"Death\", \"Recovered\"], \"xaxis\": \"x\", \"y\": [12498467.0, 560209.0, 0.0], \"yaxis\": \"y\"}, {\"hovertemplate\": \"Date=7/11/20<br>index=%{x}<br>value=%{y}<extra></extra>\", \"legendgroup\": \"7/11/20\", \"line\": {\"color\": \"#ab63fa\", \"dash\": \"solid\"}, \"mode\": \"lines\", \"name\": \"7/11/20\", \"orientation\": \"v\", \"showlegend\": true, \"type\": \"scatter\", \"x\": [\"Confirmed\", \"Death\", \"Recovered\"], \"xaxis\": \"x\", \"y\": [12717908.0, 565138.0, 0.0], \"yaxis\": \"y\"}, {\"hovertemplate\": \"Date=7/12/20<br>index=%{x}<br>value=%{y}<extra></extra>\", \"legendgroup\": \"7/12/20\", \"line\": {\"color\": \"#FFA15A\", \"dash\": \"solid\"}, \"mode\": \"lines\", \"name\": \"7/12/20\", \"orientation\": \"v\", \"showlegend\": true, \"type\": \"scatter\", \"x\": [\"Confirmed\", \"Death\", \"Recovered\"], \"xaxis\": \"x\", \"y\": [12910357.0, 569128.0, 0.0], \"yaxis\": \"y\"}, {\"hovertemplate\": \"Date=7/2/20<br>index=%{x}<br>value=%{y}<extra></extra>\", \"legendgroup\": \"7/2/20\", \"line\": {\"color\": \"#19d3f3\", \"dash\": \"solid\"}, \"mode\": \"lines\", \"name\": \"7/2/20\", \"orientation\": \"v\", \"showlegend\": true, \"type\": \"scatter\", \"x\": [\"Confirmed\", \"Death\", \"Recovered\"], \"xaxis\": \"x\", \"y\": [10871926.0, 521361.0, 7029365.0], \"yaxis\": \"y\"}, {\"hovertemplate\": \"Date=7/3/20<br>index=%{x}<br>value=%{y}<extra></extra>\", \"legendgroup\": \"7/3/20\", \"line\": {\"color\": \"#FF6692\", \"dash\": \"solid\"}, \"mode\": \"lines\", \"name\": \"7/3/20\", \"orientation\": \"v\", \"showlegend\": true, \"type\": \"scatter\", \"x\": [\"Confirmed\", \"Death\", \"Recovered\"], \"xaxis\": \"x\", \"y\": [11076086.0, 526419.0, 7059433.0], \"yaxis\": \"y\"}, {\"hovertemplate\": \"Date=7/4/20<br>index=%{x}<br>value=%{y}<extra></extra>\", \"legendgroup\": \"7/4/20\", \"line\": {\"color\": \"#B6E880\", \"dash\": \"solid\"}, \"mode\": \"lines\", \"name\": \"7/4/20\", \"orientation\": \"v\", \"showlegend\": true, \"type\": \"scatter\", \"x\": [\"Confirmed\", \"Death\", \"Recovered\"], \"xaxis\": \"x\", \"y\": [11269114.0, 530767.0, 4836213.0], \"yaxis\": \"y\"}, {\"hovertemplate\": \"Date=7/5/20<br>index=%{x}<br>value=%{y}<extra></extra>\", \"legendgroup\": \"7/5/20\", \"line\": {\"color\": \"#FF97FF\", \"dash\": \"solid\"}, \"mode\": \"lines\", \"name\": \"7/5/20\", \"orientation\": \"v\", \"showlegend\": true, \"type\": \"scatter\", \"x\": [\"Confirmed\", \"Death\", \"Recovered\"], \"xaxis\": \"x\", \"y\": [11452196.0, 534280.0, 0.0], \"yaxis\": \"y\"}, {\"hovertemplate\": \"Date=7/6/20<br>index=%{x}<br>value=%{y}<extra></extra>\", \"legendgroup\": \"7/6/20\", \"line\": {\"color\": \"#FECB52\", \"dash\": \"solid\"}, \"mode\": \"lines\", \"name\": \"7/6/20\", \"orientation\": \"v\", \"showlegend\": true, \"type\": \"scatter\", \"x\": [\"Confirmed\", \"Death\", \"Recovered\"], \"xaxis\": \"x\", \"y\": [11620096.0, 538058.0, 0.0], \"yaxis\": \"y\"}, {\"hovertemplate\": \"Date=7/7/20<br>index=%{x}<br>value=%{y}<extra></extra>\", \"legendgroup\": \"7/7/20\", \"line\": {\"color\": \"#636efa\", \"dash\": \"solid\"}, \"mode\": \"lines\", \"name\": \"7/7/20\", \"orientation\": \"v\", \"showlegend\": true, \"type\": \"scatter\", \"x\": [\"Confirmed\", \"Death\", \"Recovered\"], \"xaxis\": \"x\", \"y\": [11829602.0, 544163.0, 0.0], \"yaxis\": \"y\"}, {\"hovertemplate\": \"Date=7/8/20<br>index=%{x}<br>value=%{y}<extra></extra>\", \"legendgroup\": \"7/8/20\", \"line\": {\"color\": \"#EF553B\", \"dash\": \"solid\"}, \"mode\": \"lines\", \"name\": \"7/8/20\", \"orientation\": \"v\", \"showlegend\": true, \"type\": \"scatter\", \"x\": [\"Confirmed\", \"Death\", \"Recovered\"], \"xaxis\": \"x\", \"y\": [12041480.0, 549468.0, 0.0], \"yaxis\": \"y\"}, {\"hovertemplate\": \"Date=7/9/20<br>index=%{x}<br>value=%{y}<extra></extra>\", \"legendgroup\": \"7/9/20\", \"line\": {\"color\": \"#00cc96\", \"dash\": \"solid\"}, \"mode\": \"lines\", \"name\": \"7/9/20\", \"orientation\": \"v\", \"showlegend\": true, \"type\": \"scatter\", \"x\": [\"Confirmed\", \"Death\", \"Recovered\"], \"xaxis\": \"x\", \"y\": [12268518.0, 554924.0, 0.0], \"yaxis\": \"y\"}],\n",
       "                        {\"legend\": {\"title\": {\"text\": \"Date\"}, \"tracegroupgap\": 0}, \"margin\": {\"t\": 60}, \"template\": {\"data\": {\"bar\": [{\"error_x\": {\"color\": \"#2a3f5f\"}, \"error_y\": {\"color\": \"#2a3f5f\"}, \"marker\": {\"line\": {\"color\": \"#E5ECF6\", \"width\": 0.5}}, \"type\": \"bar\"}], \"barpolar\": [{\"marker\": {\"line\": {\"color\": \"#E5ECF6\", \"width\": 0.5}}, \"type\": \"barpolar\"}], \"carpet\": [{\"aaxis\": {\"endlinecolor\": \"#2a3f5f\", \"gridcolor\": \"white\", \"linecolor\": \"white\", \"minorgridcolor\": \"white\", \"startlinecolor\": \"#2a3f5f\"}, \"baxis\": {\"endlinecolor\": \"#2a3f5f\", \"gridcolor\": \"white\", \"linecolor\": \"white\", \"minorgridcolor\": \"white\", \"startlinecolor\": \"#2a3f5f\"}, \"type\": \"carpet\"}], \"choropleth\": [{\"colorbar\": {\"outlinewidth\": 0, \"ticks\": \"\"}, \"type\": \"choropleth\"}], \"contour\": [{\"colorbar\": {\"outlinewidth\": 0, \"ticks\": \"\"}, \"colorscale\": [[0.0, \"#0d0887\"], [0.1111111111111111, \"#46039f\"], [0.2222222222222222, \"#7201a8\"], [0.3333333333333333, \"#9c179e\"], [0.4444444444444444, \"#bd3786\"], [0.5555555555555556, \"#d8576b\"], [0.6666666666666666, \"#ed7953\"], [0.7777777777777778, \"#fb9f3a\"], [0.8888888888888888, \"#fdca26\"], [1.0, \"#f0f921\"]], \"type\": \"contour\"}], \"contourcarpet\": [{\"colorbar\": {\"outlinewidth\": 0, \"ticks\": \"\"}, \"type\": \"contourcarpet\"}], \"heatmap\": [{\"colorbar\": {\"outlinewidth\": 0, \"ticks\": \"\"}, \"colorscale\": [[0.0, \"#0d0887\"], [0.1111111111111111, \"#46039f\"], [0.2222222222222222, \"#7201a8\"], [0.3333333333333333, \"#9c179e\"], [0.4444444444444444, \"#bd3786\"], [0.5555555555555556, \"#d8576b\"], [0.6666666666666666, \"#ed7953\"], [0.7777777777777778, \"#fb9f3a\"], [0.8888888888888888, \"#fdca26\"], [1.0, \"#f0f921\"]], \"type\": \"heatmap\"}], \"heatmapgl\": [{\"colorbar\": {\"outlinewidth\": 0, \"ticks\": \"\"}, \"colorscale\": [[0.0, \"#0d0887\"], [0.1111111111111111, \"#46039f\"], [0.2222222222222222, \"#7201a8\"], [0.3333333333333333, \"#9c179e\"], [0.4444444444444444, \"#bd3786\"], [0.5555555555555556, \"#d8576b\"], [0.6666666666666666, \"#ed7953\"], [0.7777777777777778, \"#fb9f3a\"], [0.8888888888888888, \"#fdca26\"], [1.0, \"#f0f921\"]], \"type\": \"heatmapgl\"}], \"histogram\": [{\"marker\": {\"colorbar\": {\"outlinewidth\": 0, \"ticks\": \"\"}}, \"type\": \"histogram\"}], \"histogram2d\": [{\"colorbar\": {\"outlinewidth\": 0, \"ticks\": \"\"}, \"colorscale\": [[0.0, \"#0d0887\"], [0.1111111111111111, \"#46039f\"], [0.2222222222222222, \"#7201a8\"], [0.3333333333333333, \"#9c179e\"], [0.4444444444444444, \"#bd3786\"], [0.5555555555555556, \"#d8576b\"], [0.6666666666666666, \"#ed7953\"], [0.7777777777777778, \"#fb9f3a\"], [0.8888888888888888, \"#fdca26\"], [1.0, \"#f0f921\"]], \"type\": \"histogram2d\"}], \"histogram2dcontour\": [{\"colorbar\": {\"outlinewidth\": 0, \"ticks\": \"\"}, \"colorscale\": [[0.0, \"#0d0887\"], [0.1111111111111111, \"#46039f\"], [0.2222222222222222, \"#7201a8\"], [0.3333333333333333, \"#9c179e\"], [0.4444444444444444, \"#bd3786\"], [0.5555555555555556, \"#d8576b\"], [0.6666666666666666, \"#ed7953\"], [0.7777777777777778, \"#fb9f3a\"], [0.8888888888888888, \"#fdca26\"], [1.0, \"#f0f921\"]], \"type\": \"histogram2dcontour\"}], \"mesh3d\": [{\"colorbar\": {\"outlinewidth\": 0, \"ticks\": \"\"}, \"type\": \"mesh3d\"}], \"parcoords\": [{\"line\": {\"colorbar\": {\"outlinewidth\": 0, \"ticks\": \"\"}}, \"type\": \"parcoords\"}], \"pie\": [{\"automargin\": true, \"type\": \"pie\"}], \"scatter\": [{\"marker\": {\"colorbar\": {\"outlinewidth\": 0, \"ticks\": \"\"}}, \"type\": \"scatter\"}], \"scatter3d\": [{\"line\": {\"colorbar\": {\"outlinewidth\": 0, \"ticks\": \"\"}}, \"marker\": {\"colorbar\": {\"outlinewidth\": 0, \"ticks\": \"\"}}, \"type\": \"scatter3d\"}], \"scattercarpet\": [{\"marker\": {\"colorbar\": {\"outlinewidth\": 0, \"ticks\": \"\"}}, \"type\": \"scattercarpet\"}], \"scattergeo\": [{\"marker\": {\"colorbar\": {\"outlinewidth\": 0, \"ticks\": \"\"}}, \"type\": \"scattergeo\"}], \"scattergl\": [{\"marker\": {\"colorbar\": {\"outlinewidth\": 0, \"ticks\": \"\"}}, \"type\": \"scattergl\"}], \"scattermapbox\": [{\"marker\": {\"colorbar\": {\"outlinewidth\": 0, \"ticks\": \"\"}}, \"type\": \"scattermapbox\"}], \"scatterpolar\": [{\"marker\": {\"colorbar\": {\"outlinewidth\": 0, \"ticks\": \"\"}}, \"type\": \"scatterpolar\"}], \"scatterpolargl\": [{\"marker\": {\"colorbar\": {\"outlinewidth\": 0, \"ticks\": \"\"}}, \"type\": \"scatterpolargl\"}], \"scatterternary\": [{\"marker\": {\"colorbar\": {\"outlinewidth\": 0, \"ticks\": \"\"}}, \"type\": \"scatterternary\"}], \"surface\": [{\"colorbar\": {\"outlinewidth\": 0, \"ticks\": \"\"}, \"colorscale\": [[0.0, \"#0d0887\"], [0.1111111111111111, \"#46039f\"], [0.2222222222222222, \"#7201a8\"], [0.3333333333333333, \"#9c179e\"], [0.4444444444444444, \"#bd3786\"], [0.5555555555555556, \"#d8576b\"], [0.6666666666666666, \"#ed7953\"], [0.7777777777777778, \"#fb9f3a\"], [0.8888888888888888, \"#fdca26\"], [1.0, \"#f0f921\"]], \"type\": \"surface\"}], \"table\": [{\"cells\": {\"fill\": {\"color\": \"#EBF0F8\"}, \"line\": {\"color\": \"white\"}}, \"header\": {\"fill\": {\"color\": \"#C8D4E3\"}, \"line\": {\"color\": \"white\"}}, \"type\": \"table\"}]}, \"layout\": {\"annotationdefaults\": {\"arrowcolor\": \"#2a3f5f\", \"arrowhead\": 0, \"arrowwidth\": 1}, \"coloraxis\": {\"colorbar\": {\"outlinewidth\": 0, \"ticks\": \"\"}}, \"colorscale\": {\"diverging\": [[0, \"#8e0152\"], [0.1, \"#c51b7d\"], [0.2, \"#de77ae\"], [0.3, \"#f1b6da\"], [0.4, \"#fde0ef\"], [0.5, \"#f7f7f7\"], [0.6, \"#e6f5d0\"], [0.7, \"#b8e186\"], [0.8, \"#7fbc41\"], [0.9, \"#4d9221\"], [1, \"#276419\"]], \"sequential\": [[0.0, \"#0d0887\"], [0.1111111111111111, \"#46039f\"], [0.2222222222222222, \"#7201a8\"], [0.3333333333333333, \"#9c179e\"], [0.4444444444444444, \"#bd3786\"], [0.5555555555555556, \"#d8576b\"], [0.6666666666666666, \"#ed7953\"], [0.7777777777777778, \"#fb9f3a\"], [0.8888888888888888, \"#fdca26\"], [1.0, \"#f0f921\"]], \"sequentialminus\": [[0.0, \"#0d0887\"], [0.1111111111111111, \"#46039f\"], [0.2222222222222222, \"#7201a8\"], [0.3333333333333333, \"#9c179e\"], [0.4444444444444444, \"#bd3786\"], [0.5555555555555556, \"#d8576b\"], [0.6666666666666666, \"#ed7953\"], [0.7777777777777778, \"#fb9f3a\"], [0.8888888888888888, \"#fdca26\"], [1.0, \"#f0f921\"]]}, \"colorway\": [\"#636efa\", \"#EF553B\", \"#00cc96\", \"#ab63fa\", \"#FFA15A\", \"#19d3f3\", \"#FF6692\", \"#B6E880\", \"#FF97FF\", \"#FECB52\"], \"font\": {\"color\": \"#2a3f5f\"}, \"geo\": {\"bgcolor\": \"white\", \"lakecolor\": \"white\", \"landcolor\": \"#E5ECF6\", \"showlakes\": true, \"showland\": true, \"subunitcolor\": \"white\"}, \"hoverlabel\": {\"align\": \"left\"}, \"hovermode\": \"closest\", \"mapbox\": {\"style\": \"light\"}, \"paper_bgcolor\": \"white\", \"plot_bgcolor\": \"#E5ECF6\", \"polar\": {\"angularaxis\": {\"gridcolor\": \"white\", \"linecolor\": \"white\", \"ticks\": \"\"}, \"bgcolor\": \"#E5ECF6\", \"radialaxis\": {\"gridcolor\": \"white\", \"linecolor\": \"white\", \"ticks\": \"\"}}, \"scene\": {\"xaxis\": {\"backgroundcolor\": \"#E5ECF6\", \"gridcolor\": \"white\", \"gridwidth\": 2, \"linecolor\": \"white\", \"showbackground\": true, \"ticks\": \"\", \"zerolinecolor\": \"white\"}, \"yaxis\": {\"backgroundcolor\": \"#E5ECF6\", \"gridcolor\": \"white\", \"gridwidth\": 2, \"linecolor\": \"white\", \"showbackground\": true, \"ticks\": \"\", \"zerolinecolor\": \"white\"}, \"zaxis\": {\"backgroundcolor\": \"#E5ECF6\", \"gridcolor\": \"white\", \"gridwidth\": 2, \"linecolor\": \"white\", \"showbackground\": true, \"ticks\": \"\", \"zerolinecolor\": \"white\"}}, \"shapedefaults\": {\"line\": {\"color\": \"#2a3f5f\"}}, \"ternary\": {\"aaxis\": {\"gridcolor\": \"white\", \"linecolor\": \"white\", \"ticks\": \"\"}, \"baxis\": {\"gridcolor\": \"white\", \"linecolor\": \"white\", \"ticks\": \"\"}, \"bgcolor\": \"#E5ECF6\", \"caxis\": {\"gridcolor\": \"white\", \"linecolor\": \"white\", \"ticks\": \"\"}}, \"title\": {\"x\": 0.05}, \"xaxis\": {\"automargin\": true, \"gridcolor\": \"white\", \"linecolor\": \"white\", \"ticks\": \"\", \"title\": {\"standoff\": 15}, \"zerolinecolor\": \"white\", \"zerolinewidth\": 2}, \"yaxis\": {\"automargin\": true, \"gridcolor\": \"white\", \"linecolor\": \"white\", \"ticks\": \"\", \"title\": {\"standoff\": 15}, \"zerolinecolor\": \"white\", \"zerolinewidth\": 2}}}, \"xaxis\": {\"anchor\": \"y\", \"domain\": [0.0, 1.0], \"title\": {\"text\": \"index\"}}, \"yaxis\": {\"anchor\": \"x\", \"domain\": [0.0, 1.0], \"title\": {\"text\": \"value\"}}},\n",
       "                        {\"responsive\": true}\n",
       "                    ).then(function(){\n",
       "                            \n",
       "var gd = document.getElementById('881c0089-0afb-4aa5-b7a8-a541d54133cd');\n",
       "var x = new MutationObserver(function (mutations, observer) {{\n",
       "        var display = window.getComputedStyle(gd).display;\n",
       "        if (!display || display === 'none') {{\n",
       "            console.log([gd, 'removed!']);\n",
       "            Plotly.purge(gd);\n",
       "            observer.disconnect();\n",
       "        }}\n",
       "}});\n",
       "\n",
       "// Listen for the removal of the full notebook cells\n",
       "var notebookContainer = gd.closest('#notebook-container');\n",
       "if (notebookContainer) {{\n",
       "    x.observe(notebookContainer, {childList: true});\n",
       "}}\n",
       "\n",
       "// Listen for the clearing of the current output cell\n",
       "var outputEl = gd.closest('.output');\n",
       "if (outputEl) {{\n",
       "    x.observe(outputEl, {childList: true});\n",
       "}}\n",
       "\n",
       "                        })\n",
       "                };\n",
       "                });\n",
       "            </script>\n",
       "        </div>"
      ]
     },
     "metadata": {},
     "output_type": "display_data"
    }
   ],
   "source": [
    "px.line(covid_data.groupby('Date')['Confirmed'].sum())\n",
    "px.line(covid_data.groupby('Date')['Death'].sum())\n",
    "px.line(covid_data.groupby('Date')['Recovered'].sum())"
   ]
  },
  {
   "cell_type": "code",
   "execution_count": 30,
   "metadata": {},
   "outputs": [
    {
     "data": {
      "text/html": [
       "<div>\n",
       "<style scoped>\n",
       "    .dataframe tbody tr th:only-of-type {\n",
       "        vertical-align: middle;\n",
       "    }\n",
       "\n",
       "    .dataframe tbody tr th {\n",
       "        vertical-align: top;\n",
       "    }\n",
       "\n",
       "    .dataframe thead th {\n",
       "        text-align: right;\n",
       "    }\n",
       "</style>\n",
       "<table border=\"1\" class=\"dataframe\">\n",
       "  <thead>\n",
       "    <tr style=\"text-align: right;\">\n",
       "      <th></th>\n",
       "      <th>Lat</th>\n",
       "      <th>Long</th>\n",
       "      <th>Confirmed</th>\n",
       "      <th>Death</th>\n",
       "      <th>Recovered</th>\n",
       "    </tr>\n",
       "    <tr>\n",
       "      <th>Date</th>\n",
       "      <th></th>\n",
       "      <th></th>\n",
       "      <th></th>\n",
       "      <th></th>\n",
       "      <th></th>\n",
       "    </tr>\n",
       "  </thead>\n",
       "  <tbody>\n",
       "    <tr>\n",
       "      <th>1/22/20</th>\n",
       "      <td>5625.379563</td>\n",
       "      <td>5995.278262</td>\n",
       "      <td>555</td>\n",
       "      <td>17</td>\n",
       "      <td>28.000000</td>\n",
       "    </tr>\n",
       "    <tr>\n",
       "      <th>1/23/20</th>\n",
       "      <td>5625.379563</td>\n",
       "      <td>5995.278262</td>\n",
       "      <td>654</td>\n",
       "      <td>18</td>\n",
       "      <td>30.000000</td>\n",
       "    </tr>\n",
       "    <tr>\n",
       "      <th>1/24/20</th>\n",
       "      <td>5625.379563</td>\n",
       "      <td>5995.278262</td>\n",
       "      <td>941</td>\n",
       "      <td>26</td>\n",
       "      <td>36.000000</td>\n",
       "    </tr>\n",
       "    <tr>\n",
       "      <th>1/25/20</th>\n",
       "      <td>5625.379563</td>\n",
       "      <td>5995.278262</td>\n",
       "      <td>1434</td>\n",
       "      <td>42</td>\n",
       "      <td>43.000000</td>\n",
       "    </tr>\n",
       "    <tr>\n",
       "      <th>1/26/20</th>\n",
       "      <td>5625.379563</td>\n",
       "      <td>5995.278262</td>\n",
       "      <td>2118</td>\n",
       "      <td>56</td>\n",
       "      <td>102.000000</td>\n",
       "    </tr>\n",
       "  </tbody>\n",
       "</table>\n",
       "</div>"
      ],
      "text/plain": [
       "                Lat        Long  Confirmed  Death  Recovered\n",
       "Date                                                        \n",
       "1/22/20 5625.379563 5995.278262        555     17  28.000000\n",
       "1/23/20 5625.379563 5995.278262        654     18  30.000000\n",
       "1/24/20 5625.379563 5995.278262        941     26  36.000000\n",
       "1/25/20 5625.379563 5995.278262       1434     42  43.000000\n",
       "1/26/20 5625.379563 5995.278262       2118     56 102.000000"
      ]
     },
     "execution_count": 30,
     "metadata": {},
     "output_type": "execute_result"
    }
   ],
   "source": [
    "covid_data_by_date.head()"
   ]
  },
  {
   "cell_type": "markdown",
   "metadata": {},
   "source": [
    "### CASES ON A GIVEN DATE GLOBALLY"
   ]
  },
  {
   "cell_type": "code",
   "execution_count": 31,
   "metadata": {},
   "outputs": [
    {
     "data": {
      "text/plain": [
       "10871926"
      ]
     },
     "execution_count": 31,
     "metadata": {},
     "output_type": "execute_result"
    }
   ],
   "source": [
    "given_date = '7/2/20'\n",
    "covid_data_by_date.loc[given_date, 'Confirmed']"
   ]
  },
  {
   "cell_type": "markdown",
   "metadata": {},
   "source": [
    "### CASES ON A GIVEN DATE COUNTRY WISE\n",
    "<span style=\"color:yellow\">Originally the plan was to display all the data but the huge number of country/regions made it hard to present the data perfectly. <br>Thus the representation was changed to displaying only top and bottom 10 country/regions</span>"
   ]
  },
  {
   "cell_type": "code",
   "execution_count": 87,
   "metadata": {},
   "outputs": [
    {
     "data": {
      "text/html": [
       "<div>\n",
       "<style scoped>\n",
       "    .dataframe tbody tr th:only-of-type {\n",
       "        vertical-align: middle;\n",
       "    }\n",
       "\n",
       "    .dataframe tbody tr th {\n",
       "        vertical-align: top;\n",
       "    }\n",
       "\n",
       "    .dataframe thead th {\n",
       "        text-align: right;\n",
       "    }\n",
       "</style>\n",
       "<table border=\"1\" class=\"dataframe\">\n",
       "  <thead>\n",
       "    <tr style=\"text-align: right;\">\n",
       "      <th></th>\n",
       "      <th></th>\n",
       "      <th>Lat</th>\n",
       "      <th>Long</th>\n",
       "      <th>Counts</th>\n",
       "    </tr>\n",
       "    <tr>\n",
       "      <th>Country/Region</th>\n",
       "      <th>Date</th>\n",
       "      <th></th>\n",
       "      <th></th>\n",
       "      <th></th>\n",
       "    </tr>\n",
       "  </thead>\n",
       "  <tbody>\n",
       "    <tr>\n",
       "      <th rowspan=\"5\" valign=\"top\">Afghanistan</th>\n",
       "      <th>1/22/20</th>\n",
       "      <td>33.000000</td>\n",
       "      <td>65.000000</td>\n",
       "      <td>0</td>\n",
       "    </tr>\n",
       "    <tr>\n",
       "      <th>1/23/20</th>\n",
       "      <td>33.000000</td>\n",
       "      <td>65.000000</td>\n",
       "      <td>0</td>\n",
       "    </tr>\n",
       "    <tr>\n",
       "      <th>1/24/20</th>\n",
       "      <td>33.000000</td>\n",
       "      <td>65.000000</td>\n",
       "      <td>0</td>\n",
       "    </tr>\n",
       "    <tr>\n",
       "      <th>1/25/20</th>\n",
       "      <td>33.000000</td>\n",
       "      <td>65.000000</td>\n",
       "      <td>0</td>\n",
       "    </tr>\n",
       "    <tr>\n",
       "      <th>1/26/20</th>\n",
       "      <td>33.000000</td>\n",
       "      <td>65.000000</td>\n",
       "      <td>0</td>\n",
       "    </tr>\n",
       "    <tr>\n",
       "      <th>...</th>\n",
       "      <th>...</th>\n",
       "      <td>...</td>\n",
       "      <td>...</td>\n",
       "      <td>...</td>\n",
       "    </tr>\n",
       "    <tr>\n",
       "      <th rowspan=\"5\" valign=\"top\">Zimbabwe</th>\n",
       "      <th>6/7/20</th>\n",
       "      <td>-20.000000</td>\n",
       "      <td>30.000000</td>\n",
       "      <td>282</td>\n",
       "    </tr>\n",
       "    <tr>\n",
       "      <th>6/8/20</th>\n",
       "      <td>-20.000000</td>\n",
       "      <td>30.000000</td>\n",
       "      <td>287</td>\n",
       "    </tr>\n",
       "    <tr>\n",
       "      <th>6/9/20</th>\n",
       "      <td>-20.000000</td>\n",
       "      <td>30.000000</td>\n",
       "      <td>314</td>\n",
       "    </tr>\n",
       "    <tr>\n",
       "      <th>7/1/20</th>\n",
       "      <td>-20.000000</td>\n",
       "      <td>30.000000</td>\n",
       "      <td>605</td>\n",
       "    </tr>\n",
       "    <tr>\n",
       "      <th>7/2/20</th>\n",
       "      <td>-20.000000</td>\n",
       "      <td>30.000000</td>\n",
       "      <td>617</td>\n",
       "    </tr>\n",
       "  </tbody>\n",
       "</table>\n",
       "<p>30644 rows × 3 columns</p>\n",
       "</div>"
      ],
      "text/plain": [
       "                              Lat      Long  Counts\n",
       "Country/Region Date                                \n",
       "Afghanistan    1/22/20  33.000000 65.000000       0\n",
       "               1/23/20  33.000000 65.000000       0\n",
       "               1/24/20  33.000000 65.000000       0\n",
       "               1/25/20  33.000000 65.000000       0\n",
       "               1/26/20  33.000000 65.000000       0\n",
       "...                           ...       ...     ...\n",
       "Zimbabwe       6/7/20  -20.000000 30.000000     282\n",
       "               6/8/20  -20.000000 30.000000     287\n",
       "               6/9/20  -20.000000 30.000000     314\n",
       "               7/1/20  -20.000000 30.000000     605\n",
       "               7/2/20  -20.000000 30.000000     617\n",
       "\n",
       "[30644 rows x 3 columns]"
      ]
     },
     "execution_count": 87,
     "metadata": {},
     "output_type": "execute_result"
    }
   ],
   "source": [
    "# given_date = '1/22/20'\n",
    "melted_confirmed_data_grouped_by_country_and_date.loc[:].loc[given_date, 'Counts']"
   ]
  },
  {
   "cell_type": "code",
   "execution_count": 15,
   "metadata": {
    "collapsed": true
   },
   "outputs": [
    {
     "data": {
      "text/html": [
       "<div>\n",
       "<style scoped>\n",
       "    .dataframe tbody tr th:only-of-type {\n",
       "        vertical-align: middle;\n",
       "    }\n",
       "\n",
       "    .dataframe tbody tr th {\n",
       "        vertical-align: top;\n",
       "    }\n",
       "\n",
       "    .dataframe thead th {\n",
       "        text-align: right;\n",
       "    }\n",
       "</style>\n",
       "<table border=\"1\" class=\"dataframe\">\n",
       "  <thead>\n",
       "    <tr style=\"text-align: right;\">\n",
       "      <th></th>\n",
       "      <th></th>\n",
       "      <th>Lat</th>\n",
       "      <th>Long</th>\n",
       "      <th>Confirmed</th>\n",
       "    </tr>\n",
       "    <tr>\n",
       "      <th>Date</th>\n",
       "      <th>Country/Region</th>\n",
       "      <th></th>\n",
       "      <th></th>\n",
       "      <th></th>\n",
       "    </tr>\n",
       "  </thead>\n",
       "  <tbody>\n",
       "    <tr>\n",
       "      <th rowspan=\"5\" valign=\"top\">1/22/20</th>\n",
       "      <th>Afghanistan</th>\n",
       "      <td>33.000000</td>\n",
       "      <td>65.000000</td>\n",
       "      <td>0</td>\n",
       "    </tr>\n",
       "    <tr>\n",
       "      <th>Albania</th>\n",
       "      <td>41.153300</td>\n",
       "      <td>20.168300</td>\n",
       "      <td>0</td>\n",
       "    </tr>\n",
       "    <tr>\n",
       "      <th>Algeria</th>\n",
       "      <td>28.033900</td>\n",
       "      <td>1.659600</td>\n",
       "      <td>0</td>\n",
       "    </tr>\n",
       "    <tr>\n",
       "      <th>Andorra</th>\n",
       "      <td>42.506300</td>\n",
       "      <td>1.521800</td>\n",
       "      <td>0</td>\n",
       "    </tr>\n",
       "    <tr>\n",
       "      <th>Angola</th>\n",
       "      <td>-11.202700</td>\n",
       "      <td>17.873900</td>\n",
       "      <td>0</td>\n",
       "    </tr>\n",
       "    <tr>\n",
       "      <th>...</th>\n",
       "      <th>...</th>\n",
       "      <td>...</td>\n",
       "      <td>...</td>\n",
       "      <td>...</td>\n",
       "    </tr>\n",
       "    <tr>\n",
       "      <th rowspan=\"5\" valign=\"top\">7/7/20</th>\n",
       "      <th>West Bank and Gaza</th>\n",
       "      <td>31.952200</td>\n",
       "      <td>35.233200</td>\n",
       "      <td>4647</td>\n",
       "    </tr>\n",
       "    <tr>\n",
       "      <th>Western Sahara</th>\n",
       "      <td>24.215500</td>\n",
       "      <td>-12.885800</td>\n",
       "      <td>10</td>\n",
       "    </tr>\n",
       "    <tr>\n",
       "      <th>Yemen</th>\n",
       "      <td>15.552727</td>\n",
       "      <td>48.516388</td>\n",
       "      <td>1297</td>\n",
       "    </tr>\n",
       "    <tr>\n",
       "      <th>Zambia</th>\n",
       "      <td>-15.416700</td>\n",
       "      <td>28.283300</td>\n",
       "      <td>1895</td>\n",
       "    </tr>\n",
       "    <tr>\n",
       "      <th>Zimbabwe</th>\n",
       "      <td>-20.000000</td>\n",
       "      <td>30.000000</td>\n",
       "      <td>787</td>\n",
       "    </tr>\n",
       "  </tbody>\n",
       "</table>\n",
       "<p>31584 rows × 3 columns</p>\n",
       "</div>"
      ],
      "text/plain": [
       "                                  Lat       Long  Confirmed\n",
       "Date    Country/Region                                     \n",
       "1/22/20 Afghanistan         33.000000  65.000000          0\n",
       "        Albania             41.153300  20.168300          0\n",
       "        Algeria             28.033900   1.659600          0\n",
       "        Andorra             42.506300   1.521800          0\n",
       "        Angola             -11.202700  17.873900          0\n",
       "...                               ...        ...        ...\n",
       "7/7/20  West Bank and Gaza  31.952200  35.233200       4647\n",
       "        Western Sahara      24.215500 -12.885800         10\n",
       "        Yemen               15.552727  48.516388       1297\n",
       "        Zambia             -15.416700  28.283300       1895\n",
       "        Zimbabwe           -20.000000  30.000000        787\n",
       "\n",
       "[31584 rows x 3 columns]"
      ]
     },
     "execution_count": 15,
     "metadata": {},
     "output_type": "execute_result"
    }
   ],
   "source": [
    "melted_confirmed_data_grouped_by_date_and_country"
   ]
  },
  {
   "cell_type": "code",
   "execution_count": 37,
   "metadata": {},
   "outputs": [
    {
     "data": {
      "text/plain": [
       "35"
      ]
     },
     "execution_count": 37,
     "metadata": {},
     "output_type": "execute_result"
    }
   ],
   "source": [
    "covid_data_by_date['Death'].loc['1/22/20':'1/23/20'].sum()"
   ]
  },
  {
   "cell_type": "code",
   "execution_count": 36,
   "metadata": {},
   "outputs": [
    {
     "data": {
      "text/plain": [
       "Date\n",
       "1/22/20        17\n",
       "1/23/20        18\n",
       "1/24/20        26\n",
       "1/25/20        42\n",
       "1/26/20        56\n",
       "            ...  \n",
       "7/5/20     534280\n",
       "7/6/20     538058\n",
       "7/7/20     544163\n",
       "7/8/20     549468\n",
       "7/9/20     554924\n",
       "Name: Death, Length: 173, dtype: int64"
      ]
     },
     "execution_count": 36,
     "metadata": {},
     "output_type": "execute_result"
    }
   ],
   "source": [
    "covid_data_by_date['Death']"
   ]
  },
  {
   "cell_type": "code",
   "execution_count": null,
   "metadata": {},
   "outputs": [],
   "source": []
  },
  {
   "cell_type": "code",
   "execution_count": null,
   "metadata": {},
   "outputs": [],
   "source": [
    "total_confirmed_cases_on_a_date_countrywise_sorted = \\\n",
    "    total_confirmed_cases_on_a_date_countrywise.sort_values(by = 'Counts', ascending = False)[:10]\n",
    "countries = total_confirmed_cases_on_a_date_countrywise_sorted.index\n",
    "counts = total_confirmed_cases_on_a_date_countrywise_sorted['Counts']\n",
    "mp.rc('font', size=10)\n",
    "mp.figure(figsize = (15, 8))\n",
    "mp.bar(countries, counts, color = '#03dffc')\n",
    "mp.ylabel('Confirmed Cases', fontsize = 15)\n",
    "mp.xlabel('Countries', fontsize = 15)\n",
    "mp.title(f'Number of Confirmed Cases on {given_date}', fontsize = 15)\n",
    "mp.tight_layout()\n",
    "mp.yticks([i for i in range(0, max(counts)+2, 2)])\n",
    "for index,data in enumerate(counts):\n",
    "    mp.text(x=index-0.1 , y =data+0.2 , s=f\"{data}\" , fontdict=dict(fontsize=20))"
   ]
  },
  {
   "cell_type": "code",
   "execution_count": 7,
   "metadata": {},
   "outputs": [],
   "source": [
    "def num_cases_on_a_given_date_country_wise(data, given_date, type_of_case, ascending=False, num_countries = 10):\n",
    "    data_grouped_by_date_and_country = data.groupby(['Date', 'Country/Region']).sum()\n",
    "    data_on_a_date_country_wise = data_grouped_by_date_and_country.loc[given_date, :]\n",
    "    data_on_a_date_country_wise = \\\n",
    "        data_on_a_date_country_wise.sort_values(by = type_of_case,\n",
    "                                                ascending = ascending)[:min(num_countries, len(data_on_a_date_country_wise))]\n",
    "    countries = data_on_a_date_country_wise.index\n",
    "    case_counts = data_on_a_date_country_wise[type_of_case]\n",
    "    mp.rc('font', size=10)\n",
    "    mp.figure(figsize = (15, 8))\n",
    "    mp.bar(countries, case_counts, color = '#03dffc')\n",
    "    mp.ylabel(f'{type_of_case} Cases', fontsize = 15)\n",
    "    mp.xlabel('Countries', fontsize = 15)\n",
    "    mp.title(f'Number of {type_of_case} Cases on {given_date}', fontsize = 15)\n",
    "    mp.tight_layout()\n",
    "    mp.yticks([i for i in range(0, len(case_counts) + 2, 2)])\n",
    "    for index, data in enumerate(case_counts):\n",
    "        mp.text(x = index - 0.35, y = data, s = f'{data}', fontdict = dict(fontsize = 13))"
   ]
  },
  {
   "cell_type": "code",
   "execution_count": 11,
   "metadata": {},
   "outputs": [
    {
     "data": {
      "image/png": "[encoded data removed]",
      "text/plain": [
       "<Figure size 1080x576 with 1 Axes>"
      ]
     },
     "metadata": {},
     "output_type": "display_data"
    }
   ],
   "source": [
    "num_cases_on_a_given_date_country_wise(confirmed_data, '7/9/20', 'Confirmed', ascending = True)"
   ]
  },
  {
   "cell_type": "code",
   "execution_count": null,
   "metadata": {},
   "outputs": [],
   "source": []
  },
  {
   "cell_type": "code",
   "execution_count": null,
   "metadata": {},
   "outputs": [],
   "source": []
  },
  {
   "cell_type": "code",
   "execution_count": null,
   "metadata": {},
   "outputs": [],
   "source": []
  },
  {
   "cell_type": "code",
   "execution_count": null,
   "metadata": {},
   "outputs": [],
   "source": []
  },
  {
   "cell_type": "code",
   "execution_count": 15,
   "metadata": {},
   "outputs": [],
   "source": [
    "def num_cases_on_a_given_date_country_wise_with_threshold(data, given_date, type_of_case, ascending=False, num_countries = 10, threshold = 0):\n",
    "    data_grouped_by_date_and_country = data.groupby(['Date', 'Country/Region']).sum()\n",
    "    \n",
    "    data_on_a_date_country_wise = data_grouped_by_date_and_country.loc[given_date, :]\n",
    "    filt = data_on_a_date_country_wise[type_of_case] >= threshold\n",
    "    data_on_a_date_country_wise = data_on_a_date_country_wise[filt]\n",
    "    data_on_a_date_country_wise = \\\n",
    "        data_on_a_date_country_wise.sort_values(by = type_of_case,\n",
    "                                                ascending = ascending)[:min(num_countries, len(data_on_a_date_country_wise))]\n",
    "    countries = data_on_a_date_country_wise.index\n",
    "    case_counts = data_on_a_date_country_wise[type_of_case]\n",
    "    mp.rc('font', size=10)\n",
    "    mp.figure(figsize = (15, 8))\n",
    "    mp.bar(countries, case_counts, color = '#03dffc')\n",
    "    mp.ylabel(f'{type_of_case} Cases', fontsize = 15)\n",
    "    mp.xlabel('Countries', fontsize = 15)\n",
    "    mp.title(f'Number of {type_of_case} Cases on {given_date}', fontsize = 15)\n",
    "    mp.tight_layout()\n",
    "    mp.yticks([i for i in range(0, len(case_counts) + 2, 2)])\n",
    "    for index, data in enumerate(case_counts):\n",
    "        mp.text(x = index - 0.35, y = data, s = f'{data}', fontdict = dict(fontsize = 13))"
   ]
  },
  {
   "cell_type": "code",
   "execution_count": 18,
   "metadata": {},
   "outputs": [
    {
     "data": {
      "image/png": "[encoded data removed]",
      "text/plain": [
       "<Figure size 1080x576 with 1 Axes>"
      ]
     },
     "metadata": {},
     "output_type": "display_data"
    }
   ],
   "source": [
    "num_cases_on_a_given_date_country_wise_with_threshold(confirmed_data, '7/9/20', 'Confirmed',num_countries = 12, ascending = False, threshold = 500)"
   ]
  },
  {
   "cell_type": "code",
   "execution_count": null,
   "metadata": {},
   "outputs": [],
   "source": []
  },
  {
   "cell_type": "code",
   "execution_count": null,
   "metadata": {},
   "outputs": [],
   "source": []
  },
  {
   "cell_type": "code",
   "execution_count": null,
   "metadata": {},
   "outputs": [],
   "source": []
  },
  {
   "cell_type": "markdown",
   "metadata": {},
   "source": [
    "### NUMBER OF CASES IN A SPAN OF DAYS\n",
    "#### NUMBER OF CASES GLOBALLY"
   ]
  },
  {
   "cell_type": "code",
   "execution_count": 42,
   "metadata": {},
   "outputs": [],
   "source": [
    "def cases_in_a_span_of_days(covid_data, date, time_delta):\n",
    "    from datetime import timedelta\n",
    "    data = covid_data.loc[date:date + timedelta(time_delta)]\n",
    "    mp.plot(data['Confirmed'])\n",
    "    mp.plot(data['Death'])\n",
    "    mp.plot(data['Recovered'])\n",
    "    mp.xlabel('Dates')\n",
    "    mp.ylabel('Cases')\n",
    "    mp.legend()\n",
    "    mp.show()"
   ]
  },
  {
   "cell_type": "code",
   "execution_count": 43,
   "metadata": {},
   "outputs": [
    {
     "ename": "TypeError",
     "evalue": "can only concatenate str (not \"datetime.timedelta\") to str",
     "output_type": "error",
     "traceback": [
      "\u001b[1;31m---------------------------------------------------------------------------\u001b[0m",
      "\u001b[1;31mTypeError\u001b[0m                                 Traceback (most recent call last)",
      "\u001b[1;32m<ipython-input-43-3edb45004a39>\u001b[0m in \u001b[0;36m<module>\u001b[1;34m\u001b[0m\n\u001b[1;32m----> 1\u001b[1;33m \u001b[0mcases_in_a_span_of_days\u001b[0m\u001b[1;33m(\u001b[0m\u001b[0mcovid_data\u001b[0m\u001b[1;33m,\u001b[0m \u001b[1;34m'5/1/20'\u001b[0m\u001b[1;33m,\u001b[0m \u001b[1;36m30\u001b[0m\u001b[1;33m)\u001b[0m\u001b[1;33m\u001b[0m\u001b[1;33m\u001b[0m\u001b[0m\n\u001b[0m",
      "\u001b[1;32m<ipython-input-42-1a32f460bdec>\u001b[0m in \u001b[0;36mcases_in_a_span_of_days\u001b[1;34m(covid_data, date, time_delta)\u001b[0m\n\u001b[0;32m      1\u001b[0m \u001b[1;32mdef\u001b[0m \u001b[0mcases_in_a_span_of_days\u001b[0m\u001b[1;33m(\u001b[0m\u001b[0mcovid_data\u001b[0m\u001b[1;33m,\u001b[0m \u001b[0mdate\u001b[0m\u001b[1;33m,\u001b[0m \u001b[0mtime_delta\u001b[0m\u001b[1;33m)\u001b[0m\u001b[1;33m:\u001b[0m\u001b[1;33m\u001b[0m\u001b[1;33m\u001b[0m\u001b[0m\n\u001b[0;32m      2\u001b[0m     \u001b[1;32mfrom\u001b[0m \u001b[0mdatetime\u001b[0m \u001b[1;32mimport\u001b[0m \u001b[0mtimedelta\u001b[0m\u001b[1;33m\u001b[0m\u001b[1;33m\u001b[0m\u001b[0m\n\u001b[1;32m----> 3\u001b[1;33m     \u001b[0mdata\u001b[0m \u001b[1;33m=\u001b[0m \u001b[0mcovid_data\u001b[0m\u001b[1;33m.\u001b[0m\u001b[0mloc\u001b[0m\u001b[1;33m[\u001b[0m\u001b[0mdate\u001b[0m\u001b[1;33m:\u001b[0m\u001b[0mdate\u001b[0m \u001b[1;33m+\u001b[0m \u001b[0mtimedelta\u001b[0m\u001b[1;33m(\u001b[0m\u001b[0mtime_delta\u001b[0m\u001b[1;33m)\u001b[0m\u001b[1;33m]\u001b[0m\u001b[1;33m\u001b[0m\u001b[1;33m\u001b[0m\u001b[0m\n\u001b[0m\u001b[0;32m      4\u001b[0m     \u001b[0mmp\u001b[0m\u001b[1;33m.\u001b[0m\u001b[0mplot\u001b[0m\u001b[1;33m(\u001b[0m\u001b[0mdata\u001b[0m\u001b[1;33m[\u001b[0m\u001b[1;34m'Confirmed'\u001b[0m\u001b[1;33m]\u001b[0m\u001b[1;33m)\u001b[0m\u001b[1;33m\u001b[0m\u001b[1;33m\u001b[0m\u001b[0m\n\u001b[0;32m      5\u001b[0m     \u001b[0mmp\u001b[0m\u001b[1;33m.\u001b[0m\u001b[0mplot\u001b[0m\u001b[1;33m(\u001b[0m\u001b[0mdata\u001b[0m\u001b[1;33m[\u001b[0m\u001b[1;34m'Death'\u001b[0m\u001b[1;33m]\u001b[0m\u001b[1;33m)\u001b[0m\u001b[1;33m\u001b[0m\u001b[1;33m\u001b[0m\u001b[0m\n",
      "\u001b[1;31mTypeError\u001b[0m: can only concatenate str (not \"datetime.timedelta\") to str"
     ]
    }
   ],
   "source": [
    "cases_in_a_span_of_days(covid_data, '5/1/20', 30)"
   ]
  },
  {
   "cell_type": "code",
   "execution_count": 45,
   "metadata": {},
   "outputs": [
    {
     "ename": "AttributeError",
     "evalue": "'Series' object has no attribute 'to_datetime'",
     "output_type": "error",
     "traceback": [
      "\u001b[1;31m---------------------------------------------------------------------------\u001b[0m",
      "\u001b[1;31mAttributeError\u001b[0m                            Traceback (most recent call last)",
      "\u001b[1;32m<ipython-input-45-18dd27d415e2>\u001b[0m in \u001b[0;36m<module>\u001b[1;34m\u001b[0m\n\u001b[1;32m----> 1\u001b[1;33m \u001b[0mcovid_data\u001b[0m\u001b[1;33m[\u001b[0m\u001b[1;34m'Date'\u001b[0m\u001b[1;33m]\u001b[0m\u001b[1;33m.\u001b[0m\u001b[0mto_datetime\u001b[0m\u001b[1;33m(\u001b[0m\u001b[1;33m)\u001b[0m\u001b[1;33m\u001b[0m\u001b[1;33m\u001b[0m\u001b[0m\n\u001b[0m",
      "\u001b[1;32m~\\anaconda3\\lib\\site-packages\\pandas\\core\\generic.py\u001b[0m in \u001b[0;36m__getattr__\u001b[1;34m(self, name)\u001b[0m\n\u001b[0;32m   5272\u001b[0m             \u001b[1;32mif\u001b[0m \u001b[0mself\u001b[0m\u001b[1;33m.\u001b[0m\u001b[0m_info_axis\u001b[0m\u001b[1;33m.\u001b[0m\u001b[0m_can_hold_identifiers_and_holds_name\u001b[0m\u001b[1;33m(\u001b[0m\u001b[0mname\u001b[0m\u001b[1;33m)\u001b[0m\u001b[1;33m:\u001b[0m\u001b[1;33m\u001b[0m\u001b[1;33m\u001b[0m\u001b[0m\n\u001b[0;32m   5273\u001b[0m                 \u001b[1;32mreturn\u001b[0m \u001b[0mself\u001b[0m\u001b[1;33m[\u001b[0m\u001b[0mname\u001b[0m\u001b[1;33m]\u001b[0m\u001b[1;33m\u001b[0m\u001b[1;33m\u001b[0m\u001b[0m\n\u001b[1;32m-> 5274\u001b[1;33m             \u001b[1;32mreturn\u001b[0m \u001b[0mobject\u001b[0m\u001b[1;33m.\u001b[0m\u001b[0m__getattribute__\u001b[0m\u001b[1;33m(\u001b[0m\u001b[0mself\u001b[0m\u001b[1;33m,\u001b[0m \u001b[0mname\u001b[0m\u001b[1;33m)\u001b[0m\u001b[1;33m\u001b[0m\u001b[1;33m\u001b[0m\u001b[0m\n\u001b[0m\u001b[0;32m   5275\u001b[0m \u001b[1;33m\u001b[0m\u001b[0m\n\u001b[0;32m   5276\u001b[0m     \u001b[1;32mdef\u001b[0m \u001b[0m__setattr__\u001b[0m\u001b[1;33m(\u001b[0m\u001b[0mself\u001b[0m\u001b[1;33m,\u001b[0m \u001b[0mname\u001b[0m\u001b[1;33m:\u001b[0m \u001b[0mstr\u001b[0m\u001b[1;33m,\u001b[0m \u001b[0mvalue\u001b[0m\u001b[1;33m)\u001b[0m \u001b[1;33m->\u001b[0m \u001b[1;32mNone\u001b[0m\u001b[1;33m:\u001b[0m\u001b[1;33m\u001b[0m\u001b[1;33m\u001b[0m\u001b[0m\n",
      "\u001b[1;31mAttributeError\u001b[0m: 'Series' object has no attribute 'to_datetime'"
     ]
    }
   ],
   "source": [
    "covid_data['Date'].to_datetime()"
   ]
  },
  {
   "cell_type": "code",
   "execution_count": null,
   "metadata": {},
   "outputs": [],
   "source": []
  },
  {
   "cell_type": "code",
   "execution_count": null,
   "metadata": {},
   "outputs": [],
   "source": []
  },
  {
   "cell_type": "code",
   "execution_count": null,
   "metadata": {},
   "outputs": [],
   "source": []
  },
  {
   "cell_type": "markdown",
   "metadata": {},
   "source": [
    "### MAP"
   ]
  },
  {
   "cell_type": "code",
   "execution_count": null,
   "metadata": {},
   "outputs": [],
   "source": [
    "def country_maps(country, )"
   ]
  },
  {
   "cell_type": "code",
   "execution_count": null,
   "metadata": {},
   "outputs": [],
   "source": []
  },
  {
   "cell_type": "code",
   "execution_count": 29,
   "metadata": {},
   "outputs": [],
   "source": [
    "confirmed_data_grouped_by_date_and_country = confirmed_data.groupby(['Date', 'Country/Region']).mean()"
   ]
  },
  {
   "cell_type": "code",
   "execution_count": 37,
   "metadata": {},
   "outputs": [
    {
     "data": {
      "text/html": [
       "<div>\n",
       "<style scoped>\n",
       "    .dataframe tbody tr th:only-of-type {\n",
       "        vertical-align: middle;\n",
       "    }\n",
       "\n",
       "    .dataframe tbody tr th {\n",
       "        vertical-align: top;\n",
       "    }\n",
       "\n",
       "    .dataframe thead th {\n",
       "        text-align: right;\n",
       "    }\n",
       "</style>\n",
       "<table border=\"1\" class=\"dataframe\">\n",
       "  <thead>\n",
       "    <tr style=\"text-align: right;\">\n",
       "      <th></th>\n",
       "      <th>Lat</th>\n",
       "      <th>Long</th>\n",
       "      <th>Confirmed</th>\n",
       "    </tr>\n",
       "    <tr>\n",
       "      <th>Country/Region</th>\n",
       "      <th></th>\n",
       "      <th></th>\n",
       "      <th></th>\n",
       "    </tr>\n",
       "  </thead>\n",
       "  <tbody>\n",
       "    <tr>\n",
       "      <th>Afghanistan</th>\n",
       "      <td>33.000000</td>\n",
       "      <td>65.000000</td>\n",
       "      <td>34194.000000</td>\n",
       "    </tr>\n",
       "    <tr>\n",
       "      <th>Albania</th>\n",
       "      <td>41.153300</td>\n",
       "      <td>20.168300</td>\n",
       "      <td>3278.000000</td>\n",
       "    </tr>\n",
       "    <tr>\n",
       "      <th>Algeria</th>\n",
       "      <td>28.033900</td>\n",
       "      <td>1.659600</td>\n",
       "      <td>18242.000000</td>\n",
       "    </tr>\n",
       "    <tr>\n",
       "      <th>Andorra</th>\n",
       "      <td>42.506300</td>\n",
       "      <td>1.521800</td>\n",
       "      <td>855.000000</td>\n",
       "    </tr>\n",
       "    <tr>\n",
       "      <th>Angola</th>\n",
       "      <td>-11.202700</td>\n",
       "      <td>17.873900</td>\n",
       "      <td>458.000000</td>\n",
       "    </tr>\n",
       "    <tr>\n",
       "      <th>...</th>\n",
       "      <td>...</td>\n",
       "      <td>...</td>\n",
       "      <td>...</td>\n",
       "    </tr>\n",
       "    <tr>\n",
       "      <th>West Bank and Gaza</th>\n",
       "      <td>31.952200</td>\n",
       "      <td>35.233200</td>\n",
       "      <td>5551.000000</td>\n",
       "    </tr>\n",
       "    <tr>\n",
       "      <th>Western Sahara</th>\n",
       "      <td>24.215500</td>\n",
       "      <td>-12.885800</td>\n",
       "      <td>10.000000</td>\n",
       "    </tr>\n",
       "    <tr>\n",
       "      <th>Yemen</th>\n",
       "      <td>15.552727</td>\n",
       "      <td>48.516388</td>\n",
       "      <td>1380.000000</td>\n",
       "    </tr>\n",
       "    <tr>\n",
       "      <th>Zambia</th>\n",
       "      <td>-15.416700</td>\n",
       "      <td>28.283300</td>\n",
       "      <td>1895.000000</td>\n",
       "    </tr>\n",
       "    <tr>\n",
       "      <th>Zimbabwe</th>\n",
       "      <td>-20.000000</td>\n",
       "      <td>30.000000</td>\n",
       "      <td>942.000000</td>\n",
       "    </tr>\n",
       "  </tbody>\n",
       "</table>\n",
       "<p>188 rows × 3 columns</p>\n",
       "</div>"
      ],
      "text/plain": [
       "                          Lat       Long    Confirmed\n",
       "Country/Region                                       \n",
       "Afghanistan         33.000000  65.000000 34194.000000\n",
       "Albania             41.153300  20.168300  3278.000000\n",
       "Algeria             28.033900   1.659600 18242.000000\n",
       "Andorra             42.506300   1.521800   855.000000\n",
       "Angola             -11.202700  17.873900   458.000000\n",
       "...                       ...        ...          ...\n",
       "West Bank and Gaza  31.952200  35.233200  5551.000000\n",
       "Western Sahara      24.215500 -12.885800    10.000000\n",
       "Yemen               15.552727  48.516388  1380.000000\n",
       "Zambia             -15.416700  28.283300  1895.000000\n",
       "Zimbabwe           -20.000000  30.000000   942.000000\n",
       "\n",
       "[188 rows x 3 columns]"
      ]
     },
     "execution_count": 37,
     "metadata": {},
     "output_type": "execute_result"
    }
   ],
   "source": [
    "confirmed_data_grouped_by_date_and_country.loc['7/10/20', :]"
   ]
  },
  {
   "cell_type": "code",
   "execution_count": null,
   "metadata": {},
   "outputs": [],
   "source": []
  },
  {
   "cell_type": "code",
   "execution_count": null,
   "metadata": {},
   "outputs": [],
   "source": []
  },
  {
   "cell_type": "code",
   "execution_count": null,
   "metadata": {},
   "outputs": [],
   "source": []
  },
  {
   "cell_type": "code",
   "execution_count": 51,
   "metadata": {},
   "outputs": [
    {
     "data": {
      "text/plain": [
       "Lat             21.000000\n",
       "Long            78.000000\n",
       "Confirmed   820916.000000\n",
       "Name: India, dtype: float64"
      ]
     },
     "execution_count": 51,
     "metadata": {},
     "output_type": "execute_result"
    }
   ],
   "source": [
    "confirmed_data_grouped_by_date_and_country.loc['7/10/20', :].loc['India']"
   ]
  },
  {
   "cell_type": "code",
   "execution_count": 50,
   "metadata": {},
   "outputs": [],
   "source": [
    "covid_map = fl.Map(location = [confirmed_data['Lat'].mean(), confirmed_data['Long'].mean()],\n",
    "      zoom_start = 5,\n",
    "      tiles = 'Stamen Toner')\n",
    "for _, row in confirmed_data_grouped_by_date_and_country.loc['7/10/20', :].loc['India'].iterrows():\n",
    "    fl.CircleMarker(\n",
    "        location = [row.Lat, row.Long],\n",
    "        radius = 5,\n",
    "        popup = row.index\n",
    " #       color = colours,\n",
    "#        fill = True,\n",
    "#        fill_colour = colours\n",
    "    ).add_to(covid_map)"
   ]
  },
  {
   "cell_type": "code",
   "execution_count": 48,
   "metadata": {
    "collapsed": true
   },
   "outputs": [
    {
     "data": {
      "text/html": [
       "<div style=\"width:100%;\"><div style=\"position:relative;width:100%;height:0;padding-bottom:60%;\"><span style=\"color:#565656\">Make this Notebook Trusted to load map: File -> Trust Notebook</span><iframe src=\"about:blank\" style=\"position:absolute;width:100%;height:100%;left:0;top:0;border:none !important;\" data-html=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 onload=\"this.contentDocument.open();this.contentDocument.write(atob(this.getAttribute('data-html')));this.contentDocument.close();\" allowfullscreen webkitallowfullscreen mozallowfullscreen></iframe></div></div>"
      ],
      "text/plain": [
       "<folium.folium.Map at 0x13490618a48>"
      ]
     },
     "execution_count": 48,
     "metadata": {},
     "output_type": "execute_result"
    }
   ],
   "source": [
    "covid_map"
   ]
  },
  {
   "cell_type": "code",
   "execution_count": null,
   "metadata": {},
   "outputs": [],
   "source": [
    "def colours(rows):\n",
    "    if rows"
   ]
  }
 ],
 "metadata": {
  "kernelspec": {
   "display_name": "Python 3",
   "language": "python",
   "name": "python3"
  },
  "language_info": {
   "codemirror_mode": {
    "name": "ipython",
    "version": 3
   },
   "file_extension": ".py",
   "mimetype": "text/x-python",
   "name": "python",
   "nbconvert_exporter": "python",
   "pygments_lexer": "ipython3",
   "version": "3.7.7"
  }
 },
 "nbformat": 4,
 "nbformat_minor": 4
}
